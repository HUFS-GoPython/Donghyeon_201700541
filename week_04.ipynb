{
  "nbformat": 4,
  "nbformat_minor": 0,
  "metadata": {
    "colab": {
      "name": "week_04.ipynb",
      "provenance": [],
      "collapsed_sections": []
    },
    "kernelspec": {
      "name": "python3",
      "display_name": "Python 3"
    },
    "language_info": {
      "name": "python"
    }
  },
  "cells": [
    {
      "cell_type": "markdown",
      "source": [
        "#Week_04"
      ],
      "metadata": {
        "id": "d7NPhU85bjEQ"
      }
    },
    {
      "cell_type": "markdown",
      "source": [
        "###NLTK"
      ],
      "metadata": {
        "id": "RcwSq_8Vbnii"
      }
    },
    {
      "cell_type": "code",
      "execution_count": 11,
      "metadata": {
        "id": "VIQtqkjc0Xoq",
        "colab": {
          "base_uri": "https://localhost:8080/"
        },
        "outputId": "18ed042b-d5f9-4fc8-fa27-633d7bd1dcf0"
      },
      "outputs": [
        {
          "output_type": "stream",
          "name": "stdout",
          "text": [
            "*** Introductory Examples for the NLTK Book ***\n",
            "Loading text1, ..., text9 and sent1, ..., sent9\n",
            "Type the name of the text or sentence to view it.\n",
            "Type: 'texts()' or 'sents()' to list the materials.\n",
            "text1: Moby Dick by Herman Melville 1851\n",
            "text2: Sense and Sensibility by Jane Austen 1811\n",
            "text3: The Book of Genesis\n",
            "text4: Inaugural Address Corpus\n",
            "text5: Chat Corpus\n",
            "text6: Monty Python and the Holy Grail\n",
            "text7: Wall Street Journal\n",
            "text8: Personals Corpus\n",
            "text9: The Man Who Was Thursday by G . K . Chesterton 1908\n"
          ]
        }
      ],
      "source": [
        "#  nltk book import\n",
        "import nltk\n",
        "nltk.download('book', quiet=True)\n",
        "from nltk import book"
      ]
    },
    {
      "cell_type": "markdown",
      "source": [
        "###함수 I\n",
        "- count(): 텍스트에서 어떤 요소의 개수를 세는\n",
        "- replace() : A -> B\n",
        "- strip() : 불필요한 공백, 등등 원하는 요소 제거하는 역할\n",
        "- find() : 원하는 문자열 찾기\n",
        "- index() : 원하는 문자열의 인덱스 반환"
      ],
      "metadata": {
        "id": "d5iZXHON2ViG"
      }
    },
    {
      "cell_type": "code",
      "source": [
        "# count()\n",
        "text1 = book.text1\n",
        "text1.count('the')"
      ],
      "metadata": {
        "colab": {
          "base_uri": "https://localhost:8080/"
        },
        "id": "14eQMPzQmp82",
        "outputId": "3faf5c39-0537-4bc6-b85b-41b20826cf81"
      },
      "execution_count": 12,
      "outputs": [
        {
          "output_type": "execute_result",
          "data": {
            "text/plain": [
              "13721"
            ]
          },
          "metadata": {},
          "execution_count": 12
        }
      ]
    },
    {
      "cell_type": "code",
      "source": [
        "text2 = book.text2\n",
        "text2.count('the)')"
      ],
      "metadata": {
        "colab": {
          "base_uri": "https://localhost:8080/"
        },
        "id": "Osz0iXsemp6U",
        "outputId": "8291f9d5-3f5e-46dc-e6b5-f73cddefb97a"
      },
      "execution_count": 13,
      "outputs": [
        {
          "output_type": "execute_result",
          "data": {
            "text/plain": [
              "0"
            ]
          },
          "metadata": {},
          "execution_count": 13
        }
      ]
    },
    {
      "cell_type": "code",
      "source": [
        "# replace(A, B)\n",
        "word = 'she'\n",
        "word = word.replace('s', 'S')"
      ],
      "metadata": {
        "id": "BzL7kx0Vmp3x"
      },
      "execution_count": 14,
      "outputs": []
    },
    {
      "cell_type": "code",
      "source": [
        "word"
      ],
      "metadata": {
        "colab": {
          "base_uri": "https://localhost:8080/",
          "height": 35
        },
        "id": "GERFdKxOmp1X",
        "outputId": "8f329caa-8a65-4dfb-ba08-0ed5c07f8d77"
      },
      "execution_count": 15,
      "outputs": [
        {
          "output_type": "execute_result",
          "data": {
            "text/plain": [
              "'She'"
            ],
            "application/vnd.google.colaboratory.intrinsic+json": {
              "type": "string"
            }
          },
          "metadata": {},
          "execution_count": 15
        }
      ]
    },
    {
      "cell_type": "code",
      "source": [
        "# strip(), rstrip(), lstrip()\n",
        "game = '              \\t game'\n",
        "game.lstrip()"
      ],
      "metadata": {
        "colab": {
          "base_uri": "https://localhost:8080/",
          "height": 35
        },
        "id": "c3HsirRhmpyO",
        "outputId": "e1c1cdbe-6b51-4317-c14b-f0d09444d3cd"
      },
      "execution_count": 16,
      "outputs": [
        {
          "output_type": "execute_result",
          "data": {
            "text/plain": [
              "'game'"
            ],
            "application/vnd.google.colaboratory.intrinsic+json": {
              "type": "string"
            }
          },
          "metadata": {},
          "execution_count": 16
        }
      ]
    },
    {
      "cell_type": "code",
      "source": [
        "game.lstrip().replace('g','G').replace('m','t')"
      ],
      "metadata": {
        "colab": {
          "base_uri": "https://localhost:8080/",
          "height": 35
        },
        "id": "zp8SjCBfmpu8",
        "outputId": "66d2f6a2-9dec-43ad-e452-c43df6028b8d"
      },
      "execution_count": 17,
      "outputs": [
        {
          "output_type": "execute_result",
          "data": {
            "text/plain": [
              "'Gate'"
            ],
            "application/vnd.google.colaboratory.intrinsic+json": {
              "type": "string"
            }
          },
          "metadata": {},
          "execution_count": 17
        }
      ]
    },
    {
      "cell_type": "code",
      "source": [
        "# find: 첫 번째 발견한 r의 인덱스 (공백 포함)\n",
        "word2 = 'I like game.'\n",
        "word2.find('a') #lfind, rfind"
      ],
      "metadata": {
        "colab": {
          "base_uri": "https://localhost:8080/"
        },
        "id": "CfDoDygympiJ",
        "outputId": "0fb617f0-3642-4605-c3a5-c76f56b13219"
      },
      "execution_count": 18,
      "outputs": [
        {
          "output_type": "execute_result",
          "data": {
            "text/plain": [
              "8"
            ]
          },
          "metadata": {},
          "execution_count": 18
        }
      ]
    },
    {
      "cell_type": "code",
      "source": [
        "word2.index('a')"
      ],
      "metadata": {
        "colab": {
          "base_uri": "https://localhost:8080/"
        },
        "id": "v_pLk21cnZeG",
        "outputId": "dbfd4b85-081a-4b5d-aa67-b4114ede8bfb"
      },
      "execution_count": 19,
      "outputs": [
        {
          "output_type": "execute_result",
          "data": {
            "text/plain": [
              "8"
            ]
          },
          "metadata": {},
          "execution_count": 19
        }
      ]
    },
    {
      "cell_type": "markdown",
      "source": [
        "### 함수 II\n",
        "- NLTK 전용\n",
        "- concordance() : 특정 스트림이 어떤 문맥에서 쓰이는지\n",
        "- similar() : 주어진 스트링과 비슷한 문맥에서 쓰이는 단어를 보여줌\n",
        "- common_context() : 주어진 스트링들이 공유하는 문맥\n",
        "- dispersion_plot() : 주어진 스트링들이 텍스트의 어느 위치에 나오는지 이미지로 보여줌"
      ],
      "metadata": {
        "id": "YPeqdHNhngXo"
      }
    },
    {
      "cell_type": "code",
      "source": [
        "text1.concordance('whale')"
      ],
      "metadata": {
        "colab": {
          "base_uri": "https://localhost:8080/"
        },
        "id": "o2qJak9NnZYu",
        "outputId": "4ecaf967-e1a9-4918-ae15-1f8c8e14b701"
      },
      "execution_count": 20,
      "outputs": [
        {
          "output_type": "stream",
          "name": "stdout",
          "text": [
            "Displaying 25 of 1226 matches:\n",
            "s , and to teach them by what name a whale - fish is to be called in our tongue\n",
            "t which is not true .\" -- HACKLUYT \" WHALE . ... Sw . and Dan . HVAL . This ani\n",
            "ulted .\" -- WEBSTER ' S DICTIONARY \" WHALE . ... It is more immediately from th\n",
            "ISH . WAL , DUTCH . HWAL , SWEDISH . WHALE , ICELANDIC . WHALE , ENGLISH . BALE\n",
            "HWAL , SWEDISH . WHALE , ICELANDIC . WHALE , ENGLISH . BALEINE , FRENCH . BALLE\n",
            "least , take the higgledy - piggledy whale statements , however authentic , in \n",
            " dreadful gulf of this monster ' s ( whale ' s ) mouth , are immediately lost a\n",
            " patient Job .\" -- RABELAIS . \" This whale ' s liver was two cartloads .\" -- ST\n",
            " Touching that monstrous bulk of the whale or ork we have received nothing cert\n",
            " of oil will be extracted out of one whale .\" -- IBID . \" HISTORY OF LIFE AND D\n",
            "ise .\" -- KING HENRY . \" Very like a whale .\" -- HAMLET . \" Which to secure , n\n",
            "restless paine , Like as the wounded whale to shore flies thro ' the maine .\" -\n",
            ". OF SPERMA CETI AND THE SPERMA CETI WHALE . VIDE HIS V . E . \" Like Spencer ' \n",
            "t had been a sprat in the mouth of a whale .\" -- PILGRIM ' S PROGRESS . \" That \n",
            "EN ' S ANNUS MIRABILIS . \" While the whale is floating at the stern of the ship\n",
            "e ship called The Jonas - in - the - Whale . ... Some say the whale can ' t ope\n",
            " in - the - Whale . ... Some say the whale can ' t open his mouth , but that is\n",
            " masts to see whether they can see a whale , for the first discoverer has a duc\n",
            " for his pains . ... I was told of a whale taken near Shetland , that had above\n",
            "oneers told me that he caught once a whale in Spitzbergen that was white all ov\n",
            "2 , one eighty feet in length of the whale - bone kind came in , which ( as I w\n",
            "n master and kill this Sperma - ceti whale , for I could never hear of any of t\n",
            " . 1729 . \"... and the breath of the whale is frequendy attended with such an i\n",
            "ed with hoops and armed with ribs of whale .\" -- RAPE OF THE LOCK . \" If we com\n",
            "contemptible in the comparison . The whale is doubtless the largest animal in c\n"
          ]
        }
      ]
    },
    {
      "cell_type": "code",
      "source": [
        "text1.simmilar('whale')\n",
        "# 타입이 논 타입이라 변수로 사용 불가"
      ],
      "metadata": {
        "colab": {
          "base_uri": "https://localhost:8080/",
          "height": 193
        },
        "id": "g17bK1bpnZWO",
        "outputId": "f742f34e-c33a-49b1-8a60-a5e0a73d8432"
      },
      "execution_count": 21,
      "outputs": [
        {
          "output_type": "error",
          "ename": "AttributeError",
          "evalue": "ignored",
          "traceback": [
            "\u001b[0;31m---------------------------------------------------------------------------\u001b[0m",
            "\u001b[0;31mAttributeError\u001b[0m                            Traceback (most recent call last)",
            "\u001b[0;32m<ipython-input-21-0de4c8f163b4>\u001b[0m in \u001b[0;36m<module>\u001b[0;34m()\u001b[0m\n\u001b[0;32m----> 1\u001b[0;31m \u001b[0mtext1\u001b[0m\u001b[0;34m.\u001b[0m\u001b[0msimmilar\u001b[0m\u001b[0;34m(\u001b[0m\u001b[0;34m'whale'\u001b[0m\u001b[0;34m)\u001b[0m\u001b[0;34m\u001b[0m\u001b[0;34m\u001b[0m\u001b[0m\n\u001b[0m\u001b[1;32m      2\u001b[0m \u001b[0;31m# 타입이 논 타입이라 변수로 사용 불가\u001b[0m\u001b[0;34m\u001b[0m\u001b[0;34m\u001b[0m\u001b[0;34m\u001b[0m\u001b[0m\n",
            "\u001b[0;31mAttributeError\u001b[0m: 'Text' object has no attribute 'simmilar'"
          ]
        }
      ]
    },
    {
      "cell_type": "code",
      "source": [
        "text2"
      ],
      "metadata": {
        "colab": {
          "base_uri": "https://localhost:8080/"
        },
        "id": "zrxKpGhFnZT9",
        "outputId": "47b9e40e-3756-4032-9d6d-fd6ff7dd9940"
      },
      "execution_count": 23,
      "outputs": [
        {
          "output_type": "execute_result",
          "data": {
            "text/plain": [
              "<Text: Sense and Sensibility by Jane Austen 1811>"
            ]
          },
          "metadata": {},
          "execution_count": 23
        }
      ]
    },
    {
      "cell_type": "code",
      "source": [
        "text2.common_contexts(['monstrous' 'very'])"
      ],
      "metadata": {
        "colab": {
          "base_uri": "https://localhost:8080/"
        },
        "id": "Cj2j9VUtnZRm",
        "outputId": "8c8a8699-6a88-462d-de4f-42ad0c2baf99"
      },
      "execution_count": 24,
      "outputs": [
        {
          "output_type": "stream",
          "name": "stdout",
          "text": [
            "('The following word(s) were not found:', 'monstrousvery')\n"
          ]
        }
      ]
    },
    {
      "cell_type": "code",
      "source": [
        "text4 = book.text4\n",
        "text4.dispersion_plot(['citizens', 'democracy', 'America'])"
      ],
      "metadata": {
        "colab": {
          "base_uri": "https://localhost:8080/",
          "height": 295
        },
        "id": "TAee3Vu6nZOt",
        "outputId": "679a0b12-1c85-4f85-ab27-2864fc425b4c"
      },
      "execution_count": 22,
      "outputs": [
        {
          "output_type": "display_data",
          "data": {
            "text/plain": [
              "<Figure size 432x288 with 1 Axes>"
            ],
            "image/png": "[encoded data removed]"
          },
          "metadata": {
            "needs_background": "light"
          }
        }
      ]
    },
    {
      "cell_type": "markdown",
      "source": [
        "### 리스트 & 리스트컴프리헨션\n",
        "- 프로그래밍에서 '배열'에 해당, 파이썬에서는 리스트라고 부른다.\n",
        "- 하나의 변수에 여러 값을 할당하는 자료형\n",
        "    - example = {1, 2, 3, 4}\n",
        "- 대괄호를 사용한다\n",
        "- 내부 요소들의 자료형은 같을 필요 없다.\n",
        "    - example - [1, 'yes', True]\n",
        "- 순서가 있느 ㄴ자료형 => 슬라이싱, 인덱싱\n",
        "- 빈 리스트 선언 : set(), [][링크 텍스트](https://)"
      ],
      "metadata": {
        "id": "L4f27x-NoTIE"
      }
    },
    {
      "cell_type": "code",
      "source": [
        "empty = []"
      ],
      "metadata": {
        "id": "XDmEQ5pwnZLe"
      },
      "execution_count": 25,
      "outputs": []
    },
    {
      "cell_type": "code",
      "source": [
        "animals = ['cow', 'dog', 'cat']\n",
        "animals[0]\n",
        "#animals[02] 안 됨"
      ],
      "metadata": {
        "colab": {
          "base_uri": "https://localhost:8080/",
          "height": 35
        },
        "id": "6IaYDQJwoV6y",
        "outputId": "9444274c-bc1f-4197-fb14-a1c386fa31d9"
      },
      "execution_count": 26,
      "outputs": [
        {
          "output_type": "execute_result",
          "data": {
            "text/plain": [
              "'cow'"
            ],
            "application/vnd.google.colaboratory.intrinsic+json": {
              "type": "string"
            }
          },
          "metadata": {},
          "execution_count": 26
        }
      ]
    },
    {
      "cell_type": "markdown",
      "source": [
        "#### list comprehension\n",
        "- 포함형/지능형/축약형 리스트\n",
        "- 하나의 리스트에서 그걸 포함하여 다른 리스트를 만든다.\n",
        "- list + for loop\n",
        "- [A for A` in C]\n",
        "    - C에 있는 B에서 A를 가져와라 =>리스트에 담아서 반환\n",
        "    - A : 내가 원하는 출력 형태\n",
        "    - A` : C의 형태\n",
        "    - C : 반복 가능한 자료형 (리스트)\n",
        "\n",
        "- 조건 추가 : |A for A` in"
      ],
      "metadata": {
        "id": "OCGTk6ljop5A"
      }
    },
    {
      "cell_type": "code",
      "source": [
        "[animal for animal in animals]"
      ],
      "metadata": {
        "colab": {
          "base_uri": "https://localhost:8080/"
        },
        "id": "2QiBZg98oXrN",
        "outputId": "49df6133-bc9a-4ee7-8116-76862221d587"
      },
      "execution_count": 27,
      "outputs": [
        {
          "output_type": "execute_result",
          "data": {
            "text/plain": [
              "['cow', 'dog', 'cat']"
            ]
          },
          "metadata": {},
          "execution_count": 27
        }
      ]
    },
    {
      "cell_type": "code",
      "source": [
        "moby = book.text1"
      ],
      "metadata": {
        "id": "vJwlpbDHowF5"
      },
      "execution_count": 28,
      "outputs": []
    },
    {
      "cell_type": "code",
      "source": [
        "# text1의 토큰 중 처음 10개 단어에서 마지막 알파벳 반환\n",
        "[word[-1] for word in moby.tokens[:10]]"
      ],
      "metadata": {
        "colab": {
          "base_uri": "https://localhost:8080/"
        },
        "id": "fcTFoGY2oyN6",
        "outputId": "05a1e59c-f086-4c0b-e4be-33a4dd4fa617"
      },
      "execution_count": 29,
      "outputs": [
        {
          "output_type": "execute_result",
          "data": {
            "text/plain": [
              "['[', 'y', 'k', 'y', 'n', 'e', '1', ']', 'Y', '.']"
            ]
          },
          "metadata": {},
          "execution_count": 29
        }
      ]
    },
    {
      "cell_type": "code",
      "source": [
        "[word for word in moby.tokens[:10] if (len(word) < 3) and (word == '.') ]"
      ],
      "metadata": {
        "colab": {
          "base_uri": "https://localhost:8080/"
        },
        "id": "Pkszq5ikozSP",
        "outputId": "bb3fee12-4084-4800-aeef-3ce04b12242c"
      },
      "execution_count": 30,
      "outputs": [
        {
          "output_type": "execute_result",
          "data": {
            "text/plain": [
              "['.']"
            ]
          },
          "metadata": {},
          "execution_count": 30
        }
      ]
    },
    {
      "cell_type": "code",
      "source": [
        "#1. text5에서 길이가 15 이상인 단어 추출하기\n",
        "#2. text3에서 대문자인 단어를 소문자로 반환: isupper(), lower"
      ],
      "metadata": {
        "id": "FqCG21H-o4yV"
      },
      "execution_count": 31,
      "outputs": []
    },
    {
      "cell_type": "code",
      "source": [
        "text5=book.text5"
      ],
      "metadata": {
        "id": "FgKjQH2ApBRk"
      },
      "execution_count": 32,
      "outputs": []
    },
    {
      "cell_type": "code",
      "source": [
        "text3=book.text3"
      ],
      "metadata": {
        "id": "8idI8TSMpBPS"
      },
      "execution_count": 33,
      "outputs": []
    },
    {
      "cell_type": "code",
      "source": [
        "'hey'.isupper()# 확인하는거"
      ],
      "metadata": {
        "colab": {
          "base_uri": "https://localhost:8080/"
        },
        "id": "w9QlwbVbpBIh",
        "outputId": "dec80100-e8fd-480f-f593-80592de21e3e"
      },
      "execution_count": 34,
      "outputs": [
        {
          "output_type": "execute_result",
          "data": {
            "text/plain": [
              "False"
            ]
          },
          "metadata": {},
          "execution_count": 34
        }
      ]
    },
    {
      "cell_type": "code",
      "source": [
        "'HER'.lower() # 소문자로 바꿈"
      ],
      "metadata": {
        "colab": {
          "base_uri": "https://localhost:8080/",
          "height": 35
        },
        "id": "1g64hpjhpBFh",
        "outputId": "cc8a88b1-c7b1-4b87-d9b7-33634091bcf8"
      },
      "execution_count": 35,
      "outputs": [
        {
          "output_type": "execute_result",
          "data": {
            "text/plain": [
              "'her'"
            ],
            "application/vnd.google.colaboratory.intrinsic+json": {
              "type": "string"
            }
          },
          "metadata": {},
          "execution_count": 35
        }
      ]
    },
    {
      "cell_type": "code",
      "source": [
        "[word for word in text5.tokens if len(word) >= 15]"
      ],
      "metadata": {
        "id": "C0BvV4RKpBCf"
      },
      "execution_count": null,
      "outputs": []
    },
    {
      "cell_type": "code",
      "source": [
        "[word.lower() for word in text3.tokens if word.isupper()]"
      ],
      "metadata": {
        "colab": {
          "base_uri": "https://localhost:8080/"
        },
        "id": "dyqdxULnpIZZ",
        "outputId": "dcef37c6-7575-4019-a03b-d120031e366e"
      },
      "execution_count": 37,
      "outputs": [
        {
          "output_type": "execute_result",
          "data": {
            "text/plain": [
              "['i',\n",
              " 'i',\n",
              " 'lord',\n",
              " 'lord',\n",
              " 'lord',\n",
              " 'lord',\n",
              " 'lord',\n",
              " 'lord',\n",
              " 'lord',\n",
              " 'lord',\n",
              " 'i',\n",
              " 'lord',\n",
              " 'lord',\n",
              " 'lord',\n",
              " 'lord',\n",
              " 'lord',\n",
              " 'lord',\n",
              " 'lord',\n",
              " 'i',\n",
              " 'i',\n",
              " 'i',\n",
              " 'i',\n",
              " 'i',\n",
              " 'i',\n",
              " 'lord',\n",
              " 'i',\n",
              " 'lord',\n",
              " 'i',\n",
              " 'i',\n",
              " 'i',\n",
              " 'lord',\n",
              " 'lord',\n",
              " 'lord',\n",
              " 'i',\n",
              " 'lord',\n",
              " 'lord',\n",
              " 'lord',\n",
              " 'lord',\n",
              " 'lord',\n",
              " 'i',\n",
              " 'i',\n",
              " 'lord',\n",
              " 'i',\n",
              " 'i',\n",
              " 'i',\n",
              " 'lord',\n",
              " 'lord',\n",
              " 'lord',\n",
              " 'i',\n",
              " 'lord',\n",
              " 'lord',\n",
              " 'lord',\n",
              " 'lord',\n",
              " 'lord',\n",
              " 'i',\n",
              " 'i',\n",
              " 'i',\n",
              " 'lord',\n",
              " 'i',\n",
              " 'a',\n",
              " 'i',\n",
              " 'i',\n",
              " 'i',\n",
              " 'lord',\n",
              " 'i',\n",
              " 'i',\n",
              " 'i',\n",
              " 'i',\n",
              " 'lord',\n",
              " 'lord',\n",
              " 'lord',\n",
              " 'lord',\n",
              " 'lord',\n",
              " 'i',\n",
              " 'i',\n",
              " 'i',\n",
              " 'i',\n",
              " 'i',\n",
              " 'i',\n",
              " 'i',\n",
              " 'i',\n",
              " 'i',\n",
              " 'i',\n",
              " 'i',\n",
              " 'i',\n",
              " 'i',\n",
              " 'i',\n",
              " 'i',\n",
              " 'i',\n",
              " 'i',\n",
              " 'lord',\n",
              " 'lord',\n",
              " 'lord',\n",
              " 'lord',\n",
              " 'lord',\n",
              " 'lord',\n",
              " 'lord',\n",
              " 'lord',\n",
              " 'lord',\n",
              " 'i',\n",
              " 'i',\n",
              " 'i',\n",
              " 'i',\n",
              " 'lord',\n",
              " 'lord',\n",
              " 'i',\n",
              " 'lord',\n",
              " 'lord',\n",
              " 'lord',\n",
              " 'i',\n",
              " 'i',\n",
              " 'lord',\n",
              " 'i',\n",
              " 'lord',\n",
              " 'i',\n",
              " 'i',\n",
              " 'i',\n",
              " 'i',\n",
              " 'lord',\n",
              " 'lord',\n",
              " 'lord',\n",
              " 'lord',\n",
              " 'i',\n",
              " 'i',\n",
              " 'i',\n",
              " 'lord',\n",
              " 'i',\n",
              " 'lord',\n",
              " 'i',\n",
              " 'i',\n",
              " 'i',\n",
              " 'lord',\n",
              " 'i',\n",
              " 'lord',\n",
              " 'i',\n",
              " 'lord',\n",
              " 'lord',\n",
              " 'i',\n",
              " 'lord',\n",
              " 'lord',\n",
              " 'i',\n",
              " 'i',\n",
              " 'i',\n",
              " 'lord',\n",
              " 'i',\n",
              " 'lord',\n",
              " 'i',\n",
              " 'i',\n",
              " 'i',\n",
              " 'i',\n",
              " 'lord',\n",
              " 'lord',\n",
              " 'i',\n",
              " 'lord',\n",
              " 'lord',\n",
              " 'i',\n",
              " 'lord',\n",
              " 'lord',\n",
              " 'lord',\n",
              " 'i',\n",
              " 'lord',\n",
              " 'i',\n",
              " 'i',\n",
              " 'i',\n",
              " 'i',\n",
              " 'i',\n",
              " 'i',\n",
              " 'i',\n",
              " 'i',\n",
              " 'i',\n",
              " 'i',\n",
              " 'o',\n",
              " 'i',\n",
              " 'i',\n",
              " 'i',\n",
              " 'i',\n",
              " 'i',\n",
              " 'lord',\n",
              " 'lord',\n",
              " 'i',\n",
              " 'i',\n",
              " 'i',\n",
              " 'i',\n",
              " 'i',\n",
              " 'i',\n",
              " 'i',\n",
              " 'lord',\n",
              " 'i',\n",
              " 'lord',\n",
              " 'i',\n",
              " 'i',\n",
              " 'lord',\n",
              " 'i',\n",
              " 'i',\n",
              " 'i',\n",
              " 'lord',\n",
              " 'lord',\n",
              " 'lord',\n",
              " 'i',\n",
              " 'i',\n",
              " 'lord',\n",
              " 'lord',\n",
              " 'i',\n",
              " 'i',\n",
              " 'i',\n",
              " 'lord',\n",
              " 'i',\n",
              " 'i',\n",
              " 'i',\n",
              " 'lord',\n",
              " 'i',\n",
              " 'i',\n",
              " 'i',\n",
              " 'i',\n",
              " 'lo',\n",
              " 'i',\n",
              " 'lord',\n",
              " 'i',\n",
              " 'i',\n",
              " 'lord',\n",
              " 'i',\n",
              " 'i',\n",
              " 'i',\n",
              " 'i',\n",
              " 'lord',\n",
              " 'lord',\n",
              " 'lord',\n",
              " 'lord',\n",
              " 'lord',\n",
              " 'i',\n",
              " 'i',\n",
              " 'i',\n",
              " 'i',\n",
              " 'i',\n",
              " 'lord',\n",
              " 'lord',\n",
              " 'lo',\n",
              " 'i',\n",
              " 'lord',\n",
              " 'i',\n",
              " 'i',\n",
              " 'i',\n",
              " 'i',\n",
              " 'i',\n",
              " 'i',\n",
              " 'i',\n",
              " 'i',\n",
              " 'lord',\n",
              " 'lord',\n",
              " 'lord',\n",
              " 'i',\n",
              " 'i',\n",
              " 'i',\n",
              " 'i',\n",
              " 'i',\n",
              " 'i',\n",
              " 'i',\n",
              " 'i',\n",
              " 'lord',\n",
              " 'i',\n",
              " 'i',\n",
              " 'i',\n",
              " 'i',\n",
              " 'lord',\n",
              " 'i',\n",
              " 'i',\n",
              " 'lord',\n",
              " 'lord',\n",
              " 'i',\n",
              " 'lord',\n",
              " 'i',\n",
              " 'i',\n",
              " 'i',\n",
              " 'i',\n",
              " 'i',\n",
              " 'i',\n",
              " 'i',\n",
              " 'i',\n",
              " 'i',\n",
              " 'i',\n",
              " 'i',\n",
              " 'lord',\n",
              " 'i',\n",
              " 'i',\n",
              " 'lord',\n",
              " 'i',\n",
              " 'i',\n",
              " 'lord',\n",
              " 'i',\n",
              " 'o',\n",
              " 'lord',\n",
              " 'i',\n",
              " 'i',\n",
              " 'i',\n",
              " 'i',\n",
              " 'i',\n",
              " 'i',\n",
              " 'i',\n",
              " 'i',\n",
              " 'i',\n",
              " 'lord',\n",
              " 'i',\n",
              " 'i',\n",
              " 'lord',\n",
              " 'lord',\n",
              " 'i',\n",
              " 'lord',\n",
              " 'lord',\n",
              " 'i',\n",
              " 'i',\n",
              " 'i',\n",
              " 'i',\n",
              " 'lord',\n",
              " 'i',\n",
              " 'i',\n",
              " 'lord',\n",
              " 'i',\n",
              " 'i',\n",
              " 'o',\n",
              " 'lord',\n",
              " 'i',\n",
              " 'i',\n",
              " 'i',\n",
              " 'i',\n",
              " 'i',\n",
              " 'lord',\n",
              " 'i',\n",
              " 'i',\n",
              " 'i',\n",
              " 'i',\n",
              " 'i',\n",
              " 'i',\n",
              " 'i',\n",
              " 'i',\n",
              " 'lord',\n",
              " 'lord',\n",
              " 'i',\n",
              " 'lo',\n",
              " 'lord',\n",
              " 'lord',\n",
              " 'lord',\n",
              " 'i',\n",
              " 'i',\n",
              " 'lord',\n",
              " 'lord',\n",
              " 'i',\n",
              " 'lord',\n",
              " 'lord',\n",
              " 'i',\n",
              " 'i',\n",
              " 'i',\n",
              " 'lord',\n",
              " 'i',\n",
              " 'i',\n",
              " 'i',\n",
              " 'i',\n",
              " 'i',\n",
              " 'i',\n",
              " 'i',\n",
              " 'i',\n",
              " 'lord',\n",
              " 'lord',\n",
              " 'lord',\n",
              " 'i',\n",
              " 'i',\n",
              " 'lord',\n",
              " 'lord',\n",
              " 'lord',\n",
              " 'i',\n",
              " 'i',\n",
              " 'i',\n",
              " 'i',\n",
              " 'i',\n",
              " 'i',\n",
              " 'i',\n",
              " 'i',\n",
              " 'i',\n",
              " 'lord',\n",
              " 'i',\n",
              " 'i',\n",
              " 'i',\n",
              " 'i',\n",
              " 'i',\n",
              " 'i',\n",
              " 'i',\n",
              " 'i',\n",
              " 'i',\n",
              " 'lord',\n",
              " 'i',\n",
              " 'i',\n",
              " 'i',\n",
              " 'i',\n",
              " 'lord',\n",
              " 'i',\n",
              " 'i',\n",
              " 'o',\n",
              " 'i',\n",
              " 'i',\n",
              " 'i',\n",
              " 'i',\n",
              " 'o',\n",
              " 'i',\n",
              " 'i',\n",
              " 'i',\n",
              " 'i',\n",
              " 'lord',\n",
              " 'i',\n",
              " 'lord',\n",
              " 'i',\n",
              " 'i',\n",
              " 'i',\n",
              " 'i',\n",
              " 'i',\n",
              " 'lord',\n",
              " 'i',\n",
              " 'i',\n",
              " 'i',\n",
              " 'lord',\n",
              " 'g',\n",
              " 'i',\n",
              " 'i',\n",
              " 'i',\n",
              " 'i',\n",
              " 'i',\n",
              " 'i',\n",
              " 'i',\n",
              " 'lord',\n",
              " 'lord',\n",
              " 'lord',\n",
              " 'i',\n",
              " 'i',\n",
              " 'i',\n",
              " 'lo',\n",
              " 'i',\n",
              " 'i',\n",
              " 'i',\n",
              " 'i',\n",
              " 'i',\n",
              " 'a',\n",
              " 'i',\n",
              " 'i',\n",
              " 'i',\n",
              " 'i',\n",
              " 'i',\n",
              " 'lord',\n",
              " 'i',\n",
              " 'i',\n",
              " 'i',\n",
              " 'i',\n",
              " 'i',\n",
              " 'i',\n",
              " 'lord',\n",
              " 'i',\n",
              " 'i',\n",
              " 'i',\n",
              " 'lord',\n",
              " 'i',\n",
              " 'i',\n",
              " 'i',\n",
              " 'i',\n",
              " 'i',\n",
              " 'lord',\n",
              " 'i',\n",
              " 'i',\n",
              " 'i',\n",
              " 'i',\n",
              " 'i',\n",
              " 'i',\n",
              " 'i',\n",
              " 'i',\n",
              " 'i',\n",
              " 'i',\n",
              " 'i',\n",
              " 'i',\n",
              " 'i',\n",
              " 'i',\n",
              " 'i',\n",
              " 'i',\n",
              " 'i',\n",
              " 'i',\n",
              " 'i',\n",
              " 'i',\n",
              " 'i',\n",
              " 'lord',\n",
              " 'i',\n",
              " 'i',\n",
              " 'i',\n",
              " 'i',\n",
              " 'i',\n",
              " 'i',\n",
              " 'o',\n",
              " 'lord',\n",
              " 'i',\n",
              " 'i',\n",
              " 'i',\n",
              " 'i',\n",
              " 'i',\n",
              " 'i',\n",
              " 'i',\n",
              " 'i',\n",
              " 'i',\n",
              " 'i',\n",
              " 'i',\n",
              " 'i',\n",
              " 'i',\n",
              " 'i',\n",
              " 'i',\n",
              " 'i',\n",
              " 'i',\n",
              " 'i',\n",
              " 'i',\n",
              " 'i',\n",
              " 'i',\n",
              " 'i',\n",
              " 'i',\n",
              " 'i',\n",
              " 'i',\n",
              " 'i',\n",
              " 'i',\n",
              " 'i',\n",
              " 'i',\n",
              " 'i',\n",
              " 'i',\n",
              " 'i',\n",
              " 'i',\n",
              " 'i',\n",
              " 'i',\n",
              " 'i',\n",
              " 'i',\n",
              " 'i',\n",
              " 'i',\n",
              " 'i',\n",
              " 'i',\n",
              " 'i',\n",
              " 'i',\n",
              " 'i',\n",
              " 'i',\n",
              " 'i',\n",
              " 'i',\n",
              " 'i',\n",
              " 'i',\n",
              " 'lord',\n",
              " 'lord',\n",
              " 'lord',\n",
              " 'i',\n",
              " 'i',\n",
              " 'i',\n",
              " 'i',\n",
              " 'i',\n",
              " 'i',\n",
              " 'i',\n",
              " 'i',\n",
              " 'i',\n",
              " 'lord',\n",
              " 'lord',\n",
              " 'lord',\n",
              " 'lord',\n",
              " 'lord',\n",
              " 'i',\n",
              " 'i',\n",
              " 'i',\n",
              " 'i',\n",
              " 'i',\n",
              " 'lord',\n",
              " 'lord',\n",
              " 'lord',\n",
              " 'i',\n",
              " 'i',\n",
              " 'i',\n",
              " 'i',\n",
              " 'i',\n",
              " 'i',\n",
              " 'i',\n",
              " 'i',\n",
              " 'i',\n",
              " 'i',\n",
              " 'i',\n",
              " 'i',\n",
              " 'i',\n",
              " 'i',\n",
              " 'i',\n",
              " 'i',\n",
              " 'i',\n",
              " 'i',\n",
              " 'i',\n",
              " 'i',\n",
              " 'i',\n",
              " 'i',\n",
              " 'i',\n",
              " 'i',\n",
              " 'g',\n",
              " 'i',\n",
              " 'i',\n",
              " 'i',\n",
              " 'i',\n",
              " 'i',\n",
              " 'i',\n",
              " 'i',\n",
              " 'i',\n",
              " 'i',\n",
              " 'i',\n",
              " 'o',\n",
              " 'i',\n",
              " 'i',\n",
              " 'i',\n",
              " 'i',\n",
              " 'i',\n",
              " 'i',\n",
              " 'i',\n",
              " 'i',\n",
              " 'i',\n",
              " 'i',\n",
              " 'i',\n",
              " 'i',\n",
              " 'i',\n",
              " 'i',\n",
              " 'i',\n",
              " 'i',\n",
              " 'i',\n",
              " 'i',\n",
              " 'i',\n",
              " 'i',\n",
              " 'i',\n",
              " 'i',\n",
              " 'i',\n",
              " 'i',\n",
              " 'i',\n",
              " 'i',\n",
              " 'i',\n",
              " 'i',\n",
              " 'i',\n",
              " 'i',\n",
              " 'i',\n",
              " 'i',\n",
              " 'i',\n",
              " 'i',\n",
              " 'i',\n",
              " 'i',\n",
              " 'i',\n",
              " 'i',\n",
              " 'i',\n",
              " 'i',\n",
              " 'i',\n",
              " 'i',\n",
              " 'i',\n",
              " 'i',\n",
              " 'i',\n",
              " 'i',\n",
              " 'i',\n",
              " 'i',\n",
              " 'o',\n",
              " 'i',\n",
              " 'i',\n",
              " 'o',\n",
              " 'lord',\n",
              " 'i',\n",
              " 'i',\n",
              " 'i',\n",
              " 'i',\n",
              " 'i',\n",
              " 'i',\n",
              " 'i',\n",
              " 'i',\n",
              " 'i',\n",
              " 'i',\n",
              " 'i',\n",
              " 'i']"
            ]
          },
          "metadata": {},
          "execution_count": 37
        }
      ]
    },
    {
      "cell_type": "code",
      "source": [
        "animals.index('cat')"
      ],
      "metadata": {
        "colab": {
          "base_uri": "https://localhost:8080/"
        },
        "id": "rPQb0XQ-pSDx",
        "outputId": "1ec68cf8-8c00-4405-c704-3f833322b3b8"
      },
      "execution_count": 38,
      "outputs": [
        {
          "output_type": "execute_result",
          "data": {
            "text/plain": [
              "2"
            ]
          },
          "metadata": {},
          "execution_count": 38
        }
      ]
    },
    {
      "cell_type": "markdown",
      "source": [
        "#### cased, uncased\n",
        "- 반환\n",
        "  - upper() : 대문자로 바꿈 \n",
        "  - lower() : 소문자로 바꿈\n",
        "  - title() : 첫 글자로 대문자로 바꿈\n",
        "  - swapcase() : 대소문자를 반대로 바꿈 \n",
        "- 형태 체크\n",
        "  - isupper() : 대문자인지 체크\n",
        "  - islower() : 소문자인지 체크\n",
        "  - istitle() : 첫 글자만 대문자인지 체크\n",
        "  - endswith(<string>) : 입력한 문자열로 끝나는지 체크\n",
        "  - startswith() : 입력한 문자열로 시작하는지 체크\n",
        "  - isalpha() : 문자인지 체크"
      ],
      "metadata": {
        "id": "RMvU5V6-papt"
      }
    },
    {
      "cell_type": "code",
      "source": [
        "# text1에서 'ableness'로 끝나는 단어를 중복없이, 정렬해서\n",
        " # list -> list\n",
        "[]"
      ],
      "metadata": {
        "colab": {
          "base_uri": "https://localhost:8080/"
        },
        "id": "4BgiH1T5pby6",
        "outputId": "d7c21411-15ba-4175-cae7-d80e380c73df"
      },
      "execution_count": 39,
      "outputs": [
        {
          "output_type": "execute_result",
          "data": {
            "text/plain": [
              "[]"
            ]
          },
          "metadata": {},
          "execution_count": 39
        }
      ]
    },
    {
      "cell_type": "code",
      "source": [
        "text1=book.text1"
      ],
      "metadata": {
        "id": "i7m8_oUWpcAd"
      },
      "execution_count": 40,
      "outputs": []
    },
    {
      "cell_type": "code",
      "source": [
        "set(text1.tokens)"
      ],
      "metadata": {
        "colab": {
          "base_uri": "https://localhost:8080/"
        },
        "id": "ziqoeV3dpb99",
        "outputId": "371c4e55-475f-4751-aaa8-eb4f6d17e24c"
      },
      "execution_count": 41,
      "outputs": [
        {
          "output_type": "execute_result",
          "data": {
            "text/plain": [
              "{'inability',\n",
              " 'AM',\n",
              " 'buckskin',\n",
              " 'respond',\n",
              " 'boilers',\n",
              " 'monsters',\n",
              " 'bedevilling',\n",
              " 'SAIL',\n",
              " 'reptile',\n",
              " 'repeating',\n",
              " 'carve',\n",
              " 'obliterated',\n",
              " 'Solander',\n",
              " 'piping',\n",
              " 'grunted',\n",
              " 'Willoughby',\n",
              " 'unsaid',\n",
              " 'rending',\n",
              " 'pelisse',\n",
              " 'bagged',\n",
              " 'pans',\n",
              " 'appearances',\n",
              " 'etc',\n",
              " 'cooking',\n",
              " 'vum',\n",
              " 'woracious',\n",
              " 'cautious',\n",
              " 'Ramadans',\n",
              " '1726',\n",
              " 'inanimate',\n",
              " 'backing',\n",
              " 'isolated',\n",
              " 'flukes',\n",
              " 'exert',\n",
              " 'smugglers',\n",
              " 'Deck',\n",
              " 'Faintly',\n",
              " 'jabbering',\n",
              " 'fixes',\n",
              " 'immaculate',\n",
              " 'athirst',\n",
              " 'vacated',\n",
              " 'Short',\n",
              " 'paddle',\n",
              " 'delirium',\n",
              " 'hoo',\n",
              " 'buoyantly',\n",
              " 'COLEMAN',\n",
              " 'Khan',\n",
              " 'left',\n",
              " 'ECKERMANN',\n",
              " 'fortress',\n",
              " 'protection',\n",
              " 'carnation',\n",
              " 'medium',\n",
              " 'unsealed',\n",
              " 'company',\n",
              " 'scent',\n",
              " 'keeled',\n",
              " 'unmanufactured',\n",
              " 'Sciences',\n",
              " 'antiquity',\n",
              " 'Therein',\n",
              " 'drizzly',\n",
              " 'underling',\n",
              " 'load',\n",
              " 'casement',\n",
              " 'begins',\n",
              " 'Baltic',\n",
              " 'fattening',\n",
              " 'Unmindful',\n",
              " 'Presbyterian',\n",
              " 'hereabouts',\n",
              " 'outlaws',\n",
              " 'counteracting',\n",
              " 'Cetacea',\n",
              " 'SETH',\n",
              " 'unfitted',\n",
              " 'bulkhead',\n",
              " ';\"--(',\n",
              " 'take',\n",
              " 'divorced',\n",
              " 'faster',\n",
              " 'sanctuary',\n",
              " 'Plowdon',\n",
              " 'Potters',\n",
              " 'dies',\n",
              " 'lounging',\n",
              " 'decidedly',\n",
              " 'jars',\n",
              " 'imprecations',\n",
              " 'FOLLOW',\n",
              " 'politeness',\n",
              " 'specimens',\n",
              " 'intricacies',\n",
              " 'hostile',\n",
              " 'cherishing',\n",
              " 'Bargain',\n",
              " 'enduring',\n",
              " 'glossy',\n",
              " 'quit',\n",
              " 'persuasiveness',\n",
              " 'dared',\n",
              " 'hempen',\n",
              " 'performed',\n",
              " 'pinmoney',\n",
              " 'alleys',\n",
              " 'choked',\n",
              " 'whittling',\n",
              " 'doubtless',\n",
              " 'musical',\n",
              " 'feather',\n",
              " 'exactly',\n",
              " 'tornadoed',\n",
              " 'extinction',\n",
              " 'hails',\n",
              " 'bitts',\n",
              " 'resume',\n",
              " 'youthful',\n",
              " 'Booble',\n",
              " 'thereupon',\n",
              " 'inflamed',\n",
              " 'drench',\n",
              " 'assailed',\n",
              " 'penniless',\n",
              " 'fullest',\n",
              " 'Spencer',\n",
              " 'Folger',\n",
              " 'fray',\n",
              " 'An',\n",
              " 'finish',\n",
              " 'Eh',\n",
              " 'argued',\n",
              " 'sidelingly',\n",
              " 'doctors',\n",
              " 'Hand',\n",
              " 'uninjurable',\n",
              " 'entreated',\n",
              " 'ourselves',\n",
              " 'engraven',\n",
              " 'roundly',\n",
              " 'caddy',\n",
              " 'sadness',\n",
              " 'Fired',\n",
              " 'thunderous',\n",
              " 'Sperma',\n",
              " 'prodigies',\n",
              " 'comparison',\n",
              " 'frayed',\n",
              " 'panic',\n",
              " 'nt',\n",
              " 'mightier',\n",
              " 'Line',\n",
              " 'Cruppered',\n",
              " 'stick',\n",
              " 'oozy',\n",
              " 'sundering',\n",
              " 'substantial',\n",
              " 'aromas',\n",
              " 'infallible',\n",
              " 'Fa',\n",
              " 'Coffins',\n",
              " 'fed',\n",
              " 'bladder',\n",
              " 'monstrous',\n",
              " 'godhead',\n",
              " 'supposed',\n",
              " 'caulking',\n",
              " 'Candles',\n",
              " 'other',\n",
              " 'azimuth',\n",
              " \"!'\",\n",
              " 'preliminaries',\n",
              " 'climes',\n",
              " 'ANNALS',\n",
              " 'unnearable',\n",
              " 'occupying',\n",
              " 'Smeerenberg',\n",
              " 'AZORE',\n",
              " 'cabinets',\n",
              " 'killing',\n",
              " 'happy',\n",
              " 'Caesarian',\n",
              " 'scruples',\n",
              " 'purchasing',\n",
              " 'enlarged',\n",
              " 'jav',\n",
              " 'prevalent',\n",
              " 'granting',\n",
              " 'pitiless',\n",
              " 'north',\n",
              " 'sufficit',\n",
              " 'performing',\n",
              " 'cursed',\n",
              " 'perched',\n",
              " 'wat',\n",
              " 'abided',\n",
              " 'stages',\n",
              " 'bluff',\n",
              " 'opine',\n",
              " 'Faith',\n",
              " 'foaming',\n",
              " 'hearing',\n",
              " 'addressed',\n",
              " 'sell',\n",
              " 'crawl',\n",
              " 'breeding',\n",
              " 'assuring',\n",
              " 'UNWINDING',\n",
              " 'shiver',\n",
              " 'dimensioned',\n",
              " 'Albatross',\n",
              " 'people',\n",
              " 'victorious',\n",
              " 'dreary',\n",
              " 'loath',\n",
              " 'showest',\n",
              " 'Call',\n",
              " 'malady',\n",
              " 'painting',\n",
              " 'Invisible',\n",
              " 'haunts',\n",
              " 'sperm',\n",
              " 'undergraduate',\n",
              " 'molest',\n",
              " 'menacing',\n",
              " 'trying',\n",
              " 'coronations',\n",
              " 'neighbour',\n",
              " 'complacent',\n",
              " 'MATE',\n",
              " 'phrensies',\n",
              " 'Hoe',\n",
              " 'red',\n",
              " 'offing',\n",
              " 'tops',\n",
              " 'coolly',\n",
              " 'eely',\n",
              " 'substances',\n",
              " 'refiningly',\n",
              " 'adhesiveness',\n",
              " 'store',\n",
              " 'sullenly',\n",
              " 'Samuel',\n",
              " 'strength',\n",
              " 'TERROREM',\n",
              " 'say',\n",
              " '23',\n",
              " 'fling',\n",
              " 'consent',\n",
              " 'spermacetti',\n",
              " 'heightens',\n",
              " 'Pusie',\n",
              " 'Surmises',\n",
              " 'painstaking',\n",
              " 'painter',\n",
              " 'suggested',\n",
              " 'tyrannical',\n",
              " '114',\n",
              " 'retaining',\n",
              " 'Enderby',\n",
              " 'conflicting',\n",
              " 'wedding',\n",
              " 'Nimbly',\n",
              " 'agreed',\n",
              " 'cautiousness',\n",
              " 'unfort',\n",
              " 'mammis',\n",
              " 'comprehend',\n",
              " 'scratching',\n",
              " 'intelligent',\n",
              " 'hone',\n",
              " 'misanthropic',\n",
              " 'Author',\n",
              " 'fertility',\n",
              " 'perhaps',\n",
              " 'Coleridge',\n",
              " 'clutched',\n",
              " 'boom',\n",
              " 'impregnably',\n",
              " '16th',\n",
              " 'northward',\n",
              " 'rapt',\n",
              " 'Cattegat',\n",
              " 'forty',\n",
              " 'differs',\n",
              " 'barbacued',\n",
              " 'communicates',\n",
              " 'perishing',\n",
              " 'wreak',\n",
              " 'bidding',\n",
              " 'rattling',\n",
              " 'Spite',\n",
              " 'disheartening',\n",
              " 'angry',\n",
              " 'brazen',\n",
              " 'hallo',\n",
              " 'Mistress',\n",
              " 'talked',\n",
              " 'integrity',\n",
              " 'denying',\n",
              " 'bull',\n",
              " 'MACY',\n",
              " '105',\n",
              " 'constructed',\n",
              " 'stunsails',\n",
              " 'severest',\n",
              " 'disgorge',\n",
              " 'Har',\n",
              " 'Miriam',\n",
              " 'harder',\n",
              " 'burnt',\n",
              " 'hearts',\n",
              " 'mountainous',\n",
              " 'tassels',\n",
              " 'provincialisms',\n",
              " 'evening',\n",
              " 'citation',\n",
              " 'entire',\n",
              " 'Sunday',\n",
              " 'communion',\n",
              " 'berth',\n",
              " 'parted',\n",
              " 'cosy',\n",
              " 'militant',\n",
              " 'number',\n",
              " 'frequent',\n",
              " 'volcanoes',\n",
              " 'boughs',\n",
              " 'antlers',\n",
              " 'rowels',\n",
              " 'brushed',\n",
              " 'smelt',\n",
              " 'Drinking',\n",
              " 'trouble',\n",
              " 'strips',\n",
              " 'omen',\n",
              " 'reef',\n",
              " 'inhale',\n",
              " 'governor',\n",
              " 'eddying',\n",
              " 'fumbling',\n",
              " 'queenly',\n",
              " 'cleets',\n",
              " 'spat',\n",
              " 'knaves',\n",
              " 'transfigured',\n",
              " 'fornication',\n",
              " 'battering',\n",
              " 'them',\n",
              " 'thumb',\n",
              " 'incrustations',\n",
              " 'deaf',\n",
              " 'lake',\n",
              " 'excluded',\n",
              " 'disease',\n",
              " 'Twas',\n",
              " 'kingdoms',\n",
              " 'forth',\n",
              " 'howled',\n",
              " 'rearing',\n",
              " 'standpoint',\n",
              " 'prison',\n",
              " 'presentiments',\n",
              " 'amusing',\n",
              " 'Trumpet',\n",
              " 'FIRMLY',\n",
              " 'unverdured',\n",
              " 'parlors',\n",
              " 'resorting',\n",
              " 'Gurry',\n",
              " 'suggestions',\n",
              " 'Jove',\n",
              " 'prescient',\n",
              " 'methinks',\n",
              " 'memories',\n",
              " 'Close',\n",
              " 'Jones',\n",
              " 'veined',\n",
              " 'styled',\n",
              " 'inconclusive',\n",
              " 'Isles',\n",
              " 'subterraneousness',\n",
              " 'admeasurements',\n",
              " 'skewers',\n",
              " 'Mother',\n",
              " 'teats',\n",
              " 'grapple',\n",
              " 'sharks',\n",
              " 'icebergs',\n",
              " 'hook',\n",
              " 'Dante',\n",
              " 'drank',\n",
              " 'stepmothers',\n",
              " 'frank',\n",
              " 'rueful',\n",
              " 'companied',\n",
              " 'noblemen',\n",
              " 'players',\n",
              " 'Observatory',\n",
              " 'won',\n",
              " 'tickle',\n",
              " 'bursting',\n",
              " 'stifle',\n",
              " 'liken',\n",
              " 'banker',\n",
              " 'beef',\n",
              " 'travelled',\n",
              " 'Often',\n",
              " 'peremptory',\n",
              " 'markest',\n",
              " 'seating',\n",
              " 'sittin',\n",
              " 'Inward',\n",
              " 'TWICE',\n",
              " 'unwieldy',\n",
              " 'equator',\n",
              " 'pomp',\n",
              " 'verdant',\n",
              " 'bundles',\n",
              " 'pen',\n",
              " 'People',\n",
              " 'Stylites',\n",
              " 'ramparts',\n",
              " 'slid',\n",
              " 'Devils',\n",
              " 'Yojo',\n",
              " 'relish',\n",
              " 'WINDOW',\n",
              " 'membrane',\n",
              " 'Icy',\n",
              " 'Arion',\n",
              " 'lamentable',\n",
              " 'LANTERNS',\n",
              " '.\"--',\n",
              " 'assumes',\n",
              " 'Cretan',\n",
              " 'rockings',\n",
              " 'Elephants',\n",
              " '1775',\n",
              " 'hence',\n",
              " 'extinct',\n",
              " 'Reference',\n",
              " 'resolving',\n",
              " 'drawings',\n",
              " 'mummeries',\n",
              " 'directing',\n",
              " 'foreshortened',\n",
              " 'collect',\n",
              " 'adapted',\n",
              " 'Sammy',\n",
              " 'once',\n",
              " 'genuine',\n",
              " 'apprised',\n",
              " 'CROW',\n",
              " 'Ebony',\n",
              " 'bandana',\n",
              " 'mahogany',\n",
              " 'challenge',\n",
              " 'Protestant',\n",
              " 'soothed',\n",
              " 'gleams',\n",
              " 'bundling',\n",
              " 'quadrant',\n",
              " 'May',\n",
              " 'shown',\n",
              " 'wharves',\n",
              " 'fasting',\n",
              " 'makest',\n",
              " 'Listen',\n",
              " 'awls',\n",
              " 'Herr',\n",
              " 'SAXON',\n",
              " 'perseverance',\n",
              " 'push',\n",
              " 'unprovided',\n",
              " 'martial',\n",
              " 'Sphynx',\n",
              " 'tantamount',\n",
              " 'THRICE',\n",
              " 'footfall',\n",
              " 'probability',\n",
              " 'confess',\n",
              " 'Platonists',\n",
              " 'dexterity',\n",
              " 'rabid',\n",
              " 'endless',\n",
              " 'scanning',\n",
              " 'LEANING',\n",
              " 'raises',\n",
              " 'caved',\n",
              " 'revelled',\n",
              " 'uses',\n",
              " 'supper',\n",
              " 'solemnly',\n",
              " 'Tattoo',\n",
              " 'fiercer',\n",
              " 'Fearing',\n",
              " 'somnambulistic',\n",
              " 'Bloody',\n",
              " 'doubling',\n",
              " 'Scorpio',\n",
              " 'destroying',\n",
              " 'mockingly',\n",
              " 'breeze',\n",
              " 'Weep',\n",
              " 'allowed',\n",
              " 'Diaz',\n",
              " 'gets',\n",
              " 'digestive',\n",
              " 'recruit',\n",
              " 'catarrhs',\n",
              " 'fagged',\n",
              " 'Bowditch',\n",
              " 'miserly',\n",
              " 'thieves',\n",
              " 'SACRED',\n",
              " 'unintelligence',\n",
              " 'outwardly',\n",
              " 'bale',\n",
              " 'draggingly',\n",
              " 'resolution',\n",
              " 'elapse',\n",
              " 'alpacas',\n",
              " 'explosion',\n",
              " 'fourth',\n",
              " 'curling',\n",
              " 'Himmalehs',\n",
              " 'WAVING',\n",
              " 'gateway',\n",
              " 'ditchers',\n",
              " 'Each',\n",
              " 'hospitable',\n",
              " 'tiers',\n",
              " 'REFERENCE',\n",
              " 'Coming',\n",
              " 'obstructed',\n",
              " 'PROFANE',\n",
              " 'eminence',\n",
              " 'receptive',\n",
              " 'inspection',\n",
              " 'STOWE',\n",
              " 'ominous',\n",
              " 'averted',\n",
              " 'consuming',\n",
              " 'type',\n",
              " 'accompaniments',\n",
              " 'barometer',\n",
              " 'tons',\n",
              " 'auction',\n",
              " 'east',\n",
              " 'evoke',\n",
              " 'portcullis',\n",
              " 'Snodhead',\n",
              " 'sinned',\n",
              " 'thirteen',\n",
              " 'WILLIAM',\n",
              " 'trust',\n",
              " 'discipline',\n",
              " 'Simoon',\n",
              " 'emblazonings',\n",
              " 'freshened',\n",
              " 'swims',\n",
              " 'conveniently',\n",
              " 'foible',\n",
              " 'colossal',\n",
              " 'undiluted',\n",
              " 'DAGGOO',\n",
              " 'projects',\n",
              " 'exertion',\n",
              " 'vat',\n",
              " 'Italian',\n",
              " 'entrances',\n",
              " 'magnificence',\n",
              " 'reverberations',\n",
              " 'revery',\n",
              " 'purse',\n",
              " 'Bibliographical',\n",
              " 'Boston',\n",
              " 'explanatory',\n",
              " 'Saco',\n",
              " 'mummies',\n",
              " 'NATHAN',\n",
              " 'continents',\n",
              " 'behooves',\n",
              " 'flower',\n",
              " 'L',\n",
              " 'wrenching',\n",
              " 'illuminating',\n",
              " 'tricks',\n",
              " 'vacuity',\n",
              " 'Brahmins',\n",
              " 'leave',\n",
              " 'BIOGRAPHY',\n",
              " 'exclusive',\n",
              " 'grandiloquent',\n",
              " 'gnomon',\n",
              " \"?'--'\",\n",
              " 'spos',\n",
              " 'devoted',\n",
              " 'narrowly',\n",
              " 'brags',\n",
              " 'mythologies',\n",
              " 'pieces',\n",
              " 'drawing',\n",
              " 'aggrieved',\n",
              " 'standard',\n",
              " 'purty',\n",
              " 'moisture',\n",
              " 'JEFFERSON',\n",
              " 'Victory',\n",
              " 'General',\n",
              " 'ain',\n",
              " 'considered',\n",
              " 'artistic',\n",
              " 'eminently',\n",
              " 'rolled',\n",
              " 'mizentop',\n",
              " 'headed',\n",
              " 'telescope',\n",
              " 'thoughts',\n",
              " 'theoretic',\n",
              " 'Marchant',\n",
              " 'bountiful',\n",
              " 'fear',\n",
              " 'slink',\n",
              " 'waterward',\n",
              " 'qualities',\n",
              " 'One',\n",
              " 'comrades',\n",
              " 'Flask',\n",
              " 'Formosa',\n",
              " 'sang',\n",
              " 'narrating',\n",
              " 'undashed',\n",
              " 'erected',\n",
              " 'marlinspikes',\n",
              " 'clinched',\n",
              " 'stamp',\n",
              " 'CONTINUES',\n",
              " 'smites',\n",
              " 'oval',\n",
              " 'graces',\n",
              " 'futures',\n",
              " 'noder',\n",
              " 'emotion',\n",
              " 'unmolested',\n",
              " 'scrapings',\n",
              " 'province',\n",
              " 'strawberries',\n",
              " 'owned',\n",
              " 'thus',\n",
              " 'cheery',\n",
              " 'companionable',\n",
              " 'Plenty',\n",
              " 'cringed',\n",
              " 'removing',\n",
              " 'rollicking',\n",
              " 'Barbary',\n",
              " 'sweet',\n",
              " 'nod',\n",
              " 'enveloping',\n",
              " 'FLAMES',\n",
              " 'ordered',\n",
              " 'calm',\n",
              " 'intolerable',\n",
              " 'restored',\n",
              " 'beaks',\n",
              " 'PREFACE',\n",
              " 'trick',\n",
              " 'bigot',\n",
              " 'true',\n",
              " 'countersinkers',\n",
              " 'Wellington',\n",
              " 'falsely',\n",
              " 'Coleman',\n",
              " 'PLINY',\n",
              " 'avast',\n",
              " 'cape',\n",
              " 'Joe',\n",
              " 'squadrons',\n",
              " 'exposes',\n",
              " 'shone',\n",
              " 'furnishes',\n",
              " 'adulterer',\n",
              " 'mainmast',\n",
              " 'Platonian',\n",
              " 'harpoon',\n",
              " 'emigrant',\n",
              " 'manhandle',\n",
              " 'East',\n",
              " 'flies',\n",
              " 'perturbation',\n",
              " 'Maceys',\n",
              " 'PREVIOUS',\n",
              " 'folio',\n",
              " 'slats',\n",
              " 'decks',\n",
              " 'isle',\n",
              " 'weaves',\n",
              " 'tint',\n",
              " 'lend',\n",
              " 'hammer',\n",
              " 'Terra',\n",
              " 'names',\n",
              " 'thyself',\n",
              " 'Olmstead',\n",
              " 'Requiem',\n",
              " 'disaster',\n",
              " 'Stone',\n",
              " 'cub',\n",
              " 'vicissitude',\n",
              " 'frenzies',\n",
              " 'womb',\n",
              " 'muscles',\n",
              " 'plaguy',\n",
              " 'Vidocq',\n",
              " 'Breakfast',\n",
              " 'swaying',\n",
              " 'embark',\n",
              " 'jeopardized',\n",
              " 'house',\n",
              " 'Smut',\n",
              " 'respects',\n",
              " 'Leviathanic',\n",
              " 'convert',\n",
              " 'revolvingly',\n",
              " 'reads',\n",
              " 'Nippers',\n",
              " 'extended',\n",
              " 'recluse',\n",
              " 'midst',\n",
              " 'confined',\n",
              " 'hump',\n",
              " 'whelmings',\n",
              " 'Then',\n",
              " 'meadows',\n",
              " 'inglorious',\n",
              " 'corrupt',\n",
              " 'both',\n",
              " 'prediction',\n",
              " 'mathematical',\n",
              " 'prudential',\n",
              " 'Albicore',\n",
              " 'spose',\n",
              " 'settling',\n",
              " 'soon',\n",
              " 'artist',\n",
              " 'Levanter',\n",
              " 'exterminated',\n",
              " 'doubloons',\n",
              " 'respirations',\n",
              " 'heathens',\n",
              " 'feeds',\n",
              " 'regularity',\n",
              " 'blindfold',\n",
              " 'echoed',\n",
              " 'RESUMING',\n",
              " 'patched',\n",
              " 'originally',\n",
              " 'crackers',\n",
              " 'incorruptible',\n",
              " 'deified',\n",
              " 'coffee',\n",
              " '68',\n",
              " 'pain',\n",
              " 'layers',\n",
              " 'unyielding',\n",
              " 'picturesquely',\n",
              " 'ape',\n",
              " 'throned',\n",
              " 'premium',\n",
              " 'mowers',\n",
              " 'Suspended',\n",
              " 'windrowed',\n",
              " 'intemperately',\n",
              " 'grey',\n",
              " 'HEREABOUTS',\n",
              " 'gratitude',\n",
              " 'ECUADOR',\n",
              " 'splash',\n",
              " 'chases',\n",
              " 'nation',\n",
              " 'furniture',\n",
              " 'Relieved',\n",
              " 'shrunken',\n",
              " 'deserted',\n",
              " 'sought',\n",
              " 'means',\n",
              " 'cheerfully',\n",
              " 'clean',\n",
              " 'barren',\n",
              " 'PEQUOD',\n",
              " 'sheaf',\n",
              " 'Drawn',\n",
              " 'atmosphere',\n",
              " 'Azores',\n",
              " 'Frankfort',\n",
              " 'grammars',\n",
              " 'hemisphere',\n",
              " 'deliberated',\n",
              " 'preserver',\n",
              " 'unmomentous',\n",
              " 'seventy',\n",
              " 'milkiness',\n",
              " 'sighs',\n",
              " 'sharpening',\n",
              " 'southern',\n",
              " 'sulky',\n",
              " 'shines',\n",
              " 'listen',\n",
              " 'cited',\n",
              " 'marge',\n",
              " 'fry',\n",
              " 'SOMETHING',\n",
              " 'trace',\n",
              " 'blisters',\n",
              " 'circumspect',\n",
              " 'Fast',\n",
              " 'mingled',\n",
              " 'Carpenter',\n",
              " 'Among',\n",
              " 'hornpipe',\n",
              " 'furs',\n",
              " 'succourless',\n",
              " 'metaphysical',\n",
              " 'quiver',\n",
              " 'robe',\n",
              " 'played',\n",
              " 'casked',\n",
              " 'Lee',\n",
              " 'Camel',\n",
              " 'celebration',\n",
              " 'changeless',\n",
              " 'paced',\n",
              " 'regina',\n",
              " 'plethoric',\n",
              " 'invoking',\n",
              " 'unmanned',\n",
              " 'underlings',\n",
              " 'uncontaminated',\n",
              " 'fairer',\n",
              " 'residue',\n",
              " 'fixed',\n",
              " 'make',\n",
              " 'discreditably',\n",
              " 'stomachs',\n",
              " 'oars',\n",
              " 'manufacturing',\n",
              " 'raising',\n",
              " 'cables',\n",
              " 'largeness',\n",
              " 'desperadoes',\n",
              " 'capsized',\n",
              " 'effeminacy',\n",
              " 'mastodons',\n",
              " 'thoughtfulness',\n",
              " 'Shirt',\n",
              " 'individualizing',\n",
              " 'protruding',\n",
              " 'Fits',\n",
              " 'Neskyeuna',\n",
              " 'pyramid',\n",
              " 'ago',\n",
              " 'hind',\n",
              " 'gilded',\n",
              " 'Intolerably',\n",
              " 'betake',\n",
              " 'contact',\n",
              " 'slope',\n",
              " 'Highland',\n",
              " 'Drink',\n",
              " 'lumps',\n",
              " 'spoiled',\n",
              " 'brooks',\n",
              " 'Japanese',\n",
              " 'harmony',\n",
              " 'satisfactory',\n",
              " 'cleats',\n",
              " 'facetious',\n",
              " 'perquisites',\n",
              " 'notions',\n",
              " 'Charley',\n",
              " 'recovered',\n",
              " 'audacity',\n",
              " 'rolls',\n",
              " 'abominable',\n",
              " 'pounded',\n",
              " 'fabulous',\n",
              " 'interluding',\n",
              " 'sacred',\n",
              " 'adjusting',\n",
              " 'eschewed',\n",
              " 'calling',\n",
              " 'lets',\n",
              " 'Must',\n",
              " 'crystallized',\n",
              " 'TRANS',\n",
              " 'gills',\n",
              " 'disconnected',\n",
              " 'disembowelments',\n",
              " '-',\n",
              " 'purchased',\n",
              " 'weakness',\n",
              " 'microscopic',\n",
              " 'claws',\n",
              " 'durable',\n",
              " 'tenement',\n",
              " 'shuddered',\n",
              " 'straightway',\n",
              " 'Colossus',\n",
              " 'extending',\n",
              " 'reprehensible',\n",
              " 'bartered',\n",
              " 'corners',\n",
              " 'seconds',\n",
              " 'maltreated',\n",
              " 'scalping',\n",
              " 'calms',\n",
              " 'gloriously',\n",
              " 'scamp',\n",
              " 'appalled',\n",
              " 'unskilful',\n",
              " 'vernal',\n",
              " 'church',\n",
              " 'demonstrable',\n",
              " 'cellar',\n",
              " 'upraising',\n",
              " 'outbranching',\n",
              " '.--',\n",
              " 'aspects',\n",
              " 'undulated',\n",
              " 'heedless',\n",
              " 'flavor',\n",
              " 'abased',\n",
              " 'lurches',\n",
              " 'commenced',\n",
              " 'paddling',\n",
              " 'landsman',\n",
              " 'surgeons',\n",
              " 'artificialness',\n",
              " 'springing',\n",
              " 'surprising',\n",
              " 'LUCIAN',\n",
              " 'universe',\n",
              " 'traces',\n",
              " 'Dugongs',\n",
              " 'Probably',\n",
              " 'impresses',\n",
              " 'wandereth',\n",
              " 'whew',\n",
              " 'automaton',\n",
              " 'hereby',\n",
              " 'YE',\n",
              " 'ambition',\n",
              " 'Gnawed',\n",
              " 'unwarped',\n",
              " 'gulf',\n",
              " 'itch',\n",
              " 'barrels',\n",
              " 'pleated',\n",
              " 'afire',\n",
              " 'extremest',\n",
              " 'Canaris',\n",
              " 'fat',\n",
              " 'silent',\n",
              " 'animated',\n",
              " 'brimmed',\n",
              " 'alluding',\n",
              " 'resemble',\n",
              " 'sings',\n",
              " 'tainted',\n",
              " 'opinion',\n",
              " 'Cologne',\n",
              " 'oftenest',\n",
              " 'waited',\n",
              " 'testimony',\n",
              " 'applicable',\n",
              " 'wade',\n",
              " 'wintry',\n",
              " 'expanse',\n",
              " 'Ah',\n",
              " 'keel',\n",
              " 'palace',\n",
              " 'corner',\n",
              " 'blush',\n",
              " 'renounce',\n",
              " 'SIBBALD',\n",
              " 'junk',\n",
              " 'anomaly',\n",
              " 'preaching',\n",
              " 'sorrows',\n",
              " 'Arm',\n",
              " 'naturalist',\n",
              " 'intestines',\n",
              " 'personally',\n",
              " 'crossing',\n",
              " 'month',\n",
              " 'coerced',\n",
              " 'Mephistophelean',\n",
              " ...}"
            ]
          },
          "metadata": {},
          "execution_count": 41
        }
      ]
    },
    {
      "cell_type": "code",
      "source": [
        "sorted(set([word for word in (text1.tokens) if word.endswith('ableness')]))"
      ],
      "metadata": {
        "colab": {
          "base_uri": "https://localhost:8080/"
        },
        "id": "F9oOShfwpb7I",
        "outputId": "ddc3a7a8-21ca-4cb1-d2d2-915ef0a8833d"
      },
      "execution_count": 42,
      "outputs": [
        {
          "output_type": "execute_result",
          "data": {
            "text/plain": [
              "['comfortableness',\n",
              " 'honourableness',\n",
              " 'immutableness',\n",
              " 'indispensableness',\n",
              " 'indomitableness',\n",
              " 'intolerableness',\n",
              " 'palpableness',\n",
              " 'reasonableness',\n",
              " 'uncomfortableness']"
            ]
          },
          "metadata": {},
          "execution_count": 42
        }
      ]
    },
    {
      "cell_type": "code",
      "source": [
        "# text4에서 'gnt'가 포함된 단어들을 소문자로 리스트 변환"
      ],
      "metadata": {
        "id": "8WcCIsawpb4D"
      },
      "execution_count": 43,
      "outputs": []
    },
    {
      "cell_type": "code",
      "source": [
        "text4 = book.text4\n",
        "\n",
        "b = set([word.lower() for word in (text4.tokens) if 'gnt' in word])\n",
        "b\n"
      ],
      "metadata": {
        "colab": {
          "base_uri": "https://localhost:8080/"
        },
        "id": "DB9U2HgFprp4",
        "outputId": "f6e6aaf0-bdab-420a-80d7-3cf95270b613"
      },
      "execution_count": 44,
      "outputs": [
        {
          "output_type": "execute_result",
          "data": {
            "text/plain": [
              "{'sovereignties', 'sovereignty'}"
            ]
          },
          "metadata": {},
          "execution_count": 44
        }
      ]
    },
    {
      "cell_type": "markdown",
      "source": [
        "### NLTK\n",
        "- Frequency Distribution: 단어가 몇 번 출현했는디 (빈도수)\n",
        "- 텍스트의 성질 알기 위해\n",
        "    - 단어 개수\n",
        "    - 단어 빈도수\n",
        "-FreqDist(text)"
      ],
      "metadata": {
        "id": "3VTJTrUeqaVx"
      }
    },
    {
      "cell_type": "code",
      "source": [
        "text1=book.text1"
      ],
      "metadata": {
        "id": "ZMCnXoVeqbqm"
      },
      "execution_count": 45,
      "outputs": []
    },
    {
      "cell_type": "code",
      "source": [
        "nltk.probability.FreqDist"
      ],
      "metadata": {
        "colab": {
          "base_uri": "https://localhost:8080/"
        },
        "id": "wUgyf1F2ufM1",
        "outputId": "a64662e5-bc5a-4265-c61a-17d6b8500f18"
      },
      "execution_count": 46,
      "outputs": [
        {
          "output_type": "execute_result",
          "data": {
            "text/plain": [
              "nltk.probability.FreqDist"
            ]
          },
          "metadata": {},
          "execution_count": 46
        }
      ]
    },
    {
      "cell_type": "code",
      "source": [
        "from nltk import FreqDist"
      ],
      "metadata": {
        "id": "wZJnriX4uhEQ"
      },
      "execution_count": 47,
      "outputs": []
    },
    {
      "cell_type": "code",
      "source": [
        "fdist = FreqDist(text1)\n",
        "fdist"
      ],
      "metadata": {
        "id": "-MzJ8ewkr5By"
      },
      "execution_count": null,
      "outputs": []
    },
    {
      "cell_type": "code",
      "source": [
        "fdist.most_common(10)"
      ],
      "metadata": {
        "colab": {
          "base_uri": "https://localhost:8080/"
        },
        "id": "ocLIjcK-r49s",
        "outputId": "01568ada-7582-42b0-95b5-4fc32b9c0e6c"
      },
      "execution_count": 51,
      "outputs": [
        {
          "output_type": "execute_result",
          "data": {
            "text/plain": [
              "[(',', 18713),\n",
              " ('the', 13721),\n",
              " ('.', 6862),\n",
              " ('of', 6536),\n",
              " ('and', 6024),\n",
              " ('a', 4569),\n",
              " ('to', 4542),\n",
              " (';', 4072),\n",
              " ('in', 3916),\n",
              " ('that', 2982)]"
            ]
          },
          "metadata": {},
          "execution_count": 51
        }
      ]
    },
    {
      "cell_type": "code",
      "source": [
        "fdist['that'], text1.count('that')"
      ],
      "metadata": {
        "colab": {
          "base_uri": "https://localhost:8080/"
        },
        "id": "7RKealOIqbgO",
        "outputId": "cbdbfcb2-cf29-4010-f659-906d0a27d3e1"
      },
      "execution_count": 67,
      "outputs": [
        {
          "output_type": "execute_result",
          "data": {
            "text/plain": [
              "(2982, 2982)"
            ]
          },
          "metadata": {},
          "execution_count": 67
        }
      ]
    },
    {
      "cell_type": "code",
      "source": [
        "fdist.freq('that')\n",
        "#단어가 차지하는 퍼센트 표시"
      ],
      "metadata": {
        "colab": {
          "base_uri": "https://localhost:8080/"
        },
        "id": "DYMv6cl3pxcU",
        "outputId": "43d86067-f61a-4143-bed9-45aa0467af9f"
      },
      "execution_count": 52,
      "outputs": [
        {
          "output_type": "execute_result",
          "data": {
            "text/plain": [
              "0.011433216138394826"
            ]
          },
          "metadata": {},
          "execution_count": 52
        }
      ]
    },
    {
      "cell_type": "code",
      "source": [
        "fdist.plot(50, cumulative = True)\n",
        "#그래프로 표현\n",
        "#곡선이 완만한수록 더 나타나는 것\n",
        "#상위 50개 단어의 출현 횟수를이전 단어의 횟수에 누적하여 그래프로 표현"
      ],
      "metadata": {
        "colab": {
          "base_uri": "https://localhost:8080/",
          "height": 299
        },
        "id": "-NQ-qvfPusF6",
        "outputId": "cece520b-d7b1-4cb8-dbfa-e5f6ea777a7a"
      },
      "execution_count": 53,
      "outputs": [
        {
          "output_type": "display_data",
          "data": {
            "text/plain": [
              "<Figure size 432x288 with 1 Axes>"
            ],
            "image/png": "[encoded data removed]"
          },
          "metadata": {
            "needs_background": "light"
          }
        }
      ]
    },
    {
      "cell_type": "code",
      "source": [
        "# 가장 빈번하지 않은 => 1번 나타나는 단어들\n",
        " # 알파벳만 리스트에 담아보기\n",
        "fdist.hapaxes()[:10]"
      ],
      "metadata": {
        "colab": {
          "base_uri": "https://localhost:8080/"
        },
        "id": "CRhNKWEFusDw",
        "outputId": "5597aaee-5612-4662-ee1d-e4207918b5a8"
      },
      "execution_count": 55,
      "outputs": [
        {
          "output_type": "execute_result",
          "data": {
            "text/plain": [
              "['Herman',\n",
              " 'Melville',\n",
              " ']',\n",
              " 'ETYMOLOGY',\n",
              " 'Late',\n",
              " 'Consumptive',\n",
              " 'School',\n",
              " 'threadbare',\n",
              " 'lexicons',\n",
              " 'mockingly']"
            ]
          },
          "metadata": {},
          "execution_count": 55
        }
      ]
    },
    {
      "cell_type": "code",
      "source": [
        "[w for w in fdist.hapaxes()[:10] if w.isalpha()]"
      ],
      "metadata": {
        "colab": {
          "base_uri": "https://localhost:8080/"
        },
        "id": "snoCHUTiEZTg",
        "outputId": "0b514fff-5f84-46b9-cca3-117542db05ad"
      },
      "execution_count": 58,
      "outputs": [
        {
          "output_type": "execute_result",
          "data": {
            "text/plain": [
              "['Herman',\n",
              " 'Melville',\n",
              " 'ETYMOLOGY',\n",
              " 'Late',\n",
              " 'Consumptive',\n",
              " 'School',\n",
              " 'threadbare',\n",
              " 'lexicons',\n",
              " 'mockingly']"
            ]
          },
          "metadata": {},
          "execution_count": 58
        }
      ]
    },
    {
      "cell_type": "code",
      "source": [
        "!pip install matplotlib"
      ],
      "metadata": {
        "colab": {
          "base_uri": "https://localhost:8080/"
        },
        "id": "QjLnkUfIusBV",
        "outputId": "cec4a99b-7a73-47c7-e862-4b864aa41264"
      },
      "execution_count": 3,
      "outputs": [
        {
          "output_type": "stream",
          "name": "stdout",
          "text": [
            "Requirement already satisfied: matplotlib in /usr/local/lib/python3.7/dist-packages (3.2.2)\n",
            "Requirement already satisfied: cycler>=0.10 in /usr/local/lib/python3.7/dist-packages (from matplotlib) (0.11.0)\n",
            "Requirement already satisfied: numpy>=1.11 in /usr/local/lib/python3.7/dist-packages (from matplotlib) (1.21.5)\n",
            "Requirement already satisfied: pyparsing!=2.0.4,!=2.1.2,!=2.1.6,>=2.0.1 in /usr/local/lib/python3.7/dist-packages (from matplotlib) (3.0.7)\n",
            "Requirement already satisfied: python-dateutil>=2.1 in /usr/local/lib/python3.7/dist-packages (from matplotlib) (2.8.2)\n",
            "Requirement already satisfied: kiwisolver>=1.0.1 in /usr/local/lib/python3.7/dist-packages (from matplotlib) (1.4.0)\n",
            "Requirement already satisfied: typing-extensions in /usr/local/lib/python3.7/dist-packages (from kiwisolver>=1.0.1->matplotlib) (3.10.0.2)\n",
            "Requirement already satisfied: six>=1.5 in /usr/local/lib/python3.7/dist-packages (from python-dateutil>=2.1->matplotlib) (1.15.0)\n"
          ]
        }
      ]
    },
    {
      "cell_type": "code",
      "source": [
        "# 대소문자 구분 없이 freqDist 만드려면? the 15,000 The 6000 => the 21,000\n",
        "    # 리스트 -> 리스트\n",
        "fdist2 = FreqDist([word.lower() for word in text1]) # 'The'를 'the'로 바꿈\n",
        "fdist2['the'] "
      ],
      "metadata": {
        "colab": {
          "base_uri": "https://localhost:8080/"
        },
        "id": "01THGSq4ur-x",
        "outputId": "00cba683-ab78-442a-b8f1-a4d76ad6d952"
      },
      "execution_count": 59,
      "outputs": [
        {
          "output_type": "execute_result",
          "data": {
            "text/plain": [
              "14431"
            ]
          },
          "metadata": {},
          "execution_count": 59
        }
      ]
    },
    {
      "cell_type": "code",
      "source": [
        "fdist2['The']"
      ],
      "metadata": {
        "colab": {
          "base_uri": "https://localhost:8080/"
        },
        "id": "IrQErlnPur8P",
        "outputId": "f3380954-55bf-4edf-df44-d9f17e609ff1"
      },
      "execution_count": 60,
      "outputs": [
        {
          "output_type": "execute_result",
          "data": {
            "text/plain": [
              "0"
            ]
          },
          "metadata": {},
          "execution_count": 60
        }
      ]
    },
    {
      "cell_type": "code",
      "source": [
        "fdist = FreqDist(text1) # 대소문자, 첫 글자만 대문자 다 따로 : the, The, THE 다 따로\n",
        "fdist2 = FreqDist([word.lower() for word in text1]) # 한꺼번에 세어질 수 있도록[]"
      ],
      "metadata": {
        "id": "9RKXaIIzExm1"
      },
      "execution_count": 62,
      "outputs": []
    },
    {
      "cell_type": "code",
      "source": [
        "# text2에서 길이가 3자 이하이고, 빈도수가 5 이상인것 찾기\n",
        "text2 = book.text2"
      ],
      "metadata": {
        "id": "-As8F8LfFEA0"
      },
      "execution_count": 63,
      "outputs": []
    },
    {
      "cell_type": "code",
      "source": [
        "[word for word in text2 if (len(word) <= 3) and (FreqDist(word) >= 5)] # 타입이 안맞음"
      ],
      "metadata": {
        "id": "zkzCxN7_FHsU"
      },
      "execution_count": null,
      "outputs": []
    },
    {
      "cell_type": "code",
      "source": [
        "[word for (word, count) in FreqDist(text2).items()\n",
        "        if (len(word) <=3) and (count >= 5)]"
      ],
      "metadata": {
        "colab": {
          "base_uri": "https://localhost:8080/"
        },
        "id": "kJGTYaFiFIlX",
        "outputId": "b33797bc-5ef4-4d8c-f3ef-d7c17009cb11"
      },
      "execution_count": 117,
      "outputs": [
        {
          "output_type": "execute_result",
          "data": {
            "text/plain": [
              "['and',\n",
              " 'by',\n",
              " 'The',\n",
              " 'of',\n",
              " 'had',\n",
              " 'in',\n",
              " '.',\n",
              " 'was',\n",
              " ',',\n",
              " 'at',\n",
              " 'the',\n",
              " 'for',\n",
              " 'so',\n",
              " 'a',\n",
              " 'as',\n",
              " 'to',\n",
              " 'man',\n",
              " 'who',\n",
              " 'age',\n",
              " 'his',\n",
              " 'But',\n",
              " 'her',\n",
              " 'ten',\n",
              " 'own',\n",
              " ';',\n",
              " 'he',\n",
              " 'Mr',\n",
              " 'it',\n",
              " 'In',\n",
              " 'old',\n",
              " \"'\",\n",
              " 's',\n",
              " 'His',\n",
              " 'all',\n",
              " 'Mrs',\n",
              " 'not',\n",
              " 'but',\n",
              " 'him',\n",
              " 'By',\n",
              " 'one',\n",
              " 'son',\n",
              " ':',\n",
              " 'on',\n",
              " 'To',\n",
              " 'be',\n",
              " '-',\n",
              " 'He',\n",
              " 'nor',\n",
              " ';--',\n",
              " 'or',\n",
              " 'way',\n",
              " 'no',\n",
              " 'any',\n",
              " 'its',\n",
              " 'up',\n",
              " 'far',\n",
              " 'are',\n",
              " 'two',\n",
              " 'an',\n",
              " 'lay',\n",
              " 'sum',\n",
              " 'law',\n",
              " 'do',\n",
              " 'how',\n",
              " 'ill',\n",
              " 'is',\n",
              " 'Had',\n",
              " ':--',\n",
              " '.--',\n",
              " '\"',\n",
              " 'Yes',\n",
              " '!',\n",
              " 'It',\n",
              " 'day',\n",
              " 'did',\n",
              " 'No',\n",
              " 'HER',\n",
              " 'she',\n",
              " 'act',\n",
              " 'So',\n",
              " 'led',\n",
              " 'She',\n",
              " 'yet',\n",
              " 'saw',\n",
              " 'now',\n",
              " 'too',\n",
              " 'As',\n",
              " 'A',\n",
              " 'boy',\n",
              " 'How',\n",
              " '?',\n",
              " 'And',\n",
              " 'why',\n",
              " 'my',\n",
              " 'me',\n",
              " ',\"',\n",
              " 'I',\n",
              " '.\"',\n",
              " 'say',\n",
              " 'you',\n",
              " 'if',\n",
              " 'new',\n",
              " 'can',\n",
              " 'If',\n",
              " 'our',\n",
              " '--\"',\n",
              " 'Why',\n",
              " 'may',\n",
              " '!\"',\n",
              " 'Oh',\n",
              " '--',\n",
              " '!--',\n",
              " 'One',\n",
              " 'we',\n",
              " 'My',\n",
              " 'An',\n",
              " 'You',\n",
              " 'out',\n",
              " 'Her',\n",
              " 'has',\n",
              " 'am',\n",
              " 'NOT',\n",
              " 'end',\n",
              " 'Do',\n",
              " 'pay',\n",
              " '?--',\n",
              " 'YOU',\n",
              " 'ONE',\n",
              " 'set',\n",
              " 'owe',\n",
              " 'For',\n",
              " 'see',\n",
              " 'get',\n",
              " 'men',\n",
              " 'All',\n",
              " 'few',\n",
              " 'We',\n",
              " 'SHE',\n",
              " '?\"',\n",
              " 'us',\n",
              " 'Yet',\n",
              " 'Nay',\n",
              " 'MY',\n",
              " 'At',\n",
              " 'Of',\n",
              " '(',\n",
              " ',)',\n",
              " 'HIM',\n",
              " 'Sir',\n",
              " 'On',\n",
              " 'Are',\n",
              " 'off',\n",
              " 'Now',\n",
              " 'six',\n",
              " 'bed',\n",
              " 'joy',\n",
              " 'add',\n",
              " 'ask',\n",
              " 'eat',\n",
              " 'sex',\n",
              " 'met',\n",
              " 'gay',\n",
              " 'put',\n",
              " 'HE',\n",
              " 'wit',\n",
              " 'use',\n",
              " 'Did',\n",
              " ')',\n",
              " 'eye',\n",
              " 'try',\n",
              " 'air',\n",
              " 'Is',\n",
              " 'ran',\n",
              " 'got',\n",
              " 'Was',\n",
              " 'Has',\n",
              " 'yes',\n",
              " 'let',\n",
              " 'o',\n",
              " 'Aye',\n",
              " 'aye',\n",
              " \",'\",\n",
              " 'ago',\n",
              " 'Ay',\n",
              " 'Who',\n",
              " 'HIS',\n",
              " 'buy',\n",
              " ',--',\n",
              " '\"--',\n",
              " 'low',\n",
              " 'cut',\n",
              " 'tea',\n",
              " 'red',\n",
              " 'ma',\n",
              " 'sit',\n",
              " 'go',\n",
              " 'bad',\n",
              " ';\"',\n",
              " 'won',\n",
              " 't',\n",
              " 'Can',\n",
              " 'sat',\n",
              " 'WAS',\n",
              " 'bye',\n",
              " 'NOW',\n",
              " 'Not',\n",
              " 'Our',\n",
              " 'ME',\n",
              " 'due',\n",
              " 'odd',\n",
              " '&',\n",
              " 'c',\n",
              " 'fix',\n",
              " 'run',\n",
              " 'bow',\n",
              " 'don',\n",
              " 'Ah',\n",
              " 'Don',\n",
              " 'fit',\n",
              " 'DID',\n",
              " 'beg',\n",
              " 'ear',\n",
              " 'DO',\n",
              " 'tis',\n",
              " 'God',\n",
              " 'Ma',\n",
              " 'CAN',\n",
              " 'Two',\n",
              " \".'\",\n",
              " 'sir']"
            ]
          },
          "metadata": {},
          "execution_count": 117
        }
      ]
    },
    {
      "cell_type": "markdown",
      "source": [
        "### 리스트 <-> 스트링\n",
        "- split() : string.split(separator)\n",
        "    - default = ' '\n",
        "- join() : seperator.join(string)"
      ],
      "metadata": {
        "id": "-_mTKcf9F-nf"
      }
    },
    {
      "cell_type": "code",
      "source": [
        "#str -> list\n",
        "sent = 'I have a pen'\n",
        "sep_sent = sent.split()\n",
        "sep_sent "
      ],
      "metadata": {
        "colab": {
          "base_uri": "https://localhost:8080/"
        },
        "id": "FQotdC0vF9Op",
        "outputId": "5f105dc8-4579-440c-8d42-fa3318dcb381"
      },
      "execution_count": 79,
      "outputs": [
        {
          "output_type": "execute_result",
          "data": {
            "text/plain": [
              "['I', 'have', 'a', 'pen']"
            ]
          },
          "metadata": {},
          "execution_count": 79
        }
      ]
    },
    {
      "cell_type": "code",
      "source": [
        "#['I','have','a','pen'] tokens\n",
        "sent2 = 'I, have, a, pen'\n",
        "sent2.split(',')\n",
        "# 문제점. '옆에 공백이 생김\n",
        "#strip 쓰면 안되는 이유 : list 이기 때문\n",
        "#string.strip 써야함\n",
        "# solution\n",
        "sent_tokens = [word.strip() for word in sent2.split(',')]\n",
        "sent_tokens"
      ],
      "metadata": {
        "colab": {
          "base_uri": "https://localhost:8080/"
        },
        "id": "1tCBKnXI6k1z",
        "outputId": "ecee0727-7367-4124-b667-144279ba2ede"
      },
      "execution_count": 97,
      "outputs": [
        {
          "output_type": "execute_result",
          "data": {
            "text/plain": [
              "['I', 'have', 'a', 'pen']"
            ]
          },
          "metadata": {},
          "execution_count": 97
        }
      ]
    },
    {
      "cell_type": "code",
      "source": [
        "#['I', 'have', 'a', 'car'] => 'I have a car'\n",
        "'-'.join(sent_tokens)"
      ],
      "metadata": {
        "colab": {
          "base_uri": "https://localhost:8080/",
          "height": 35
        },
        "id": "60oePHW_GL38",
        "outputId": "5b4de09d-7de9-47ff-aa18-09bd6705a8fc"
      },
      "execution_count": 98,
      "outputs": [
        {
          "output_type": "execute_result",
          "data": {
            "text/plain": [
              "'I-have-a-pen'"
            ],
            "application/vnd.google.colaboratory.intrinsic+json": {
              "type": "string"
            }
          },
          "metadata": {},
          "execution_count": 98
        }
      ]
    },
    {
      "cell_type": "markdown",
      "source": [
        "### 반복문 맛보기\n",
        "- 자료구조를 순회할 때 사용\n",
        "- 시작 조건, 종료 조건, 수행 명령\n",
        "\n",
        "- for 변수 in <반복 범위>: \n",
        "  <들여쓰기> <수행명령>\n",
        "- <수행명령> for 변수 in <반복 범위>]"
      ],
      "metadata": {
        "id": "887REegIIomB"
      }
    },
    {
      "cell_type": "code",
      "source": [
        "[word for word in sent_tokens]"
      ],
      "metadata": {
        "colab": {
          "base_uri": "https://localhost:8080/"
        },
        "id": "GDbJJfECIqAO",
        "outputId": "44372326-673e-4cbd-db9d-0e17de5e5294"
      },
      "execution_count": 99,
      "outputs": [
        {
          "output_type": "execute_result",
          "data": {
            "text/plain": [
              "['I', 'have', 'a', 'pen']"
            ]
          },
          "metadata": {},
          "execution_count": 99
        }
      ]
    },
    {
      "cell_type": "code",
      "source": [
        "for word in sent_tokens:\n",
        "    print(word)"
      ],
      "metadata": {
        "colab": {
          "base_uri": "https://localhost:8080/"
        },
        "id": "JJKvL9xeIvhq",
        "outputId": "41f10f07-a3f4-44a5-fb83-4c84c65b9b32"
      },
      "execution_count": 100,
      "outputs": [
        {
          "output_type": "stream",
          "name": "stdout",
          "text": [
            "I\n",
            "have\n",
            "a\n",
            "pen\n"
          ]
        }
      ]
    },
    {
      "cell_type": "code",
      "source": [
        "# 1에서 10까지 출력\n",
        "for i in range(10):\n",
        "    print(i)"
      ],
      "metadata": {
        "colab": {
          "base_uri": "https://localhost:8080/"
        },
        "id": "tMyIFG2UI1Qq",
        "outputId": "965f7865-9bfd-4818-b95d-bfaab846fe87"
      },
      "execution_count": 101,
      "outputs": [
        {
          "output_type": "stream",
          "name": "stdout",
          "text": [
            "0\n",
            "1\n",
            "2\n",
            "3\n",
            "4\n",
            "5\n",
            "6\n",
            "7\n",
            "8\n",
            "9\n"
          ]
        }
      ]
    },
    {
      "cell_type": "markdown",
      "source": [
        "### Ex\n",
        "- 1. text6에서 길이가 4자 이하인 알파벳 중 ie를 포함하는 단어를 단어 개수로 출력하세요.\n",
        "    - 예: [1, 3, 4, 3]\n",
        "- 2. text2에서 ch로 끝나는 단어를 출력하는데\n",
        "    - 중복 없고\n",
        "    - 첫 글자의 ch 남기고 가운데는 모두 -로 가려라.\n",
        "        예: much -> m-ch\n",
        "        m.........ch\n",
        "        - ch로 시작하면 바꾸면 안 됨\n",
        "    - 정렬:\n",
        "        - 문자 길이로 정렬하기"
      ],
      "metadata": {
        "id": "XdW-SfvBJNZU"
      }
    },
    {
      "cell_type": "code",
      "source": [
        "# Quiz 1\n",
        "text6=book.text6"
      ],
      "metadata": {
        "id": "Tj4NjYasJWMu"
      },
      "execution_count": 102,
      "outputs": []
    },
    {
      "cell_type": "code",
      "source": [
        "Quiz = [word for word in text6.tokens if (len(word) <=4) and ('ie' in word)]"
      ],
      "metadata": {
        "id": "275aJilxJWPZ"
      },
      "execution_count": null,
      "outputs": []
    },
    {
      "cell_type": "code",
      "source": [
        "len(Quiz)"
      ],
      "metadata": {
        "colab": {
          "base_uri": "https://localhost:8080/"
        },
        "id": "c2Z-3q24UhrF",
        "outputId": "a58ffce4-5d38-43fb-fdf7-8369f0c2b7e9"
      },
      "execution_count": 124,
      "outputs": [
        {
          "output_type": "execute_result",
          "data": {
            "text/plain": [
              "23"
            ]
          },
          "metadata": {},
          "execution_count": 124
        }
      ]
    },
    {
      "cell_type": "code",
      "source": [
        "# Quiz 2\n",
        "text2 = book.text2\n",
        "Quiz2 = list(set([word for word in text2 if word.endswith('ch')]))\n",
        "\n",
        "for word in Quiz2:\n",
        "    if word.endswith('ch'): \n",
        "      #죄송합니다 여러가지 시도를 해보았지만 잘 모르겠습니다....\n",
        "\n",
        "      "
      ],
      "metadata": {
        "colab": {
          "base_uri": "https://localhost:8080/"
        },
        "id": "sf449OB-K1-T",
        "outputId": "9532f6fa-f8ca-4b0e-aab4-baab131f09a1"
      },
      "execution_count": 132,
      "outputs": [
        {
          "output_type": "execute_result",
          "data": {
            "text/plain": [
              "['sketch',\n",
              " 'search',\n",
              " 'stretch',\n",
              " 'March',\n",
              " 'inch',\n",
              " 'catch',\n",
              " 'despatch',\n",
              " 'teach',\n",
              " 'bitch',\n",
              " 'Which',\n",
              " 'Such',\n",
              " 'Much',\n",
              " 'approach',\n",
              " 'which',\n",
              " 'dispatch',\n",
              " 'match',\n",
              " 'attach',\n",
              " 'such',\n",
              " 'pitch',\n",
              " 'reach',\n",
              " 'watch',\n",
              " 'coach',\n",
              " 'fetch',\n",
              " 'enrich',\n",
              " 'breach',\n",
              " 'touch',\n",
              " 'speech',\n",
              " 'each',\n",
              " 'much',\n",
              " 'rich',\n",
              " 'Each',\n",
              " 'church',\n",
              " 'reproach',\n",
              " 'scratch',\n",
              " 'branch',\n",
              " 'stomach']"
            ]
          },
          "metadata": {},
          "execution_count": 132
        }
      ]
    },
    {
      "cell_type": "code",
      "source": [
        ""
      ],
      "metadata": {
        "id": "3vqoEQ-XW9o4"
      },
      "execution_count": null,
      "outputs": []
    }
  ]
}