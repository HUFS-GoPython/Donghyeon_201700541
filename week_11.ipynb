{
  "nbformat": 4,
  "nbformat_minor": 0,
  "metadata": {
    "colab": {
      "name": "week_11.ipynb",
      "provenance": [],
      "collapsed_sections": []
    },
    "kernelspec": {
      "name": "python3",
      "display_name": "Python 3"
    },
    "language_info": {
      "name": "python"
    }
  },
  "cells": [
    {
      "cell_type": "markdown",
      "source": [
        "###상속 | inheritance\n",
        "- 이전 클래스의 내용을 추가, 변경해야 할 경우\n",
        "- 코드 재사용에 유용하다.\n",
        "- 기준 : vehicle, parent, super , base, 부모클래스\n",
        "- 상속 받는 클래스 : child, sub, derived, 자식클래스\n",
        "- Vehicile <- Car\n",
        "  - 부모 클래스를 자식 클래스가 구체화시킨다.\n",
        "  - Car is a-vehicle\n",
        "  - has-a : Notebook has a-Note"
      ],
      "metadata": {
        "id": "Ej64KjNkwwuC"
      }
    },
    {
      "cell_type": "code",
      "execution_count": 2,
      "metadata": {
        "id": "lZU8EG4mwv6S"
      },
      "outputs": [],
      "source": [
        "class Vehicle:  \n",
        "    def __init__(self, speed):\n",
        "        self.speed = speed\n",
        "      \n",
        "    def go(self):\n",
        "        print(f'{self.speed}의 속력으로 달린다.')\n",
        "\n",
        " #자식클래스\n",
        "class Car(Vehicle):\n",
        "     pass"
      ]
    },
    {
      "cell_type": "code",
      "source": [
        "car = Car('22km/h')"
      ],
      "metadata": {
        "id": "Sus81H1zxsxN"
      },
      "execution_count": 3,
      "outputs": []
    },
    {
      "cell_type": "code",
      "source": [
        "car.go()"
      ],
      "metadata": {
        "colab": {
          "base_uri": "https://localhost:8080/"
        },
        "id": "0ZWErE88xzFO",
        "outputId": "e182b150-26d8-4e65-99a0-8af55775c851"
      },
      "execution_count": 4,
      "outputs": [
        {
          "output_type": "stream",
          "name": "stdout",
          "text": [
            "22km/h의 속력으로 달린다.\n"
          ]
        }
      ]
    },
    {
      "cell_type": "markdown",
      "source": [
        "####추가 변경\n",
        "- 속성(변수)"
      ],
      "metadata": {
        "id": "Cv2RKyFiziA3"
      }
    },
    {
      "cell_type": "code",
      "source": [
        "class Car(Vehicle):\n",
        "    def __init__(self, speed, brand):\n",
        "        # self.speed = speed\n",
        "        super().__init__(speed) #speed = 부모로부터 가져온 것\n",
        "        self.brand = brand # 독자적인 속성\n",
        "        # self = 자신"
      ],
      "metadata": {
        "id": "nJkbUz9nveyC"
      },
      "execution_count": 12,
      "outputs": []
    },
    {
      "cell_type": "code",
      "source": [
        "car2 = Car('12km/h', 'kia')"
      ],
      "metadata": {
        "id": "RfuN_8Jnv1mA"
      },
      "execution_count": 14,
      "outputs": []
    },
    {
      "cell_type": "code",
      "source": [
        "car2.speed"
      ],
      "metadata": {
        "colab": {
          "base_uri": "https://localhost:8080/",
          "height": 35
        },
        "id": "HbXYBqtjv_e6",
        "outputId": "4a7245d2-7a33-4da1-831b-56f9fde18b2e"
      },
      "execution_count": 15,
      "outputs": [
        {
          "output_type": "execute_result",
          "data": {
            "text/plain": [
              "'12km/h'"
            ],
            "application/vnd.google.colaboratory.intrinsic+json": {
              "type": "string"
            }
          },
          "metadata": {},
          "execution_count": 15
        }
      ]
    },
    {
      "cell_type": "markdown",
      "source": [
        "- 메소드 변경 => 오버라이드(override),재정의"
      ],
      "metadata": {
        "id": "buKcGdIvu_H_"
      }
    },
    {
      "cell_type": "code",
      "source": [
        "class Car(Vehicle):\n",
        "  def __init__(self, speed, brand):\n",
        "    #self.sppeed = speed\n",
        "    super().__init__(speed) # 선택적 인수 설정하기\n",
        "    self.brand = brand\n",
        "  \n",
        "  def go(self): #override\n",
        "    #부모의 go도 같이 타고 싶다\n",
        "    super().go()\n",
        "    print(f'차종은 {self.brand}')\n",
        "  def stop(self):\n",
        "    print('차가 멈춘다')\n",
        "\n",
        "  "
      ],
      "metadata": {
        "id": "q3HggE3vyZGe"
      },
      "execution_count": 16,
      "outputs": []
    },
    {
      "cell_type": "code",
      "source": [
        "car3 = Car('15km/h', 'nissan')\n",
        "car3.go()\n",
        "car3.stop()"
      ],
      "metadata": {
        "colab": {
          "base_uri": "https://localhost:8080/"
        },
        "id": "0cbz3HBP0dtP",
        "outputId": "ab86820a-5bb3-42cb-a607-f0220bde56ac"
      },
      "execution_count": 18,
      "outputs": [
        {
          "output_type": "stream",
          "name": "stdout",
          "text": [
            "15km/h의 속력으로 달린다.\n",
            "차종은 nissan\n",
            "차가 멈춘다\n"
          ]
        }
      ]
    },
    {
      "cell_type": "code",
      "source": [
        ""
      ],
      "metadata": {
        "id": "JckSZEfU0wyX"
      },
      "execution_count": null,
      "outputs": []
    },
    {
      "cell_type": "markdown",
      "source": [
        "실습"
      ],
      "metadata": {
        "id": "-sM7cusLwUtY"
      }
    },
    {
      "cell_type": "code",
      "source": [
        "class Person:\n",
        "    def __init__(self, name):\n",
        "        self.name = name\n",
        "\n",
        "class Doctor(Person):\n",
        "    def __init__(self, name):\n",
        "        super().__init__('Dr. '+ name)  #부모의 이름 가져옴\n",
        "\n",
        "class Male(Person):\n",
        "    #Mr. name\n",
        "    def __init__(self, name):\n",
        "        super().__init__('Mr. '+ name)\n",
        "\n",
        "class Female(Person):\n",
        "    #Mrs. name\n",
        "    def __init__(self, name):\n",
        "        super().__init__('Mrs. '+ name)\n"
      ],
      "metadata": {
        "id": "dqjS8mTYwVvK"
      },
      "execution_count": 19,
      "outputs": []
    },
    {
      "cell_type": "code",
      "source": [
        "mr1 = Male('Kim')\n",
        "mr1.name"
      ],
      "metadata": {
        "colab": {
          "base_uri": "https://localhost:8080/",
          "height": 35
        },
        "id": "9QOL_vSlxAgm",
        "outputId": "0f62acd4-10d3-4a5a-992d-a056aad70c39"
      },
      "execution_count": 21,
      "outputs": [
        {
          "output_type": "execute_result",
          "data": {
            "text/plain": [
              "'Mr. Kim'"
            ],
            "application/vnd.google.colaboratory.intrinsic+json": {
              "type": "string"
            }
          },
          "metadata": {},
          "execution_count": 21
        }
      ]
    },
    {
      "cell_type": "markdown",
      "source": [
        "###다중 상속\n",
        "- method resolution order(MRO)\n",
        "- Animal <- Horse\n",
        "         <- Donkey\n",
        "         <- Mule (donkey > horse)\n",
        "         <- Hinny (horse > donkey)"
      ],
      "metadata": {
        "id": "r3sRODs8xX6I"
      }
    },
    {
      "cell_type": "code",
      "source": [
        "class Animal:\n",
        "    def says(self):\n",
        "        return \"동물이 운다\"\n",
        "\n",
        "#-------------child\n",
        "class Horse(Animal):\n",
        "    def says(self):\n",
        "        return \"히히힝\"\n",
        "  \n",
        "class Donkey(Animal):\n",
        "    def says(self):\n",
        "        return \"히이호\"\n",
        "    \n",
        "#-------------grandchild\n",
        "class Mule(Donkey, Horse):\n",
        "    pass\n",
        "\n",
        "class Hinny(Horse, Donkey):\n",
        "    pass"
      ],
      "metadata": {
        "id": "XsCCA_o5xEmz"
      },
      "execution_count": 23,
      "outputs": []
    },
    {
      "cell_type": "code",
      "source": [
        "Mule().says()"
      ],
      "metadata": {
        "colab": {
          "base_uri": "https://localhost:8080/",
          "height": 35
        },
        "id": "OtLgxg5tx1BG",
        "outputId": "7f3d936f-6243-4648-faab-fe6ba6d62898"
      },
      "execution_count": 24,
      "outputs": [
        {
          "output_type": "execute_result",
          "data": {
            "text/plain": [
              "'히이호'"
            ],
            "application/vnd.google.colaboratory.intrinsic+json": {
              "type": "string"
            }
          },
          "metadata": {},
          "execution_count": 24
        }
      ]
    },
    {
      "cell_type": "code",
      "source": [
        "Hinny().says()"
      ],
      "metadata": {
        "colab": {
          "base_uri": "https://localhost:8080/",
          "height": 35
        },
        "id": "t06tteyyx08j",
        "outputId": "fc9b5711-cbee-4fe6-eb69-d6d23f8621cd"
      },
      "execution_count": 25,
      "outputs": [
        {
          "output_type": "execute_result",
          "data": {
            "text/plain": [
              "'히히힝'"
            ],
            "application/vnd.google.colaboratory.intrinsic+json": {
              "type": "string"
            }
          },
          "metadata": {},
          "execution_count": 25
        }
      ]
    },
    {
      "cell_type": "code",
      "source": [
        "Mule.mro()"
      ],
      "metadata": {
        "colab": {
          "base_uri": "https://localhost:8080/"
        },
        "id": "yS5SG-CJx5nW",
        "outputId": "703dc5e7-648d-4eba-f2fe-c335293e3564"
      },
      "execution_count": 26,
      "outputs": [
        {
          "output_type": "execute_result",
          "data": {
            "text/plain": [
              "[__main__.Mule, __main__.Donkey, __main__.Horse, __main__.Animal, object]"
            ]
          },
          "metadata": {},
          "execution_count": 26
        }
      ]
    },
    {
      "cell_type": "markdown",
      "source": [
        "다형성, duck typing"
      ],
      "metadata": {
        "id": "Y07bmr75z1yX"
      }
    },
    {
      "cell_type": "code",
      "source": [
        "for animal in [Animal(), Horse(), Mule()]:\n",
        "    print(animal.says())"
      ],
      "metadata": {
        "colab": {
          "base_uri": "https://localhost:8080/"
        },
        "id": "Rm12DKO_x6iV",
        "outputId": "c6541e36-856d-4cee-a191-814ed5a3fe15"
      },
      "execution_count": 28,
      "outputs": [
        {
          "output_type": "stream",
          "name": "stdout",
          "text": [
            "동물이 운다\n",
            "히히힝\n",
            "히이호\n"
          ]
        }
      ]
    },
    {
      "cell_type": "markdown",
      "source": [
        "## 매서드\n",
        "\n",
        "- 인스턴스 메서드 : 앞서 배운 메서드들\n",
        "  - 첫 번째 인수가 self인 메서드\n",
        "  - 객체 생성 -> 사용 가능 (self) (붕어빵을 찍고 사용)\n",
        "- 클래스 메서드\n",
        "  - 객체마다 달라지지 않음\n",
        "  - 모든 객체가 공유하는 변수, 메소드 (붕어빵의 반죽을 바꾸는 것)\n",
        "  - 예약어는 cls 사용\n",
        "  - @classmethod 데코레이터 사용\n",
        "  - 객체 생성하지 않고 메서드에 접근 가능 !!\n",
        "- 정적 메서드\n",
        "  - @staticmethod\n",
        "  - 클래스나 인스턴스에 접근하지 않음\n",
        "  - 비슷한 유틸리티라서 클래스 내에 묶어둘 때 사용함\n",
        "  - 객체 생성하지 않고 메서드 접근 가능 !!\n",
        "- 추상 메서드\n",
        "  - abstract\n",
        "  -@abstractmethod\n",
        "\n"
      ],
      "metadata": {
        "id": "g8HEzRIM0IVB"
      }
    },
    {
      "cell_type": "code",
      "source": [
        "# 인스턴스 메서드\n",
        "h = Hinny()\n",
        "h.says()"
      ],
      "metadata": {
        "colab": {
          "base_uri": "https://localhost:8080/",
          "height": 35
        },
        "id": "KIpUnyA8z8g2",
        "outputId": "c86cc03d-20c6-406d-f1d6-78f9b1e0f59f"
      },
      "execution_count": 29,
      "outputs": [
        {
          "output_type": "execute_result",
          "data": {
            "text/plain": [
              "'히히힝'"
            ],
            "application/vnd.google.colaboratory.intrinsic+json": {
              "type": "string"
            }
          },
          "metadata": {},
          "execution_count": 29
        }
      ]
    },
    {
      "cell_type": "code",
      "source": [
        "# 클래스 메서드\n",
        "class A:\n",
        "    cnt = 0\n",
        "    \n",
        "    def move(cls):\n",
        "        print(cls.cnt)"
      ],
      "metadata": {
        "id": "CQyexPAX1L89"
      },
      "execution_count": 31,
      "outputs": []
    },
    {
      "cell_type": "code",
      "source": [
        "A().move()"
      ],
      "metadata": {
        "colab": {
          "base_uri": "https://localhost:8080/"
        },
        "id": "EjO6THEl1M7b",
        "outputId": "bfb4b561-314d-4c7b-f954-a224c55c2b81"
      },
      "execution_count": 32,
      "outputs": [
        {
          "output_type": "stream",
          "name": "stdout",
          "text": [
            "0\n"
          ]
        }
      ]
    },
    {
      "cell_type": "code",
      "source": [
        "class B:\n",
        "    cnt = 0\n",
        "    \n",
        "    def __init__(self):\n",
        "        B.cnt += 1\n",
        "        \n",
        "    #class method\n",
        "    @classmethod\n",
        "    def count(cls):\n",
        "        # 객체가 생성될 때마다 횟수 증가해서 프린트하기\n",
        "        \n",
        "        #cls.cnt += 1\n",
        "        print(cls.cnt)"
      ],
      "metadata": {
        "id": "S_mSsqsd1Z2_"
      },
      "execution_count": 33,
      "outputs": []
    },
    {
      "cell_type": "code",
      "source": [
        "B()\n",
        "B()\n",
        "B()\n",
        "B().count()"
      ],
      "metadata": {
        "colab": {
          "base_uri": "https://localhost:8080/"
        },
        "id": "1XlGY8kN3IRf",
        "outputId": "c61f1e46-563f-4a9e-9c22-eeb6605c7570"
      },
      "execution_count": 34,
      "outputs": [
        {
          "output_type": "stream",
          "name": "stdout",
          "text": [
            "4\n"
          ]
        }
      ]
    },
    {
      "cell_type": "code",
      "source": [
        "class Person:\n",
        "    def __init__(self, name, age):\n",
        "        self.name = name\n",
        "        self.age = age\n",
        "        \n",
        "    @classmethod\n",
        "    def tuple_object(cls, args):\n",
        "        # 튜플로 인자를 받아서 객체 생성하는 메서드 만들기\n",
        "        return cls(args[0], args[1])\n",
        "        \n",
        "name = 'Oh'\n",
        "age = 22\n",
        "\n",
        "P = Person(name, age)\n",
        "\n",
        "info = name, age\n",
        "P = Person.tuple_object(info)  #객체 생성하지 않고 메서드에 접근했다"
      ],
      "metadata": {
        "id": "q_mRptTX3JVK"
      },
      "execution_count": 39,
      "outputs": []
    },
    {
      "cell_type": "code",
      "source": [
        "P.name"
      ],
      "metadata": {
        "colab": {
          "base_uri": "https://localhost:8080/",
          "height": 35
        },
        "id": "0ZKmr8b53KKm",
        "outputId": "d7dd7685-4e25-49bb-c701-a73c48105880"
      },
      "execution_count": 40,
      "outputs": [
        {
          "output_type": "execute_result",
          "data": {
            "text/plain": [
              "'Oh'"
            ],
            "application/vnd.google.colaboratory.intrinsic+json": {
              "type": "string"
            }
          },
          "metadata": {},
          "execution_count": 40
        }
      ]
    },
    {
      "cell_type": "code",
      "source": [
        "\n",
        "P.age"
      ],
      "metadata": {
        "colab": {
          "base_uri": "https://localhost:8080/"
        },
        "id": "L1V9CsKC3Kza",
        "outputId": "6184cf16-fe89-4a2e-ca08-236920932090"
      },
      "execution_count": 41,
      "outputs": [
        {
          "output_type": "execute_result",
          "data": {
            "text/plain": [
              "22"
            ]
          },
          "metadata": {},
          "execution_count": 41
        }
      ]
    },
    {
      "cell_type": "code",
      "source": [
        "# 정적 메서드\n",
        "class Coyote:\n",
        "    \n",
        "    @staticmethod  #데코레이터\n",
        "    def says():  #self를 쓰지 않음\n",
        "        return 'hi'\n",
        "    \n",
        "Coyote.says()  #Coyote()안해도 돼\n"
      ],
      "metadata": {
        "colab": {
          "base_uri": "https://localhost:8080/",
          "height": 35
        },
        "id": "qfFe9Oy73MG2",
        "outputId": "b4164faa-1739-4d09-9d8c-19064d309d5a"
      },
      "execution_count": 38,
      "outputs": [
        {
          "output_type": "execute_result",
          "data": {
            "text/plain": [
              "'hi'"
            ],
            "application/vnd.google.colaboratory.intrinsic+json": {
              "type": "string"
            }
          },
          "metadata": {},
          "execution_count": 38
        }
      ]
    },
    {
      "cell_type": "code",
      "source": [
        "# 추상메서드\n",
        "from abc import *\n",
        "\n",
        "class Vehicle(metaclass = ABCMeta):  #추상클래스 정의\n",
        "    # 변수에 뭘 넣을지 정의하기\n",
        "    speed = '속도'\n",
        "    \n",
        "    # 자식 클래스가 오버라이드 해야 하는 메서드 정의, 구체화는 하지 X\n",
        "    @abstractmethod\n",
        "    def drive(self):\n",
        "        print('교통수단에 관하여')\n",
        "        \n",
        "class Car(Vehicle):\n",
        "    def drive(self):\n",
        "        return super().speed"
      ],
      "metadata": {
        "id": "l603Ezcs3ieW"
      },
      "execution_count": 42,
      "outputs": []
    },
    {
      "cell_type": "markdown",
      "source": [
        "### 매직메소드\n",
        "\n",
        "- init : special method\n",
        "- object class를 재정의하는 것 중 하나임\n",
        "  - str\n",
        "  - repr"
      ],
      "metadata": {
        "id": "wi4yJR0x3n-u"
      }
    },
    {
      "cell_type": "code",
      "source": [
        "class Person(object):\n",
        "    def __init__(self, name):\n",
        "        self.name = name\n",
        "        \n",
        "    def __str__(self):\n",
        "        # 인스턴스를 스트링으로 출력: 이름, 메모리주소\n",
        "        # print(인스턴스) 했을 때 출력되는 값\n",
        "        return self.name\n",
        "    \n",
        "    def __repr__(self):\n",
        "        # 사용자 이해할 수 있게 객체를 출력하고 싶을 때 사용한다.\n",
        "        return f'Person({self.name})'"
      ],
      "metadata": {
        "id": "28njIJe236f9"
      },
      "execution_count": 44,
      "outputs": []
    },
    {
      "cell_type": "code",
      "source": [
        "p = Person('Kim')\n",
        "p"
      ],
      "metadata": {
        "colab": {
          "base_uri": "https://localhost:8080/"
        },
        "id": "VRijyH0C3ltj",
        "outputId": "abb8e7fc-de08-4bdf-e2fc-c7aeb3bff43c"
      },
      "execution_count": 47,
      "outputs": [
        {
          "output_type": "execute_result",
          "data": {
            "text/plain": [
              "Person(Kim)"
            ]
          },
          "metadata": {},
          "execution_count": 47
        }
      ]
    },
    {
      "cell_type": "code",
      "source": [
        "print(p)"
      ],
      "metadata": {
        "colab": {
          "base_uri": "https://localhost:8080/"
        },
        "id": "NGyjaGgT39vE",
        "outputId": "30cb91b7-afde-4dce-ae6e-3f25201e67fb"
      },
      "execution_count": 48,
      "outputs": [
        {
          "output_type": "stream",
          "name": "stdout",
          "text": [
            "Kim\n"
          ]
        }
      ]
    },
    {
      "cell_type": "code",
      "source": [
        "str(p)"
      ],
      "metadata": {
        "colab": {
          "base_uri": "https://localhost:8080/",
          "height": 35
        },
        "id": "mL5KrC_D39-I",
        "outputId": "660717c5-938e-4bd8-c8ca-efc432d925e7"
      },
      "execution_count": 49,
      "outputs": [
        {
          "output_type": "execute_result",
          "data": {
            "text/plain": [
              "'Kim'"
            ],
            "application/vnd.google.colaboratory.intrinsic+json": {
              "type": "string"
            }
          },
          "metadata": {},
          "execution_count": 49
        }
      ]
    },
    {
      "cell_type": "code",
      "source": [
        "repr(p)"
      ],
      "metadata": {
        "colab": {
          "base_uri": "https://localhost:8080/",
          "height": 35
        },
        "id": "6JqSzoqb4CBG",
        "outputId": "33893606-d8da-4762-bdd6-434f2df8a318"
      },
      "execution_count": 50,
      "outputs": [
        {
          "output_type": "execute_result",
          "data": {
            "text/plain": [
              "'Person(Kim)'"
            ],
            "application/vnd.google.colaboratory.intrinsic+json": {
              "type": "string"
            }
          },
          "metadata": {},
          "execution_count": 50
        }
      ]
    },
    {
      "cell_type": "markdown",
      "source": [
        "### namedtuple, dataclass\n",
        "\n",
        "- 변수만 있는 클래스 설정할 때 더 효율적으로 사용하는 수단\n",
        "- 딕셔너리 키와 같은 기능"
      ],
      "metadata": {
        "id": "-8p_GDHt4EUA"
      }
    },
    {
      "cell_type": "code",
      "source": [
        "from collections import namedtuple\n",
        "\n",
        "Person = namedtuple(\"Person\", \"name age\")  #(클래스 이름, 필요한 변수)\n",
        "a = Person('kim', '33')"
      ],
      "metadata": {
        "id": "iwM5X3RU4PG4"
      },
      "execution_count": 51,
      "outputs": []
    },
    {
      "cell_type": "code",
      "source": [
        "a.name"
      ],
      "metadata": {
        "colab": {
          "base_uri": "https://localhost:8080/",
          "height": 35
        },
        "id": "lx5uoPxT4PkB",
        "outputId": "9266b69e-1093-4ca4-9954-acddbb414723"
      },
      "execution_count": 52,
      "outputs": [
        {
          "output_type": "execute_result",
          "data": {
            "text/plain": [
              "'kim'"
            ],
            "application/vnd.google.colaboratory.intrinsic+json": {
              "type": "string"
            }
          },
          "metadata": {},
          "execution_count": 52
        }
      ]
    },
    {
      "cell_type": "code",
      "source": [
        "a.age"
      ],
      "metadata": {
        "colab": {
          "base_uri": "https://localhost:8080/",
          "height": 35
        },
        "id": "lvn-pJOI4RGI",
        "outputId": "58169af6-5db4-44f7-ab63-df8c469913c7"
      },
      "execution_count": 54,
      "outputs": [
        {
          "output_type": "execute_result",
          "data": {
            "text/plain": [
              "'33'"
            ],
            "application/vnd.google.colaboratory.intrinsic+json": {
              "type": "string"
            }
          },
          "metadata": {},
          "execution_count": 54
        }
      ]
    },
    {
      "cell_type": "code",
      "source": [
        "a._replace(name = 'Oh')"
      ],
      "metadata": {
        "colab": {
          "base_uri": "https://localhost:8080/"
        },
        "id": "uPUGu4vD4Siz",
        "outputId": "46bece6a-57fc-4147-c5c4-0281732abb29"
      },
      "execution_count": 56,
      "outputs": [
        {
          "output_type": "execute_result",
          "data": {
            "text/plain": [
              "Person(name='Oh', age='33')"
            ]
          },
          "metadata": {},
          "execution_count": 56
        }
      ]
    },
    {
      "cell_type": "code",
      "source": [
        "from dataclasses import dataclass\n",
        "\n",
        "@dataclass\n",
        "class Person:\n",
        "    name: str\n",
        "    age : str"
      ],
      "metadata": {
        "id": "aSik3qgH4YTB"
      },
      "execution_count": 57,
      "outputs": []
    },
    {
      "cell_type": "code",
      "source": [
        "a = Person('Lee',22)"
      ],
      "metadata": {
        "id": "XVqXPT3x4Y6d"
      },
      "execution_count": 58,
      "outputs": []
    },
    {
      "cell_type": "code",
      "source": [
        "a"
      ],
      "metadata": {
        "colab": {
          "base_uri": "https://localhost:8080/"
        },
        "id": "rwRfNymR4Y2r",
        "outputId": "bd20987b-53f3-4680-848e-85336b313c1c"
      },
      "execution_count": 61,
      "outputs": [
        {
          "output_type": "execute_result",
          "data": {
            "text/plain": [
              "Person(name='Lee', age=22)"
            ]
          },
          "metadata": {},
          "execution_count": 61
        }
      ]
    },
    {
      "cell_type": "code",
      "source": [
        "a.name"
      ],
      "metadata": {
        "colab": {
          "base_uri": "https://localhost:8080/",
          "height": 35
        },
        "id": "TM0wrsUn4bzu",
        "outputId": "e599fcc9-04c0-4406-822b-d83c19759283"
      },
      "execution_count": 62,
      "outputs": [
        {
          "output_type": "execute_result",
          "data": {
            "text/plain": [
              "'Lee'"
            ],
            "application/vnd.google.colaboratory.intrinsic+json": {
              "type": "string"
            }
          },
          "metadata": {},
          "execution_count": 62
        }
      ]
    },
    {
      "cell_type": "code",
      "source": [
        "a.age"
      ],
      "metadata": {
        "colab": {
          "base_uri": "https://localhost:8080/"
        },
        "id": "5Sl37IjC4cUi",
        "outputId": "e7c17d13-0ea7-4048-95d2-46f18a9bc5d0"
      },
      "execution_count": 63,
      "outputs": [
        {
          "output_type": "execute_result",
          "data": {
            "text/plain": [
              "22"
            ]
          },
          "metadata": {},
          "execution_count": 63
        }
      ]
    },
    {
      "cell_type": "code",
      "source": [
        ""
      ],
      "metadata": {
        "id": "dfxm0Dmj4iSM"
      },
      "execution_count": null,
      "outputs": []
    }
  ]
}