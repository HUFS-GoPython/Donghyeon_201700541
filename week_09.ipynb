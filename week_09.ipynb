{
  "nbformat": 4,
  "nbformat_minor": 0,
  "metadata": {
    "colab": {
      "name": "week_09.ipynb",
      "provenance": [],
      "collapsed_sections": []
    },
    "kernelspec": {
      "name": "python3",
      "display_name": "Python 3"
    },
    "language_info": {
      "name": "python"
    }
  },
  "cells": [
    {
      "cell_type": "markdown",
      "source": [
        "#week_09"
      ],
      "metadata": {
        "id": "i6dQZQRqNrO8"
      }
    },
    {
      "cell_type": "markdown",
      "source": [
        "### Dictionary\n",
        "- 영어사전이라고 생각하면, 단어: 뜻\n",
        "- 키: 값\n",
        "  - 키 값은 고유해야 한다.\n",
        "- 순서가 없음 => 오프셋 없음\n",
        "- 가변 객체 (수정, 추가, 삭제 가능)\n",
        "- 타입: dict,dict()\n",
        "- 생성: {키1: 밸류1, k2: v2, ...} 중괄호 사용\n",
        "- value에는 리스트, 튜플, 딕셔너리도 들어갈 수 있음."
      ],
      "metadata": {
        "id": "MzaTNJcQNrGT"
      }
    },
    {
      "cell_type": "code",
      "source": [
        "a = [1,2,3]\n",
        "a[0] #이런 순서가 없음"
      ],
      "metadata": {
        "colab": {
          "base_uri": "https://localhost:8080/"
        },
        "id": "tYLV6a_uNq6E",
        "outputId": "c9fb74a6-c514-4eeb-d0e4-d6b906ce89bc"
      },
      "execution_count": null,
      "outputs": [
        {
          "output_type": "execute_result",
          "data": {
            "text/plain": [
              "1"
            ]
          },
          "metadata": {},
          "execution_count": 1
        }
      ]
    },
    {
      "cell_type": "code",
      "source": [
        "empty = dict()\n",
        "empty = {}\n",
        "empty"
      ],
      "metadata": {
        "colab": {
          "base_uri": "https://localhost:8080/"
        },
        "id": "sdLXARLHOCj6",
        "outputId": "b38d70a1-0167-4d87-b6f1-3abbefd3fb11"
      },
      "execution_count": null,
      "outputs": [
        {
          "output_type": "execute_result",
          "data": {
            "text/plain": [
              "{}"
            ]
          },
          "metadata": {},
          "execution_count": 2
        }
      ]
    },
    {
      "cell_type": "code",
      "source": [
        "a = [1,2,3]\n",
        "a = {} #dictionary"
      ],
      "metadata": {
        "id": "VtV9Ce1QOaj2"
      },
      "execution_count": null,
      "outputs": []
    },
    {
      "cell_type": "code",
      "source": [
        "customer = {\"first': 'wile', 'middle':'E','last:'coyote'\"}\n",
        "customer"
      ],
      "metadata": {
        "colab": {
          "base_uri": "https://localhost:8080/"
        },
        "id": "5tz98EQbOae4",
        "outputId": "dca19471-4d3a-48c1-a9e8-34e617ed9530"
      },
      "execution_count": null,
      "outputs": [
        {
          "output_type": "execute_result",
          "data": {
            "text/plain": [
              "{\"first': 'wile', 'middle':'E','last:'coyote'\"}"
            ]
          },
          "metadata": {},
          "execution_count": 4
        }
      ]
    },
    {
      "cell_type": "code",
      "source": [
        "customer = dict(first='wile', middle='F', last='coyote')\n",
        "customer"
      ],
      "metadata": {
        "colab": {
          "base_uri": "https://localhost:8080/"
        },
        "id": "zvVHtwLyOacC",
        "outputId": "d83ba5f0-d754-4501-b385-3d9ab51ebb33"
      },
      "execution_count": null,
      "outputs": [
        {
          "output_type": "execute_result",
          "data": {
            "text/plain": [
              "{'first': 'wile', 'last': 'coyote', 'middle': 'F'}"
            ]
          },
          "metadata": {},
          "execution_count": 5
        }
      ]
    },
    {
      "cell_type": "code",
      "source": [
        "# 출석부 딕셔너리를 만들기\n",
        "\"\"\"\n",
        "이름, 학번, 학과\n",
        "제임스 202201 경영\n",
        "줄리엣 202202 아랍어\n",
        "로버트 202203 ELLT과\n",
        "\"\"\"\n",
        "student_dic = {}"
      ],
      "metadata": {
        "id": "pMDBGx2aOaXk"
      },
      "execution_count": 3,
      "outputs": []
    },
    {
      "cell_type": "code",
      "source": [
        "student_dic = {202201 :['제임스, 경제학과'], 202202 : ['줄리엣, 아랍어'], 202203 : ['로버트, ELLT']}\n",
        "student_dic"
      ],
      "metadata": {
        "id": "XCk4oqeQPWxl",
        "colab": {
          "base_uri": "https://localhost:8080/"
        },
        "outputId": "f9e310e3-c755-4e58-8f76-c98fdecc1b3b"
      },
      "execution_count": 2,
      "outputs": [
        {
          "output_type": "execute_result",
          "data": {
            "text/plain": [
              "{202201: ['제임스, 경제학과'], 202202: ['줄리엣, 아랍어'], 202203: ['로버트, ELLT']}"
            ]
          },
          "metadata": {},
          "execution_count": 2
        }
      ]
    },
    {
      "cell_type": "code",
      "source": [
        "#dict()\n",
        "ex1 = [[1,2], [3,4], [5,6]]\n",
        "dict(ex1)"
      ],
      "metadata": {
        "colab": {
          "base_uri": "https://localhost:8080/"
        },
        "id": "iTPAtdq9Pdq-",
        "outputId": "6b2d0b43-c4e1-4139-efe3-647ef9fdcdd3"
      },
      "execution_count": null,
      "outputs": [
        {
          "output_type": "execute_result",
          "data": {
            "text/plain": [
              "{1: 2, 3: 4, 5: 6}"
            ]
          },
          "metadata": {},
          "execution_count": 7
        }
      ]
    },
    {
      "cell_type": "code",
      "source": [
        "ex2 = [(1,2), (3,4), (5,6)]\n",
        "dict(ex2)"
      ],
      "metadata": {
        "colab": {
          "base_uri": "https://localhost:8080/"
        },
        "id": "Qzk6e2A7Pdjh",
        "outputId": "d7b34701-83d2-4e81-b6b9-3c26be1f717f"
      },
      "execution_count": null,
      "outputs": [
        {
          "output_type": "execute_result",
          "data": {
            "text/plain": [
              "{1: 2, 3: 4, 5: 6}"
            ]
          },
          "metadata": {},
          "execution_count": 8
        }
      ]
    },
    {
      "cell_type": "code",
      "source": [
        "ex3 = ['ab', 'bc', 'cd']\n",
        "dict(ex3)"
      ],
      "metadata": {
        "colab": {
          "base_uri": "https://localhost:8080/"
        },
        "id": "A-4hnxZEPgBJ",
        "outputId": "8ad79cce-a00f-4f92-dd80-f5b6f08a1f90"
      },
      "execution_count": null,
      "outputs": [
        {
          "output_type": "execute_result",
          "data": {
            "text/plain": [
              "{'a': 'b', 'b': 'c', 'c': 'd'}"
            ]
          },
          "metadata": {},
          "execution_count": 13
        }
      ]
    },
    {
      "cell_type": "code",
      "source": [
        "ex4 = ['abdd', 'bcdd', 'cdddd']\n",
        "# dict(ex4) 이건 안됨"
      ],
      "metadata": {
        "id": "RSga4hApPvd_"
      },
      "execution_count": null,
      "outputs": []
    },
    {
      "cell_type": "markdown",
      "source": [
        "#### 항목조회 & 변경\n",
        "- 키로 항목을 찾아 값을 할당한다.\n",
        "- 이미 존재하는 키이면 값을 변경한다.\n",
        "- 키가 없으면 새로 생성한다."
      ],
      "metadata": {
        "id": "QKFyTHMaP_Ho"
      }
    },
    {
      "cell_type": "code",
      "source": [
        "pythons = {\n",
        "      'Chapman': 'Graham',\n",
        "      'Cleese': 'John',\n",
        "      'Idle': 'Eric',\n",
        "      'Jones': 'Terry',\n",
        "      'Palin': 'Michael'\n",
        "}"
      ],
      "metadata": {
        "id": "6rQ3WdibPwx9"
      },
      "execution_count": null,
      "outputs": []
    },
    {
      "cell_type": "code",
      "source": [
        "#idle\n",
        "pythons['Idle']"
      ],
      "metadata": {
        "colab": {
          "base_uri": "https://localhost:8080/",
          "height": 36
        },
        "id": "zzNTkJtAQAUT",
        "outputId": "1ed94032-eee3-4b4a-c389-d8a2e70e8cdf"
      },
      "execution_count": null,
      "outputs": [
        {
          "output_type": "execute_result",
          "data": {
            "text/plain": [
              "'Eric'"
            ],
            "application/vnd.google.colaboratory.intrinsic+json": {
              "type": "string"
            }
          },
          "metadata": {},
          "execution_count": 15
        }
      ]
    },
    {
      "cell_type": "code",
      "source": [
        "pythons[0] #index 안 됨"
      ],
      "metadata": {
        "colab": {
          "base_uri": "https://localhost:8080/",
          "height": 172
        },
        "id": "hP6BbM8AQBOw",
        "outputId": "7abe3c7e-a138-421d-8891-7c40eb771fa6"
      },
      "execution_count": null,
      "outputs": [
        {
          "output_type": "error",
          "ename": "KeyError",
          "evalue": "ignored",
          "traceback": [
            "\u001b[0;31m---------------------------------------------------------------------------\u001b[0m",
            "\u001b[0;31mKeyError\u001b[0m                                  Traceback (most recent call last)",
            "\u001b[0;32m<ipython-input-16-1b6f5bb72ac1>\u001b[0m in \u001b[0;36m<module>\u001b[0;34m()\u001b[0m\n\u001b[0;32m----> 1\u001b[0;31m \u001b[0mpythons\u001b[0m\u001b[0;34m[\u001b[0m\u001b[0;36m0\u001b[0m\u001b[0;34m]\u001b[0m \u001b[0;31m#index 안 됨\u001b[0m\u001b[0;34m\u001b[0m\u001b[0;34m\u001b[0m\u001b[0m\n\u001b[0m",
            "\u001b[0;31mKeyError\u001b[0m: 0"
          ]
        }
      ]
    },
    {
      "cell_type": "code",
      "source": [
        "pythons['Idle'] = 'Erica' #있으면 변경 없으면 추가\n",
        "pythons"
      ],
      "metadata": {
        "colab": {
          "base_uri": "https://localhost:8080/"
        },
        "id": "arglYOtzQEcu",
        "outputId": "94f17b04-0fd5-4b9a-fcb5-71ae46010277"
      },
      "execution_count": null,
      "outputs": [
        {
          "output_type": "execute_result",
          "data": {
            "text/plain": [
              "{'Chapman': 'Graham',\n",
              " 'Cleese': 'John',\n",
              " 'Idle': 'Erica',\n",
              " 'Jones': 'Terry',\n",
              " 'Palin': 'Michael'}"
            ]
          },
          "metadata": {},
          "execution_count": 21
        }
      ]
    },
    {
      "cell_type": "code",
      "source": [
        "pythons['Kim']='Laura'\n",
        "pythons"
      ],
      "metadata": {
        "colab": {
          "base_uri": "https://localhost:8080/"
        },
        "id": "VyUKaLuiQF_R",
        "outputId": "8cbbbd1d-8ce5-4063-fd4a-7a54f0b998c4"
      },
      "execution_count": null,
      "outputs": [
        {
          "output_type": "execute_result",
          "data": {
            "text/plain": [
              "{'Chapman': 'Graham',\n",
              " 'Cleese': 'John',\n",
              " 'Idle': 'Erica',\n",
              " 'Jones': 'Terry',\n",
              " 'Kim': 'Laura',\n",
              " 'Palin': 'Michael'}"
            ]
          },
          "metadata": {},
          "execution_count": 22
        }
      ]
    },
    {
      "cell_type": "code",
      "source": [
        "pytons['Lee'] #없으면 오류"
      ],
      "metadata": {
        "colab": {
          "base_uri": "https://localhost:8080/",
          "height": 172
        },
        "id": "VW0AYuZyQJPQ",
        "outputId": "f60e3f09-5b93-498a-acfc-b7104c1516f6"
      },
      "execution_count": null,
      "outputs": [
        {
          "output_type": "error",
          "ename": "NameError",
          "evalue": "ignored",
          "traceback": [
            "\u001b[0;31m---------------------------------------------------------------------------\u001b[0m",
            "\u001b[0;31mNameError\u001b[0m                                 Traceback (most recent call last)",
            "\u001b[0;32m<ipython-input-23-f32fbcbeb612>\u001b[0m in \u001b[0;36m<module>\u001b[0;34m()\u001b[0m\n\u001b[0;32m----> 1\u001b[0;31m \u001b[0mpytons\u001b[0m\u001b[0;34m[\u001b[0m\u001b[0;34m'Lee'\u001b[0m\u001b[0;34m]\u001b[0m \u001b[0;31m#없으면 오류\u001b[0m\u001b[0;34m\u001b[0m\u001b[0;34m\u001b[0m\u001b[0m\n\u001b[0m",
            "\u001b[0;31mNameError\u001b[0m: name 'pytons' is not defined"
          ]
        }
      ]
    },
    {
      "cell_type": "code",
      "source": [
        "'Lee' in pythons"
      ],
      "metadata": {
        "colab": {
          "base_uri": "https://localhost:8080/"
        },
        "id": "efPGs7XhQTBA",
        "outputId": "aecf6b9a-1b4b-4e05-d96a-e0dfa055056d"
      },
      "execution_count": null,
      "outputs": [
        {
          "output_type": "execute_result",
          "data": {
            "text/plain": [
              "False"
            ]
          },
          "metadata": {},
          "execution_count": 24
        }
      ]
    },
    {
      "cell_type": "code",
      "source": [
        "pythons.get('Lee') # 없으면 None 리턴"
      ],
      "metadata": {
        "id": "90b2NGUVQVa5"
      },
      "execution_count": null,
      "outputs": []
    },
    {
      "cell_type": "code",
      "source": [
        "pythons.get('Kim',0) "
      ],
      "metadata": {
        "colab": {
          "base_uri": "https://localhost:8080/",
          "height": 36
        },
        "id": "AdKirhRfQX5O",
        "outputId": "a561f4f9-cff4-4b4e-a86f-3bfbed1e56a9"
      },
      "execution_count": null,
      "outputs": [
        {
          "output_type": "execute_result",
          "data": {
            "text/plain": [
              "'Laura'"
            ],
            "application/vnd.google.colaboratory.intrinsic+json": {
              "type": "string"
            }
          },
          "metadata": {},
          "execution_count": 26
        }
      ]
    },
    {
      "cell_type": "code",
      "source": [
        "pythons.get('Choi',0)"
      ],
      "metadata": {
        "colab": {
          "base_uri": "https://localhost:8080/"
        },
        "id": "ZtbHUJcIQYPS",
        "outputId": "3fed3578-98f0-42b9-f829-8df3f6aada4e"
      },
      "execution_count": null,
      "outputs": [
        {
          "output_type": "execute_result",
          "data": {
            "text/plain": [
              "0"
            ]
          },
          "metadata": {},
          "execution_count": 27
        }
      ]
    },
    {
      "cell_type": "markdown",
      "source": [
        "#### keys(), values(), items()\n",
        "- keys : key 반환\n",
        "- values : value 반환\n",
        "- items : 튜플 형식으로 key, value 반환"
      ],
      "metadata": {
        "id": "4AZVWKhrQhrL"
      }
    },
    {
      "cell_type": "code",
      "source": [
        "list(pythons.keys()) # 리스트 사용하고 싶을경우 list 로 묶음"
      ],
      "metadata": {
        "colab": {
          "base_uri": "https://localhost:8080/"
        },
        "id": "iNI4miNpQv71",
        "outputId": "dbd79704-eba2-4e93-f462-65024b8c9456"
      },
      "execution_count": null,
      "outputs": [
        {
          "output_type": "execute_result",
          "data": {
            "text/plain": [
              "['Chapman', 'Cleese', 'Idle', 'Jones', 'Palin', 'Kim']"
            ]
          },
          "metadata": {},
          "execution_count": 28
        }
      ]
    },
    {
      "cell_type": "code",
      "source": [
        "pythons.values()"
      ],
      "metadata": {
        "colab": {
          "base_uri": "https://localhost:8080/"
        },
        "id": "yXxwIh1GQxnZ",
        "outputId": "73d3dab8-d09a-4ff0-825e-847a36a207f3"
      },
      "execution_count": null,
      "outputs": [
        {
          "output_type": "execute_result",
          "data": {
            "text/plain": [
              "dict_values(['Graham', 'John', 'Erica', 'Terry', 'Michael', 'Laura'])"
            ]
          },
          "metadata": {},
          "execution_count": 29
        }
      ]
    },
    {
      "cell_type": "code",
      "source": [
        "pythons.items()"
      ],
      "metadata": {
        "colab": {
          "base_uri": "https://localhost:8080/"
        },
        "id": "2oRVvsy_Qyq2",
        "outputId": "b38cc631-aea7-4e00-fcaa-2253002788ad"
      },
      "execution_count": null,
      "outputs": [
        {
          "output_type": "execute_result",
          "data": {
            "text/plain": [
              "dict_items([('Chapman', 'Graham'), ('Cleese', 'John'), ('Idle', 'Erica'), ('Jones', 'Terry'), ('Palin', 'Michael'), ('Kim', 'Laura')])"
            ]
          },
          "metadata": {},
          "execution_count": 30
        }
      ]
    },
    {
      "cell_type": "code",
      "source": [
        "[x for x in pythons.items()]"
      ],
      "metadata": {
        "colab": {
          "base_uri": "https://localhost:8080/"
        },
        "id": "yEY3SM-BQ9Gy",
        "outputId": "5d8062f0-c614-4432-8c71-b6ff1ab2a8bb"
      },
      "execution_count": null,
      "outputs": [
        {
          "output_type": "execute_result",
          "data": {
            "text/plain": [
              "[('Chapman', 'Graham'),\n",
              " ('Cleese', 'John'),\n",
              " ('Idle', 'Erica'),\n",
              " ('Jones', 'Terry'),\n",
              " ('Palin', 'Michael'),\n",
              " ('Kim', 'Laura')]"
            ]
          },
          "metadata": {},
          "execution_count": 31
        }
      ]
    },
    {
      "cell_type": "code",
      "source": [
        "animals = 'cat snake monkey ant spider'.split()\n",
        "legs =4, 0 ,2, 4, 8\n",
        "\n",
        "#for loop이용해서 animal: legs로 이뤄진 딕셔너리 만들기"
      ],
      "metadata": {
        "id": "GIAdzQRrQ_TK"
      },
      "execution_count": null,
      "outputs": []
    },
    {
      "cell_type": "code",
      "source": [
        "animal_dic = {}\n",
        "for k, v in zip(animals, legs):\n",
        "  animal_dic[k] = v\n",
        "animal_dic"
      ],
      "metadata": {
        "colab": {
          "base_uri": "https://localhost:8080/"
        },
        "id": "6CPtQXlyRAZt",
        "outputId": "55fe3d6d-3551-405c-927f-424bb6ec7210"
      },
      "execution_count": null,
      "outputs": [
        {
          "output_type": "execute_result",
          "data": {
            "text/plain": [
              "{'ant': 4, 'cat': 4, 'monkey': 2, 'snake': 0, 'spider': 8}"
            ]
          },
          "metadata": {},
          "execution_count": 33
        }
      ]
    },
    {
      "cell_type": "code",
      "source": [
        "#pythons에서 성: 이름=> 리스트컴프리헨션 이용해서 [(성 앞글자, 이름의 글자 수)]\n",
        "\n",
        "[(k[0],len(v)) for k,v in pythons.items()]\n",
        " "
      ],
      "metadata": {
        "colab": {
          "base_uri": "https://localhost:8080/"
        },
        "id": "DiGhSbjZRBkJ",
        "outputId": "df214e5f-c628-4379-d9e0-347a5fe6386b"
      },
      "execution_count": null,
      "outputs": [
        {
          "output_type": "execute_result",
          "data": {
            "text/plain": [
              "[('C', 6), ('C', 4), ('I', 5), ('J', 5), ('P', 7), ('K', 5)]"
            ]
          },
          "metadata": {},
          "execution_count": 34
        }
      ]
    },
    {
      "cell_type": "markdown",
      "source": [
        "값 수정, 삭제, 복제"
      ],
      "metadata": {
        "id": "XyQhUsEZRDyL"
      }
    },
    {
      "cell_type": "code",
      "source": [
        "pythons"
      ],
      "metadata": {
        "colab": {
          "base_uri": "https://localhost:8080/"
        },
        "id": "PxQ_TfhSREv9",
        "outputId": "02339941-b79f-4bf3-97bf-6984c27c0e42"
      },
      "execution_count": null,
      "outputs": [
        {
          "output_type": "execute_result",
          "data": {
            "text/plain": [
              "{'Chapman': 'Graham',\n",
              " 'Cleese': 'John',\n",
              " 'Idle': 'Erica',\n",
              " 'Jones': 'Terry',\n",
              " 'Kim': 'Laura',\n",
              " 'Palin': 'Michael'}"
            ]
          },
          "metadata": {},
          "execution_count": 37
        }
      ]
    },
    {
      "cell_type": "code",
      "source": [
        "others = {\n",
        "    'Marx': 'Groucho',\n",
        "    'Howward': 'Moe'\n",
        "}"
      ],
      "metadata": {
        "id": "zu1P9MjeRGvk"
      },
      "execution_count": null,
      "outputs": []
    },
    {
      "cell_type": "code",
      "source": [
        "pythons.update(others)"
      ],
      "metadata": {
        "id": "p_0MGCZjRHue"
      },
      "execution_count": null,
      "outputs": []
    },
    {
      "cell_type": "code",
      "source": [
        "pythons"
      ],
      "metadata": {
        "colab": {
          "base_uri": "https://localhost:8080/"
        },
        "id": "oSy1qmfURIbB",
        "outputId": "b4c84801-2d6d-4c0c-a960-8b94882c0815"
      },
      "execution_count": null,
      "outputs": [
        {
          "output_type": "execute_result",
          "data": {
            "text/plain": [
              "{'Chapman': 'Graham',\n",
              " 'Cleese': 'John',\n",
              " 'Howward': 'Moe',\n",
              " 'Idle': 'Erica',\n",
              " 'Jones': 'Terry',\n",
              " 'Marx': 'Groucho',\n",
              " 'Palin': 'Michael'}"
            ]
          },
          "metadata": {},
          "execution_count": 42
        }
      ]
    },
    {
      "cell_type": "code",
      "source": [
        "#삭제\n",
        "del pythons['Palin']\n",
        "pythons"
      ],
      "metadata": {
        "colab": {
          "base_uri": "https://localhost:8080/",
          "height": 209
        },
        "id": "xNUBs8k0RJau",
        "outputId": "90914faa-c375-4247-dfd1-6bd9e3e0a627"
      },
      "execution_count": null,
      "outputs": [
        {
          "output_type": "error",
          "ename": "KeyError",
          "evalue": "ignored",
          "traceback": [
            "\u001b[0;31m---------------------------------------------------------------------------\u001b[0m",
            "\u001b[0;31mKeyError\u001b[0m                                  Traceback (most recent call last)",
            "\u001b[0;32m<ipython-input-49-aafba84c1362>\u001b[0m in \u001b[0;36m<module>\u001b[0;34m()\u001b[0m\n\u001b[1;32m      1\u001b[0m \u001b[0;31m#삭제\u001b[0m\u001b[0;34m\u001b[0m\u001b[0;34m\u001b[0m\u001b[0;34m\u001b[0m\u001b[0m\n\u001b[0;32m----> 2\u001b[0;31m \u001b[0;32mdel\u001b[0m \u001b[0mpythons\u001b[0m\u001b[0;34m[\u001b[0m\u001b[0;34m'Palin'\u001b[0m\u001b[0;34m]\u001b[0m\u001b[0;34m\u001b[0m\u001b[0;34m\u001b[0m\u001b[0m\n\u001b[0m\u001b[1;32m      3\u001b[0m \u001b[0mpythons\u001b[0m\u001b[0;34m\u001b[0m\u001b[0;34m\u001b[0m\u001b[0m\n",
            "\u001b[0;31mKeyError\u001b[0m: 'Palin'"
          ]
        }
      ]
    },
    {
      "cell_type": "code",
      "source": [
        "pythons.pop('Marx',0) # Marx의 값 보여주고 삭제 , get과 비슷한 성질"
      ],
      "metadata": {
        "colab": {
          "base_uri": "https://localhost:8080/"
        },
        "id": "NsZBsgaLRS3v",
        "outputId": "7c0cf886-96e3-45a8-98c7-81b2b0bed8ad"
      },
      "execution_count": null,
      "outputs": [
        {
          "output_type": "execute_result",
          "data": {
            "text/plain": [
              "0"
            ]
          },
          "metadata": {},
          "execution_count": 50
        }
      ]
    },
    {
      "cell_type": "code",
      "source": [
        "pythons"
      ],
      "metadata": {
        "colab": {
          "base_uri": "https://localhost:8080/"
        },
        "id": "beqq93ZZRaVm",
        "outputId": "440d4d83-74c3-415b-d7a9-8caabd1041fb"
      },
      "execution_count": null,
      "outputs": [
        {
          "output_type": "execute_result",
          "data": {
            "text/plain": [
              "{}"
            ]
          },
          "metadata": {},
          "execution_count": 58
        }
      ]
    },
    {
      "cell_type": "code",
      "source": [
        "pythons.clear()# 초기화"
      ],
      "metadata": {
        "id": "3hLVGtdzRj9b"
      },
      "execution_count": null,
      "outputs": []
    },
    {
      "cell_type": "code",
      "source": [
        "pythons={} # 초기화"
      ],
      "metadata": {
        "id": "AoCD7nuIRlA_"
      },
      "execution_count": null,
      "outputs": []
    },
    {
      "cell_type": "code",
      "source": [
        "pythons\n"
      ],
      "metadata": {
        "colab": {
          "base_uri": "https://localhost:8080/"
        },
        "id": "2twflyDGRo4c",
        "outputId": "f0b7637b-b99e-4fda-dafd-a6f9e425d90c"
      },
      "execution_count": null,
      "outputs": [
        {
          "output_type": "execute_result",
          "data": {
            "text/plain": [
              "{}"
            ]
          },
          "metadata": {},
          "execution_count": 57
        }
      ]
    },
    {
      "cell_type": "code",
      "source": [
        "#copy\n",
        "#1. 할당\n",
        "#2. 얕은 복사\n",
        "#3. 깊은 복사"
      ],
      "metadata": {
        "id": "67chXLseRr_W"
      },
      "execution_count": null,
      "outputs": []
    },
    {
      "cell_type": "code",
      "source": [
        "a = {1:2, 2:3, 3:4}\n",
        "b = a\n",
        "a[1] = 10\n",
        "a, b #b도 바뀜"
      ],
      "metadata": {
        "colab": {
          "base_uri": "https://localhost:8080/"
        },
        "id": "TgI3p03vRvHx",
        "outputId": "37b497b9-b1e9-494a-f17d-7bbd4ad2080d"
      },
      "execution_count": null,
      "outputs": [
        {
          "output_type": "execute_result",
          "data": {
            "text/plain": [
              "({1: 10, 2: 3, 3: 4}, {1: 10, 2: 3, 3: 4})"
            ]
          },
          "metadata": {},
          "execution_count": 59
        }
      ]
    },
    {
      "cell_type": "code",
      "source": [
        "b= a.copy()\n",
        "a[1] = 100\n",
        "a,b #b는 안 바뀜"
      ],
      "metadata": {
        "colab": {
          "base_uri": "https://localhost:8080/"
        },
        "id": "TBvawdUXRy3M",
        "outputId": "c1a88a97-3313-4a28-b8a3-b998037cbf57"
      },
      "execution_count": null,
      "outputs": [
        {
          "output_type": "execute_result",
          "data": {
            "text/plain": [
              "({1: 100, 2: 3, 3: 4}, {1: 10, 2: 3, 3: 4})"
            ]
          },
          "metadata": {},
          "execution_count": 60
        }
      ]
    },
    {
      "cell_type": "code",
      "source": [
        "a= {1:[2, 2, 2,], 2: [1, 1, 1]}\n",
        "b= a.copy()\n",
        "a[1][0] = 100\n",
        "a,b #b도 바뀜"
      ],
      "metadata": {
        "colab": {
          "base_uri": "https://localhost:8080/"
        },
        "id": "Z-LSUz6oRz-i",
        "outputId": "08e09365-7292-4872-ef6f-420d890eaf32"
      },
      "execution_count": null,
      "outputs": [
        {
          "output_type": "execute_result",
          "data": {
            "text/plain": [
              "({1: [100, 2, 2], 2: [1, 1, 1]}, {1: [100, 2, 2], 2: [1, 1, 1]})"
            ]
          },
          "metadata": {},
          "execution_count": 61
        }
      ]
    },
    {
      "cell_type": "code",
      "source": [
        "import copy\n",
        "b = copy.deepcopy(a)\n",
        "a[1][0] = 9\n",
        "a,b"
      ],
      "metadata": {
        "colab": {
          "base_uri": "https://localhost:8080/"
        },
        "id": "OXF9As4xSGDe",
        "outputId": "b6765df9-2cd7-4337-d500-4ac75d41e069"
      },
      "execution_count": null,
      "outputs": [
        {
          "output_type": "execute_result",
          "data": {
            "text/plain": [
              "({1: [9, 2, 2], 2: [1, 1, 1]}, {1: [100, 2, 2], 2: [1, 1, 1]})"
            ]
          },
          "metadata": {},
          "execution_count": 62
        }
      ]
    },
    {
      "cell_type": "code",
      "source": [
        "#값 비교 크다 작다 x 같다 다르다 O\n",
        "a != b"
      ],
      "metadata": {
        "colab": {
          "base_uri": "https://localhost:8080/"
        },
        "id": "4CcHtk89SIJ7",
        "outputId": "edcab8e4-e734-4be0-ba38-b3bd1f28dd9f"
      },
      "execution_count": null,
      "outputs": [
        {
          "output_type": "execute_result",
          "data": {
            "text/plain": [
              "True"
            ]
          },
          "metadata": {},
          "execution_count": 63
        }
      ]
    },
    {
      "cell_type": "markdown",
      "source": [
        "### ex\n",
        "- 두 개 리스트를 만든다 : {한국어:영어}\n",
        "- 명왕성: pluto 추가하기\n",
        "- '성'으로 끝나지 않는 단어 삭제하기\n",
        "    del sdict['태양'] => 하드코딩 안됨\n",
        "- sorted i) key ii) eng"
      ],
      "metadata": {
        "id": "u0YtdVKhSLZp"
      }
    },
    {
      "cell_type": "code",
      "source": [
        "solar_kor = '태양 수성 금성 지구 화성 목성 토성 천왕성 해왕성'.split()\n",
        "solar_eng = 'sun mercury venus earth mars jupiter saturn uranus neptune'.split()"
      ],
      "metadata": {
        "id": "b87UllM_SMkX"
      },
      "execution_count": null,
      "outputs": []
    },
    {
      "cell_type": "code",
      "source": [
        "#1\n",
        "solar_dic = {}\n",
        "for k, v in zip(solar_kor, solar_eng):\n",
        "  solar_dic[k] = v\n",
        "solar_dic"
      ],
      "metadata": {
        "colab": {
          "base_uri": "https://localhost:8080/"
        },
        "id": "8KQq4eseSM0t",
        "outputId": "0b318483-cda2-4e9b-fd4c-1a30af3d66cd"
      },
      "execution_count": null,
      "outputs": [
        {
          "output_type": "execute_result",
          "data": {
            "text/plain": [
              "{'금성': 'venus',\n",
              " '목성': 'jupiter',\n",
              " '수성': 'mercury',\n",
              " '지구': 'earth',\n",
              " '천왕성': 'uranus',\n",
              " '태양': 'sun',\n",
              " '토성': 'saturn',\n",
              " '해왕성': 'neptune',\n",
              " '화성': 'mars'}"
            ]
          },
          "metadata": {},
          "execution_count": 65
        }
      ]
    },
    {
      "cell_type": "code",
      "source": [
        "#2-1\n",
        "solar_dic['명왕성'] = 'pluto'"
      ],
      "metadata": {
        "id": "npQLxdZJYiA1"
      },
      "execution_count": null,
      "outputs": []
    },
    {
      "cell_type": "code",
      "source": [
        "#2-2\n",
        "other = {\n",
        "    '명왕성': 'pluto'\n",
        "}"
      ],
      "metadata": {
        "id": "32IkjJevSOBC"
      },
      "execution_count": null,
      "outputs": []
    },
    {
      "cell_type": "code",
      "source": [
        "solar_dic.update(other)\n",
        "solar_dic"
      ],
      "metadata": {
        "colab": {
          "base_uri": "https://localhost:8080/"
        },
        "id": "eZUA8nlsSY_4",
        "outputId": "b50a66e7-1243-4990-f0ca-2058df8e2a23"
      },
      "execution_count": null,
      "outputs": [
        {
          "output_type": "execute_result",
          "data": {
            "text/plain": [
              "{'금성': 'venus',\n",
              " '명와성': 'pluto',\n",
              " '목성': 'jupiter',\n",
              " '수성': 'mercury',\n",
              " '지구': 'earth',\n",
              " '천왕성': 'uranus',\n",
              " '태양': 'sun',\n",
              " '토성': 'saturn',\n",
              " '해왕성': 'neptune',\n",
              " '화성': 'mars'}"
            ]
          },
          "metadata": {},
          "execution_count": 68
        }
      ]
    },
    {
      "cell_type": "code",
      "source": [
        "#3\n",
        "{k:v  for k,v in solar_dic.items() if k.endswith('성')}"
      ],
      "metadata": {
        "colab": {
          "base_uri": "https://localhost:8080/"
        },
        "id": "dbcNdkufSZVk",
        "outputId": "e90a98ce-5b2b-4a55-fdb4-69bc0840e920"
      },
      "execution_count": null,
      "outputs": [
        {
          "output_type": "execute_result",
          "data": {
            "text/plain": [
              "{'금성': 'venus',\n",
              " '명와성': 'pluto',\n",
              " '명왕성': 'pluto',\n",
              " '목성': 'jupiter',\n",
              " '수성': 'mercury',\n",
              " '천왕성': 'uranus',\n",
              " '토성': 'saturn',\n",
              " '해왕성': 'neptune',\n",
              " '화성': 'mars'}"
            ]
          },
          "metadata": {},
          "execution_count": 84
        }
      ]
    },
    {
      "cell_type": "code",
      "source": [
        "#4\n",
        "sorted(solar_dic.items(), key=lambda x: x[0])"
      ],
      "metadata": {
        "colab": {
          "base_uri": "https://localhost:8080/"
        },
        "id": "ijiBTtLTSbUy",
        "outputId": "831a6936-ecbf-45ba-bb26-f21cf8cdc532"
      },
      "execution_count": null,
      "outputs": [
        {
          "output_type": "execute_result",
          "data": {
            "text/plain": [
              "[('금성', 'venus'),\n",
              " ('명와성', 'pluto'),\n",
              " ('명왕성', 'pluto'),\n",
              " ('목성', 'jupiter'),\n",
              " ('수성', 'mercury'),\n",
              " ('지구', 'earth'),\n",
              " ('천왕성', 'uranus'),\n",
              " ('태양', 'sun'),\n",
              " ('토성', 'saturn'),\n",
              " ('해왕성', 'neptune'),\n",
              " ('화성', 'mars')]"
            ]
          },
          "metadata": {},
          "execution_count": 95
        }
      ]
    },
    {
      "cell_type": "code",
      "source": [
        "def function(s):\n",
        "  return s[1]"
      ],
      "metadata": {
        "id": "VIpP5UXisxQg"
      },
      "execution_count": null,
      "outputs": []
    },
    {
      "cell_type": "code",
      "source": [
        "accusation = {'room' : 'ballroom', 'weapon': 'lead pipe', 'person': 'Col.Mustard'}\n",
        "\n",
        "for k,v in accusation.items():\n",
        "    print(f'{k} has the contents {v}')"
      ],
      "metadata": {
        "colab": {
          "base_uri": "https://localhost:8080/"
        },
        "id": "ZIBzS_0jSczT",
        "outputId": "63381c5c-e8fb-4bd1-f4cf-6f8d5c423544"
      },
      "execution_count": null,
      "outputs": [
        {
          "output_type": "stream",
          "name": "stdout",
          "text": [
            "room has the contents ballroom\n",
            "weapon has the contents lead pipe\n",
            "person has the contents Col.Mustard\n"
          ]
        }
      ]
    },
    {
      "cell_type": "code",
      "source": [
        "letter = 'apple'\n",
        "#(a:1, p:2, ...)\n",
        "{ch: letter.count(ch) for ch in set(letter)}"
      ],
      "metadata": {
        "colab": {
          "base_uri": "https://localhost:8080/"
        },
        "id": "bd6ec_JjSqbR",
        "outputId": "571228e3-3ef1-4620-976a-b006dbefddca"
      },
      "execution_count": null,
      "outputs": [
        {
          "output_type": "execute_result",
          "data": {
            "text/plain": [
              "{'a': 1, 'e': 1, 'l': 1, 'p': 2}"
            ]
          },
          "metadata": {},
          "execution_count": 71
        }
      ]
    },
    {
      "cell_type": "code",
      "source": [
        "vowels = 'aeiou'\n",
        "word = 'onomatopoeia'\n",
        "\n",
        "# 주어진 단어의 모음 세기\n",
        "# a:1, e:3, ...\n",
        "# vowels, word 각각 기준 잡아서 dic compre 이용해서 만들기"
      ],
      "metadata": {
        "id": "6nQ6NHdESsYq"
      },
      "execution_count": null,
      "outputs": []
    },
    {
      "cell_type": "code",
      "source": [
        "op1 = {v: word.count(v) for v in vowels}\n",
        "op1"
      ],
      "metadata": {
        "colab": {
          "base_uri": "https://localhost:8080/"
        },
        "id": "Yitr2newYRZh",
        "outputId": "43d5c514-ac98-4e6a-80cf-e5f1bf5ffea2"
      },
      "execution_count": null,
      "outputs": [
        {
          "output_type": "execute_result",
          "data": {
            "text/plain": [
              "{'a': 2, 'e': 1, 'i': 1, 'o': 4, 'u': 0}"
            ]
          },
          "metadata": {},
          "execution_count": 74
        }
      ]
    },
    {
      "cell_type": "markdown",
      "source": [
        "## Set\n",
        "\n",
        "- 딕셔너리의 키만 모아 놓음 => 중복 없음:\n",
        "- 수학의 집합 개념 => 교집합, 차집합, ...\n",
        "- 데이터 자루, 순서 없고, 인덱싱 없고"
      ],
      "metadata": {
        "id": "2e2D8GZbSn08"
      }
    },
    {
      "cell_type": "code",
      "source": [
        "empty = set()\n",
        "empty1 = {} #dict\n",
        "empty, empty1"
      ],
      "metadata": {
        "colab": {
          "base_uri": "https://localhost:8080/"
        },
        "id": "ljzP1d7hdR5P",
        "outputId": "52c47ca3-f3c1-4b8a-8461-dcfbd70d5383"
      },
      "execution_count": 7,
      "outputs": [
        {
          "output_type": "execute_result",
          "data": {
            "text/plain": [
              "(set(), {})"
            ]
          },
          "metadata": {},
          "execution_count": 7
        }
      ]
    },
    {
      "cell_type": "code",
      "source": [
        "a = {1,2,3}\n",
        "type(a) #key 와 value 가 없으므로 set"
      ],
      "metadata": {
        "colab": {
          "base_uri": "https://localhost:8080/"
        },
        "id": "ZSO16DGZdR2t",
        "outputId": "f615a35c-bc26-4d3c-815a-3009138610dc"
      },
      "execution_count": 6,
      "outputs": [
        {
          "output_type": "execute_result",
          "data": {
            "text/plain": [
              "set"
            ]
          },
          "metadata": {},
          "execution_count": 6
        }
      ]
    },
    {
      "cell_type": "code",
      "source": [
        "b= set([1, 2, 3, 3, 3, 3])\n",
        "b"
      ],
      "metadata": {
        "colab": {
          "base_uri": "https://localhost:8080/"
        },
        "id": "b3iD4Qv4dUJd",
        "outputId": "341de286-61fa-4e41-850c-70157faacbf2"
      },
      "execution_count": 4,
      "outputs": [
        {
          "output_type": "execute_result",
          "data": {
            "text/plain": [
              "{1, 2, 3}"
            ]
          },
          "metadata": {},
          "execution_count": 4
        }
      ]
    },
    {
      "cell_type": "code",
      "source": [
        "# 추가하기\n",
        "a.add(4)\n",
        "a"
      ],
      "metadata": {
        "colab": {
          "base_uri": "https://localhost:8080/"
        },
        "id": "KDovXxO3dUHp",
        "outputId": "928d80de-fbf4-4758-f573-3700d2acaf7f"
      },
      "execution_count": 8,
      "outputs": [
        {
          "output_type": "execute_result",
          "data": {
            "text/plain": [
              "{1, 2, 3, 4}"
            ]
          },
          "metadata": {},
          "execution_count": 8
        }
      ]
    },
    {
      "cell_type": "code",
      "source": [
        "#삭제\n",
        "a.remove(4)\n",
        "a"
      ],
      "metadata": {
        "colab": {
          "base_uri": "https://localhost:8080/"
        },
        "id": "f_un2lpudUFL",
        "outputId": "4213bce3-ad7e-482f-b796-08f2c08acf4e"
      },
      "execution_count": 9,
      "outputs": [
        {
          "output_type": "execute_result",
          "data": {
            "text/plain": [
              "{1, 2, 3}"
            ]
          },
          "metadata": {},
          "execution_count": 9
        }
      ]
    },
    {
      "cell_type": "code",
      "source": [
        "a.discard(3)\n",
        "a"
      ],
      "metadata": {
        "colab": {
          "base_uri": "https://localhost:8080/"
        },
        "id": "_GPAEKRAdT-p",
        "outputId": "1616a4c1-328b-4551-fec6-57bd6cde3599"
      },
      "execution_count": 10,
      "outputs": [
        {
          "output_type": "execute_result",
          "data": {
            "text/plain": [
              "{1, 2}"
            ]
          },
          "metadata": {},
          "execution_count": 10
        }
      ]
    },
    {
      "cell_type": "code",
      "source": [
        "drinks = {\n",
        "    'martini': {'vodka', 'vermouth'},\n",
        "    'black russian': {'vodka', 'kahlua'},\n",
        "    'white russian': {'vodka', 'kahlua', 'vodka'},\n",
        "    'mahattan': {'rye', 'vermouth', 'bitters'},\n",
        "    'screwdriver': {'orange juice', 'vodka'}\n",
        "}\n",
        "\n",
        "# vodka가 있는 키 골라내기 (출력)\n",
        "for k, v in drinks.items():\n",
        "    if 'vodka' in v:\n",
        "        print(k)\n",
        "\n",
        "#2. 보드카는 있늗네 크림이나 버무스가 있으면 프리트하지 않기\n",
        "{k for k, v in drinks.items() if 'vodka' in v and 'cream' not in v or 'vermouth' not in v}"
      ],
      "metadata": {
        "colab": {
          "base_uri": "https://localhost:8080/"
        },
        "id": "TfP3hLIsdT8L",
        "outputId": "0553ad57-cb14-4c41-b8a8-4567a7e3173c"
      },
      "execution_count": 11,
      "outputs": [
        {
          "output_type": "stream",
          "name": "stdout",
          "text": [
            "martini\n",
            "black russian\n",
            "white russian\n",
            "screwdriver\n"
          ]
        },
        {
          "output_type": "execute_result",
          "data": {
            "text/plain": [
              "{'black russian', 'martini', 'screwdriver', 'white russian'}"
            ]
          },
          "metadata": {},
          "execution_count": 11
        }
      ]
    },
    {
      "cell_type": "code",
      "source": [
        "a = {1, 2, 3}\n",
        "b = {2, 3, 4}\n",
        "\n",
        "# 교집합: intersection\n",
        "a.intersection(b) # a & b\n",
        "\n",
        "# 합집합: uinon\n",
        "a.union(b) # a | b\n",
        "\n",
        "# 차집합: difference\n",
        "a.difference(b) # a - b\n",
        "b - a"
      ],
      "metadata": {
        "colab": {
          "base_uri": "https://localhost:8080/"
        },
        "id": "EPcOmxlldeoa",
        "outputId": "b9a602f5-ce68-4bc1-db31-f7fa0d96d512"
      },
      "execution_count": 12,
      "outputs": [
        {
          "output_type": "execute_result",
          "data": {
            "text/plain": [
              "{4}"
            ]
          },
          "metadata": {},
          "execution_count": 12
        }
      ]
    },
    {
      "cell_type": "code",
      "source": [
        "# comprehension\n",
        "{s for s in a}"
      ],
      "metadata": {
        "colab": {
          "base_uri": "https://localhost:8080/"
        },
        "id": "hTZVMkBMdfnq",
        "outputId": "54c9dd3f-5bfd-4650-d421-75bbff9e9845"
      },
      "execution_count": 13,
      "outputs": [
        {
          "output_type": "execute_result",
          "data": {
            "text/plain": [
              "{1, 2, 3}"
            ]
          },
          "metadata": {},
          "execution_count": 13
        }
      ]
    },
    {
      "cell_type": "code",
      "source": [
        "# frozenset\n",
        "fs = frozenset([1, 2, 3])\n",
        "fs"
      ],
      "metadata": {
        "colab": {
          "base_uri": "https://localhost:8080/"
        },
        "id": "qMGS_5lAdgIN",
        "outputId": "45bbee50-ed0f-4697-f059-bf1b9ec49c1c"
      },
      "execution_count": 14,
      "outputs": [
        {
          "output_type": "execute_result",
          "data": {
            "text/plain": [
              "frozenset({1, 2, 3})"
            ]
          },
          "metadata": {},
          "execution_count": 14
        }
      ]
    },
    {
      "cell_type": "code",
      "source": [
        ""
      ],
      "metadata": {
        "id": "kHUyyAizdkvO"
      },
      "execution_count": null,
      "outputs": []
    }
  ]
}