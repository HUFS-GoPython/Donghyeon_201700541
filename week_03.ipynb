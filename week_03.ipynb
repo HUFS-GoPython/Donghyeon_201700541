{
  "nbformat": 4,
  "nbformat_minor": 0,
  "metadata": {
    "colab": {
      "name": "week_03.ipynb",
      "provenance": [],
      "collapsed_sections": [],
      "authorship_tag": "ABX9TyN+Jmt3nSZgSU4yCFZFafBy"
    },
    "kernelspec": {
      "name": "python3",
      "display_name": "Python 3"
    },
    "language_info": {
      "name": "python"
    }
  },
  "cells": [
    {
      "cell_type": "markdown",
      "source": [
        "#Week_02\n"
      ],
      "metadata": {
        "id": "FvgHZkUW2EIh"
      }
    },
    {
      "cell_type": "markdown",
      "source": [
        "##중첩조건문\n",
        "- nested conditional\n",
        "- if 블록 안에 또 다른 if 블록이 있는 경우 \n",
        "- 들여쓰기로 논리를 구분한다.\n",
        "\n"
      ],
      "metadata": {
        "id": "smQ_n0Ngs-3F"
      }
    },
    {
      "cell_type": "code",
      "source": [
        "x = 6\n",
        "y = 2\n",
        "if x == y:\n",
        "    print(\"x = y\")\n",
        "else:\n",
        "    if x < y:\n",
        "      print(\"x < y\")\n",
        "    else:\n",
        "      print(\"x > y\")\n",
        "# 안 좋은 예\n",
        "# if: elif: else: 사용이 좋음"
      ],
      "metadata": {
        "colab": {
          "base_uri": "https://localhost:8080/"
        },
        "id": "39adrYy4t2Pg",
        "outputId": "5817b24c-77f4-4999-8dfa-f5fbeac6637f"
      },
      "execution_count": null,
      "outputs": [
        {
          "output_type": "stream",
          "name": "stdout",
          "text": [
            "x > y\n"
          ]
        }
      ]
    },
    {
      "cell_type": "code",
      "source": [
        "if x > 0:\n",
        "    if x < 10:\n",
        "      print(\"Yes\")\n",
        "    else:\n",
        "      print(\"NONO\")\n",
        "else:\n",
        "    print(\"NO\")\n",
        "\n",
        "# 0 < x < 10을 표현하는 것이 너무 비효율적임"
      ],
      "metadata": {
        "colab": {
          "base_uri": "https://localhost:8080/"
        },
        "id": "mvqGoyC2t2Tg",
        "outputId": "8d3967b4-0929-488d-a1a2-5d1aab0800f8"
      },
      "execution_count": null,
      "outputs": [
        {
          "output_type": "stream",
          "name": "stdout",
          "text": [
            "Yes\n"
          ]
        }
      ]
    },
    {
      "cell_type": "code",
      "source": [
        "# 방법1\n",
        "if (x > 0) and (x < 10): # 논리 연산자\n",
        "    print(\"Yes\")\n",
        "else:\n",
        "    print(\"No\")\n",
        "#방법2 - 파이썬 에서만 가능\n",
        "if 0 < x < 10:\n",
        "    print(\"Yes\")\n",
        "else:\n",
        "    print(\"No\")"
      ],
      "metadata": {
        "colab": {
          "base_uri": "https://localhost:8080/"
        },
        "id": "rtYCaR4PzI46",
        "outputId": "bff3c420-2f70-49f8-c3dc-4f8bdc3f977b"
      },
      "execution_count": null,
      "outputs": [
        {
          "output_type": "stream",
          "name": "stdout",
          "text": [
            "Yes\n",
            "Yes\n"
          ]
        }
      ]
    },
    {
      "cell_type": "markdown",
      "source": [
        "### 논리연산자\n",
        "- 비교연산자가 여러번 사용될때 사용하는 것\n",
        "- and, or, not\n",
        "    - A and B: A도 참이고, B도 참일 때 True &\n",
        "      - 예 : A & B\n",
        "    - A or B: A 혻은 B. 둘 중 하나만 참이면 True\n",
        "        -예 : A | B\n",
        "    - not A: A가 False -> True, True -> False\n",
        "- 비교연산자의 괄호는 가독성을 위해 (optional)\n",
        "- 파이썬에서만 가능한 표현 : 0 < x <10\n",
        "\n"
      ],
      "metadata": {
        "id": "M0NxDQ6-ze5U"
      }
    },
    {
      "cell_type": "markdown",
      "source": [
        "True, False\n",
        "\n",
        "- \"만약 a가 참이라면,...\"\n",
        "- a = True"
      ],
      "metadata": {
        "id": "4HuFcMc-3Q0J"
      }
    },
    {
      "cell_type": "code",
      "source": [
        "if a = True:\n",
        "    print() # 틀림\n",
        "\n",
        "if a:\n",
        "    print()"
      ],
      "metadata": {
        "colab": {
          "base_uri": "https://localhost:8080/",
          "height": 137
        },
        "id": "D7RlCzcD3QZt",
        "outputId": "e9cdf4b7-3e04-4192-b24e-03791f048e94"
      },
      "execution_count": null,
      "outputs": [
        {
          "output_type": "error",
          "ename": "SyntaxError",
          "evalue": "ignored",
          "traceback": [
            "\u001b[0;36m  File \u001b[0;32m\"<ipython-input-13-5749257bbeed>\"\u001b[0;36m, line \u001b[0;32m2\u001b[0m\n\u001b[0;31m    if a = fdg:\u001b[0m\n\u001b[0m         ^\u001b[0m\n\u001b[0;31mSyntaxError\u001b[0m\u001b[0;31m:\u001b[0m invalid syntax\n"
          ]
        }
      ]
    },
    {
      "cell_type": "markdown",
      "source": [
        "### in\n",
        "- membership operatior\n",
        "- 어떤 요소가 그 안에 있는지 확인하고 싶다\n",
        "- 비슷한 조건이 여러번 반복될 때 사용 가능\n"
      ],
      "metadata": {
        "id": "_K-QSgiJ30Uf"
      }
    },
    {
      "cell_type": "code",
      "source": [
        "letter = 'e' \n",
        "\n",
        "# letter가 모음인지 확인하고 싶다 : a, e, i, o, u\n",
        "# if letteretter == 'a' or letter == 'e' ...\n",
        "if letter in ['a', 'e', i', 'o', 'u']: # 리스트 요소에 letter와 일치하는 것이 있는가\n",
        "    print(\"Yes\")\n",
        "else:'\n",
        "    print(\"No\")  "
      ],
      "metadata": {
        "colab": {
          "base_uri": "https://localhost:8080/"
        },
        "id": "1U5bQgD731QY",
        "outputId": "d0330467-7feb-4294-d2b9-929c2a804577"
      },
      "execution_count": null,
      "outputs": [
        {
          "output_type": "stream",
          "name": "stdout",
          "text": [
            "Yes\n"
          ]
        }
      ]
    },
    {
      "cell_type": "code",
      "source": [
        "word = 'apple' \n",
        "\n",
        "# word에 모음이 있는지 확인\n",
        "\n",
        "# if word in ['a', 'b', 'c', 'd', 'e']: # abcde == a, b, ... 인지 묻는 내용  \n",
        "\n",
        "if \"a\" or \"e\" or \"i\" or \"o\" or \"u\" in word:\n",
        "    print(\"Yes\")\n",
        "else:\n",
        "    print(\"No\")\n"
      ],
      "metadata": {
        "colab": {
          "base_uri": "https://localhost:8080/"
        },
        "id": "o23TT0JP41dx",
        "outputId": "a3e0a9a9-cf30-47f1-a61e-4e983b013a26"
      },
      "execution_count": null,
      "outputs": [
        {
          "output_type": "stream",
          "name": "stdout",
          "text": [
            "Yes\n"
          ]
        }
      ]
    },
    {
      "cell_type": "markdown",
      "source": [
        "### 바다코끼리 연산자\n",
        "- walrus operator\n",
        "- 할당과 테스트를 동시에 하는 기능\n",
        "- :="
      ],
      "metadata": {
        "id": "6XJYpwjk5J4V"
      }
    },
    {
      "cell_type": "code",
      "source": [
        "tweet_limit = 200\n",
        "tweet_string = 'OMG' * 50 # 공백없이 스트링 3*50개\n",
        "tweet_string"
      ],
      "metadata": {
        "colab": {
          "base_uri": "https://localhost:8080/",
          "height": 54
        },
        "id": "53_CSuuY5L-4",
        "outputId": "a64bf2ce-25ee-4b39-e560-6130808bb138"
      },
      "execution_count": null,
      "outputs": [
        {
          "output_type": "execute_result",
          "data": {
            "text/plain": [
              "'OMGOMGOMGOMGOMGOMGOMGOMGOMGOMGOMGOMGOMGOMGOMGOMGOMGOMGOMGOMGOMGOMGOMGOMGOMGOMGOMGOMGOMGOMGOMGOMGOMGOMGOMGOMGOMGOMGOMGOMGOMGOMGOMGOMGOMGOMGOMGOMGOMGOMG'"
            ],
            "application/vnd.google.colaboratory.intrinsic+json": {
              "type": "string"
            }
          },
          "metadata": {},
          "execution_count": 27
        }
      ]
    },
    {
      "cell_type": "code",
      "source": [
        "diff = tweet_limit - len(tweet_string) #len은 lenghth 로 길이를 구함\n",
        "if diff > 0:\n",
        "    print(\"가능\")\n",
        "else: \n",
        "    print(\"불가능\")"
      ],
      "metadata": {
        "colab": {
          "base_uri": "https://localhost:8080/"
        },
        "id": "Jnp2VfWu5L8i",
        "outputId": "64adae3b-b393-4a65-f4b6-f77141ba777c"
      },
      "execution_count": null,
      "outputs": [
        {
          "output_type": "stream",
          "name": "stdout",
          "text": [
            "가능\n"
          ]
        }
      ]
    },
    {
      "cell_type": "code",
      "source": [
        "if diff := tweet_limit - len(tweet_string) > 0:  # 바다코끼리 연산자 사용으로 한 줄로 줄일 수 있음\n",
        "    print(\"가능\")"
      ],
      "metadata": {
        "colab": {
          "base_uri": "https://localhost:8080/",
          "height": 137
        },
        "id": "OJV4qJmk41Uf",
        "outputId": "0e1eab3f-a272-46be-cb26-e3ba35a4fa7d"
      },
      "execution_count": null,
      "outputs": [
        {
          "output_type": "error",
          "ename": "SyntaxError",
          "evalue": "ignored",
          "traceback": [
            "\u001b[0;36m  File \u001b[0;32m\"<ipython-input-30-739719245ef7>\"\u001b[0;36m, line \u001b[0;32m1\u001b[0m\n\u001b[0;31m    if diff := tweet_limit - len(tweet_string) > 0:  # 바다코끼리 연산자 사용으로 한 줄로 줄일 수 있음\u001b[0m\n\u001b[0m             ^\u001b[0m\n\u001b[0;31mSyntaxError\u001b[0m\u001b[0;31m:\u001b[0m invalid syntax\n"
          ]
        }
      ]
    },
    {
      "cell_type": "markdown",
      "source": [
        ""
      ],
      "metadata": {
        "id": "xVP7gGIe7d7Z"
      }
    },
    {
      "cell_type": "markdown",
      "source": [
        "### Quiz\n",
        "- 윤년을 구하는 코드를 짜보자\n",
        "  - 연도가 4로 나눠떨어지면 윤년\n",
        "  - 100으로 나눠떨이지면 안 된다\n",
        "  - 400으로 나눠떨어지면 된다\n",
        "\n",
        "- year를 입력받는다.\n",
        "- 출력='{}년은 윤년입니다'/\"{}년은 윤년이 아닙니다.\""
      ],
      "metadata": {
        "id": "FYseqQjF7blz"
      }
    },
    {
      "cell_type": "code",
      "source": [
        "year = int(input(\"년을 입력하세요 : \"))\n",
        "if (year % 4 == 0) and (year % 100 != 0) or (year % 400 == 0):\n",
        "    print(f'{year}년은 윤년입니다.')\n",
        "else:\n",
        "    print(f'{year}년은 윤년이 아닙니다.')"
      ],
      "metadata": {
        "colab": {
          "base_uri": "https://localhost:8080/"
        },
        "id": "uPu5YKr031Sk",
        "outputId": "b3c1d665-b292-47d9-a5bd-7c95f36025a0"
      },
      "execution_count": null,
      "outputs": [
        {
          "output_type": "stream",
          "name": "stdout",
          "text": [
            "년을 입력하세요 : 500\n",
            "500년은 윤년이 아닙니다.\n"
          ]
        }
      ]
    },
    {
      "cell_type": "markdown",
      "source": [
        "## Strinng | 문자열\n",
        "- str type\n",
        "- 시스템에서 가장 작은 단위\n",
        "- 불변적인 성격을 가짐 (immutable)\n",
        "    - 'abcd' -> b -> a 바꿀 수 없다\n",
        "-문법: ''.\"\"감싸면 모두 문자열\n",
        "    - 예: '24'\n",
        "-''' or \"\"\" => 주석\n",
        "-형 변환은 str()\n",
        "\n",
        "## Escape character | 이스케이프문자\n",
        "- 눈에 보이는 대로 인식되지 않는 문자열\n",
        "- 문법:\\ + <character>\n",
        "- \\n, \\t, \\b\n",
        "- print()함수 쓰지 않으면 형태가 출력은 된다\n",
        "- '\\n\\ 출력은 어떻게?\n",
        "    - \\\\n\n",
        "    - r'' (raw string)\n",
        "- 문자열을 바꾸는 것이 아니라 표면상의 형태를 말하는 것"
      ],
      "metadata": {
        "id": "h1dyoW1i7nUH"
      }
    },
    {
      "cell_type": "code",
      "source": [
        "print(\"Hankuk University o\\bf\\b Foreign Study\") #o와 f가 사라짐"
      ],
      "metadata": {
        "colab": {
          "base_uri": "https://localhost:8080/"
        },
        "id": "rGT88S1u7ocz",
        "outputId": "fde7f5d2-e66a-411f-a950-cfe73377dcb7"
      },
      "execution_count": null,
      "outputs": [
        {
          "output_type": "stream",
          "name": "stdout",
          "text": [
            "Hankuk University o\bf\b Foreign Study\n"
          ]
        }
      ]
    },
    {
      "cell_type": "code",
      "source": [
        "print(\"Hankuk\\t University\\t of Foreign Study\") # "
      ],
      "metadata": {
        "colab": {
          "base_uri": "https://localhost:8080/"
        },
        "id": "AbJHmnRS7o16",
        "outputId": "2b3bdf2e-1190-4eec-de33-3a1bb6b4a94f"
      },
      "execution_count": null,
      "outputs": [
        {
          "output_type": "stream",
          "name": "stdout",
          "text": [
            "Hankuk\t University\t of Foreign Study\n"
          ]
        }
      ]
    },
    {
      "cell_type": "code",
      "source": [
        "EX= r\"Hankuk\\t University\\t of Foreign Study\" #r 사용하면 있는 그대로 보여줌\n",
        "print(EX)"
      ],
      "metadata": {
        "colab": {
          "base_uri": "https://localhost:8080/"
        },
        "id": "LHbkY3X47oz6",
        "outputId": "da72626e-eed3-42f7-c504-74f5b68dac28"
      },
      "execution_count": null,
      "outputs": [
        {
          "output_type": "stream",
          "name": "stdout",
          "text": [
            "Hankuk\\t University\\t of Foreign Study\n"
          ]
        }
      ]
    },
    {
      "cell_type": "markdown",
      "source": [
        "### 연산\n",
        "- concatenation (+)\n",
        "    - '' + '' => 붙이기\n",
        "- 복제(*)\n",
        "    - ''*4=> 4번 반복"
      ],
      "metadata": {
        "id": "1dL3B0Ue-O1E"
      }
    },
    {
      "cell_type": "code",
      "source": [
        "word = 'bowling' # 공백 없이 붙음\n",
        "word + word + word"
      ],
      "metadata": {
        "id": "Q3ZkG4vq7oxf",
        "colab": {
          "base_uri": "https://localhost:8080/",
          "height": 35
        },
        "outputId": "192690cb-1e55-4e28-9184-0d4604816a75"
      },
      "execution_count": 2,
      "outputs": [
        {
          "output_type": "execute_result",
          "data": {
            "text/plain": [
              "'bowlingbowlingbowling'"
            ],
            "application/vnd.google.colaboratory.intrinsic+json": {
              "type": "string"
            }
          },
          "metadata": {},
          "execution_count": 2
        }
      ]
    },
    {
      "cell_type": "code",
      "source": [
        "word* 5"
      ],
      "metadata": {
        "id": "xmV62AXp7ou7",
        "colab": {
          "base_uri": "https://localhost:8080/",
          "height": 35
        },
        "outputId": "372789cd-6683-476d-b046-0a565baee74f"
      },
      "execution_count": 3,
      "outputs": [
        {
          "output_type": "execute_result",
          "data": {
            "text/plain": [
              "'bowlingbowlingbowlingbowlingbowling'"
            ],
            "application/vnd.google.colaboratory.intrinsic+json": {
              "type": "string"
            }
          },
          "metadata": {},
          "execution_count": 3
        }
      ]
    },
    {
      "cell_type": "code",
      "source": [
        "\"I like\" + \"sushi\""
      ],
      "metadata": {
        "id": "4NJ5cdB27osZ",
        "colab": {
          "base_uri": "https://localhost:8080/",
          "height": 35
        },
        "outputId": "42bb0d71-5f49-4fae-bdf8-01731d34bc79"
      },
      "execution_count": 4,
      "outputs": [
        {
          "output_type": "execute_result",
          "data": {
            "text/plain": [
              "'I likesushi'"
            ],
            "application/vnd.google.colaboratory.intrinsic+json": {
              "type": "string"
            }
          },
          "metadata": {},
          "execution_count": 4
        }
      ]
    },
    {
      "cell_type": "markdown",
      "source": [
        "### Slicing\n",
        "- 지정 범위의 문자열을 추출하는 것\n",
        "- 문법: 대괄호 + 오프셋 이용 [offset]\n",
        "    - [Start:end:step]\n",
        "- 오프셋은 0부터 시작\n",
        "- start 포함, end 불포함 (크거나 같고, 작다)\n",
        "- 0일 경우 생략한다.\n",
        "    - 예 : ~4까지 출력하라 => [:5}\n",
        "    - 처음부터 끝까지 2스텝씩 => [::2]\n",
        "    - 처음부터 끝까지 역순으로 찍기 => [::-1]\n",
        "- 오프셋은 음수로도 가능하다\n",
        "0 1 2 ..\n",
        "h e l l o\n",
        "-5     -1"
      ],
      "metadata": {
        "id": "Hd2dX4R-pyip"
      }
    },
    {
      "cell_type": "code",
      "source": [
        "EX2 = \"Good People\"\n",
        "EX2 [2:4] #2 3 나옴\n",
        "\n"
      ],
      "metadata": {
        "id": "L0SptPeu7oh3",
        "colab": {
          "base_uri": "https://localhost:8080/",
          "height": 35
        },
        "outputId": "42cd4165-1d9e-4773-fd62-95484ab0fffc"
      },
      "execution_count": 86,
      "outputs": [
        {
          "output_type": "execute_result",
          "data": {
            "text/plain": [
              "'od'"
            ],
            "application/vnd.google.colaboratory.intrinsic+json": {
              "type": "string"
            }
          },
          "metadata": {},
          "execution_count": 86
        }
      ]
    },
    {
      "cell_type": "code",
      "source": [
        "EX2 [:6] # 처음부터 6 까지"
      ],
      "metadata": {
        "colab": {
          "base_uri": "https://localhost:8080/",
          "height": 35
        },
        "id": "u5ObPEq24a3u",
        "outputId": "7f230b96-80b2-42b0-ecd4-a930f5391876"
      },
      "execution_count": 85,
      "outputs": [
        {
          "output_type": "execute_result",
          "data": {
            "text/plain": [
              "'Good P'"
            ],
            "application/vnd.google.colaboratory.intrinsic+json": {
              "type": "string"
            }
          },
          "metadata": {},
          "execution_count": 85
        }
      ]
    },
    {
      "cell_type": "code",
      "source": [
        "len(EX2) # len = length 길으름 물어봄 (공백까지 포함)"
      ],
      "metadata": {
        "colab": {
          "base_uri": "https://localhost:8080/"
        },
        "id": "hIjgecwOqEaW",
        "outputId": "4339c001-c1c1-445f-fcfb-6ddb1bac797b"
      },
      "execution_count": 12,
      "outputs": [
        {
          "output_type": "execute_result",
          "data": {
            "text/plain": [
              "11"
            ]
          },
          "metadata": {},
          "execution_count": 12
        }
      ]
    },
    {
      "cell_type": "code",
      "source": [
        "EX2[::3] # 처음부터 3 스텝 씩 출력"
      ],
      "metadata": {
        "colab": {
          "base_uri": "https://localhost:8080/",
          "height": 35
        },
        "id": "JaRpvog2qwEK",
        "outputId": "d0d91a4b-525a-49b0-bab6-05f1f6c70007"
      },
      "execution_count": 15,
      "outputs": [
        {
          "output_type": "execute_result",
          "data": {
            "text/plain": [
              "'Gdel'"
            ],
            "application/vnd.google.colaboratory.intrinsic+json": {
              "type": "string"
            }
          },
          "metadata": {},
          "execution_count": 15
        }
      ]
    },
    {
      "cell_type": "code",
      "source": [
        "EX2[::-1] #거꾸로 출력"
      ],
      "metadata": {
        "colab": {
          "base_uri": "https://localhost:8080/",
          "height": 35
        },
        "id": "sFW8viZnqwB8",
        "outputId": "6da66568-f5b0-4aa9-e6cd-6b55cf6b915d"
      },
      "execution_count": 16,
      "outputs": [
        {
          "output_type": "execute_result",
          "data": {
            "text/plain": [
              "'elpoeP dooG'"
            ],
            "application/vnd.google.colaboratory.intrinsic+json": {
              "type": "string"
            }
          },
          "metadata": {},
          "execution_count": 16
        }
      ]
    },
    {
      "cell_type": "markdown",
      "source": [
        "### NLTK\n",
        "- natural language toolkit\n",
        "- 교육용으로 개발된 자연어 처리 패키지\n",
        "- 코퍼스 제공하는데 어떤 처리가 되어 있다.\n",
        "    - 토크나이즈, 파싱, 태깅, ..\n"
      ],
      "metadata": {
        "id": "T8f0mp5-sjpL"
      }
    },
    {
      "cell_type": "code",
      "source": [
        "#!pip install nltk"
      ],
      "metadata": {
        "id": "rek6tI_0qv_M"
      },
      "execution_count": 17,
      "outputs": []
    },
    {
      "cell_type": "code",
      "source": [
        "import nltk\n",
        "nltk.download('book', quiet=True)"
      ],
      "metadata": {
        "colab": {
          "base_uri": "https://localhost:8080/"
        },
        "id": "RJNi8PYdqv8l",
        "outputId": "5d085e1e-bcd3-4a7d-b901-2b9703a76d8f"
      },
      "execution_count": 23,
      "outputs": [
        {
          "output_type": "execute_result",
          "data": {
            "text/plain": [
              "True"
            ]
          },
          "metadata": {},
          "execution_count": 23
        }
      ]
    },
    {
      "cell_type": "code",
      "source": [
        "from nltk import book"
      ],
      "metadata": {
        "colab": {
          "base_uri": "https://localhost:8080/"
        },
        "id": "p7S2gxsXqv6L",
        "outputId": "b56e9168-e921-4cb3-8858-e032fe093d0e"
      },
      "execution_count": 24,
      "outputs": [
        {
          "output_type": "stream",
          "name": "stdout",
          "text": [
            "*** Introductory Examples for the NLTK Book ***\n",
            "Loading text1, ..., text9 and sent1, ..., sent9\n",
            "Type the name of the text or sentence to view it.\n",
            "Type: 'texts()' or 'sents()' to list the materials.\n",
            "text1: Moby Dick by Herman Melville 1851\n",
            "text2: Sense and Sensibility by Jane Austen 1811\n",
            "text3: The Book of Genesis\n",
            "text4: Inaugural Address Corpus\n",
            "text5: Chat Corpus\n",
            "text6: Monty Python and the Holy Grail\n",
            "text7: Wall Street Journal\n",
            "text8: Personals Corpus\n",
            "text9: The Man Who Was Thursday by G . K . Chesterton 1908\n"
          ]
        }
      ]
    },
    {
      "cell_type": "code",
      "source": [
        "moby = book.text1"
      ],
      "metadata": {
        "id": "NKxrJYuYqv2_"
      },
      "execution_count": 25,
      "outputs": []
    },
    {
      "cell_type": "code",
      "source": [
        "moby.tokens[:3] #단어에 접근\n",
        "\n",
        "# 토큰? 프로그래밍에서 정의하는 단어\n",
        "# \"\"I'm a boy, I'm, I am, I 'm\"\"\""
      ],
      "metadata": {
        "colab": {
          "base_uri": "https://localhost:8080/"
        },
        "id": "tUX2ZkOEqvym",
        "outputId": "0a138ad8-765e-4c4e-f2a2-11fe024b0943"
      },
      "execution_count": 38,
      "outputs": [
        {
          "output_type": "execute_result",
          "data": {
            "text/plain": [
              "['[', 'Moby', 'Dick']"
            ]
          },
          "metadata": {},
          "execution_count": 38
        }
      ]
    },
    {
      "cell_type": "code",
      "source": [
        "# 총 길이\n",
        "len(moby.tokens)"
      ],
      "metadata": {
        "colab": {
          "base_uri": "https://localhost:8080/"
        },
        "id": "dxCjbwjewXGM",
        "outputId": "f2cf52ec-ede3-46cd-b8ca-23f0afd0097f"
      },
      "execution_count": 39,
      "outputs": [
        {
          "output_type": "execute_result",
          "data": {
            "text/plain": [
              "260819"
            ]
          },
          "metadata": {},
          "execution_count": 39
        }
      ]
    },
    {
      "cell_type": "code",
      "source": [
        "# 중복되는 단어들을 걸러내자\n",
        "set(moby.tokens)"
      ],
      "metadata": {
        "id": "tslSy_bLwYeb"
      },
      "execution_count": 47,
      "outputs": []
    },
    {
      "cell_type": "markdown",
      "source": [
        "- set\n",
        "    - {a, b, c, ...}\n",
        "    - 중복 불가능\n",
        "    - 수학의 집합과 동일한 개념\n",
        "    - 순서 없음\n",
        "- list\n",
        "    - [a, b, c, ...]\n",
        "    - 중복 가능\n",
        "    - 순서 있음"
      ],
      "metadata": {
        "id": "jDsOY4yUxSz5"
      }
    },
    {
      "cell_type": "code",
      "source": [
        "subject = ['korean', 'math', 'english', 'korean']\n",
        "set (subject)"
      ],
      "metadata": {
        "colab": {
          "base_uri": "https://localhost:8080/"
        },
        "id": "dJxxc-pbxV34",
        "outputId": "1973998d-da53-4ea1-c59a-32af7e934262"
      },
      "execution_count": 51,
      "outputs": [
        {
          "output_type": "execute_result",
          "data": {
            "text/plain": [
              "{'english', 'korean', 'math'}"
            ]
          },
          "metadata": {},
          "execution_count": 51
        }
      ]
    },
    {
      "cell_type": "code",
      "source": [
        "# 중복 없는 단어 수\n",
        "len(set(moby.tokens))"
      ],
      "metadata": {
        "colab": {
          "base_uri": "https://localhost:8080/"
        },
        "id": "UoQdp2KaxQY0",
        "outputId": "b17fbafd-7f04-4eea-bfbd-25b35e87d6e4"
      },
      "execution_count": 49,
      "outputs": [
        {
          "output_type": "execute_result",
          "data": {
            "text/plain": [
              "19317"
            ]
          },
          "metadata": {},
          "execution_count": 49
        }
      ]
    },
    {
      "cell_type": "code",
      "source": [
        "# lexical diversity  어휘 다양성 중복 없든 단어 / 전체 단어\n",
        "len(set(moby.tokens)) / len(moby.tokens)"
      ],
      "metadata": {
        "colab": {
          "base_uri": "https://localhost:8080/"
        },
        "id": "KT_dVOEdxVUS",
        "outputId": "b0aa47c3-25fa-4905-867e-15350de90bd1"
      },
      "execution_count": 52,
      "outputs": [
        {
          "output_type": "execute_result",
          "data": {
            "text/plain": [
              "0.07406285585022564"
            ]
          },
          "metadata": {},
          "execution_count": 52
        }
      ]
    },
    {
      "cell_type": "code",
      "source": [
        "# 오름차순, 내림차순 정렬\n",
        "sorted(subject, reverse=True)"
      ],
      "metadata": {
        "colab": {
          "base_uri": "https://localhost:8080/"
        },
        "id": "7HbXwkBMxUR8",
        "outputId": "64d17f0c-9a15-4d5d-a09b-efc5582a4f33"
      },
      "execution_count": 54,
      "outputs": [
        {
          "output_type": "execute_result",
          "data": {
            "text/plain": [
              "['math', 'korean', 'korean', 'english']"
            ]
          },
          "metadata": {},
          "execution_count": 54
        }
      ]
    },
    {
      "cell_type": "code",
      "source": [
        "# mobydick 정렬하기\n",
        "sorted(set(moby.tokens), reverse=True)[:3]"
      ],
      "metadata": {
        "colab": {
          "base_uri": "https://localhost:8080/"
        },
        "id": "wTVYms1dx65D",
        "outputId": "5a654f79-10bb-4862-dd63-ed8c27c3c030"
      },
      "execution_count": 55,
      "outputs": [
        {
          "output_type": "execute_result",
          "data": {
            "text/plain": [
              "['zoology', 'zones', 'zoned']"
            ]
          },
          "metadata": {},
          "execution_count": 55
        }
      ]
    },
    {
      "cell_type": "markdown",
      "source": [
        "### Quiz 1\n",
        "- text9에서 lexcial diversity 계산하기\n",
        "- text6에서 중복 없는 셋 내림차순 정렬하기\n",
        "    - a. 앞에서 단어 10개 추출하기\n",
        "    - b. 조건문 연습 : 'z'가 있으면 대문자로 바꾸기, 'z'가 없는데 4자 이상이면 끝 글자 대문자로 바꾸기\n",
        "\n",
        "### Quiz 2\n",
        "- 주민등록번호, 휴대폰 번호, 이메일 입력받는다.\n",
        "    - 주민번호, 휴대폰은 숫자만 입력 (-없다)\n",
        "    - 이메일은 아이디만 입력 (@ 뒷부분 없음)\n",
        "\n",
        "- 출력:\n",
        "    - \"당신은 {}년 {}월 {}일 출생의 {남성/여성}입니다.\"\n",
        "    - 휴대폰 번호: {} #하이픈으로 연결하기\n",
        "    - 이메일주소: {아이디}@gmail.com"
      ],
      "metadata": {
        "id": "2dK8P2z-x-xn"
      }
    },
    {
      "cell_type": "code",
      "source": [
        "#quiz 1-1\n",
        "ches = book.text9\n",
        "ches.tokens\n",
        "set(ches.tokens)"
      ],
      "metadata": {
        "id": "9PtVwsgWx_u9"
      },
      "execution_count": null,
      "outputs": []
    },
    {
      "cell_type": "markdown",
      "source": [
        "."
      ],
      "metadata": {
        "id": "lX7BgfPc0oQz"
      }
    },
    {
      "cell_type": "code",
      "source": [
        "len(set(ches))/len(ches)"
      ],
      "metadata": {
        "colab": {
          "base_uri": "https://localhost:8080/"
        },
        "id": "k2ZUdZWPyZ1i",
        "outputId": "988b92c8-beaf-4a5e-d8b0-d468b24deff2"
      },
      "execution_count": 62,
      "outputs": [
        {
          "output_type": "execute_result",
          "data": {
            "text/plain": [
              "0.0983485761345412"
            ]
          },
          "metadata": {},
          "execution_count": 62
        }
      ]
    },
    {
      "cell_type": "code",
      "source": [
        "#quiz 1-2\n",
        "\n",
        "monty = book.text6\n",
        "monty.tokens\n",
        "set(monty.tokens)\n"
      ],
      "metadata": {
        "id": "L1x_KvqkyAF7"
      },
      "execution_count": null,
      "outputs": []
    },
    {
      "cell_type": "code",
      "source": [
        "answer = sorted(set(monty.tokens), reverse=True)[:10]\n",
        "print(answer)\n",
        "if 'z' in answer: \n",
        "    print('yes')\n",
        "else:\n",
        "    print('no')\n",
        "  # 잘모르겠습니다.. 죄송합니다\n"
      ],
      "metadata": {
        "colab": {
          "base_uri": "https://localhost:8080/"
        },
        "id": "9it0pZKVyADW",
        "outputId": "f110a7d2-4143-4c60-d89b-72c93c5b1470"
      },
      "execution_count": 111,
      "outputs": [
        {
          "output_type": "stream",
          "name": "stdout",
          "text": [
            "['zoosh', 'zoop', 'zoo', 'zone', 'zhiv', 'yourself', 'yours', 'your', 'young', 'you']\n",
            "no\n"
          ]
        }
      ]
    },
    {
      "cell_type": "code",
      "source": [
        "resident = input(\"주민등록 번호를 입력하세요: \")\n",
        "phone = input(\"휴대폰 번호를 입력하세요: \")\n",
        "mail = input(\"e-mail을 입력하세요: \")\n",
        "\n",
        "if resident[6] == '1':\n",
        "    print(f'당신은 {resident[:2]}년 {resident[2:4]}월 {resident[4:6]} 출생의 남성입니다')\n",
        "elif resident[6] == '2':\n",
        "    print(f'당신은 {resident[:2]}년 {resident[2:4]}월 {resident[4:6]}일 출생의 여성입니다')\n",
        "else:\n",
        "    print(\"잘못된 번호입니다\")\n",
        "  \n",
        "print(f'{phone[:3]}-{phone[3:7]}-{phone[7:11]}')\n",
        "print(f'{mail}@gmail.com')"
      ],
      "metadata": {
        "colab": {
          "base_uri": "https://localhost:8080/"
        },
        "id": "gfhb837hyABM",
        "outputId": "11be951f-e086-4a95-c63d-1380350bf65c"
      },
      "execution_count": 108,
      "outputs": [
        {
          "output_type": "stream",
          "name": "stdout",
          "text": [
            "주민등록 번호를 입력하세요: 98052214567\n",
            "휴대폰 번호를 입력하세요: 01046170095\n",
            "e-mail을 입력하세요: fds61194\n",
            "당신은 98년 05월 22 출생의 남성입니다\n",
            "010-4617-0095\n",
            "fds61194@gmail.com\n"
          ]
        }
      ]
    }
  ]
}