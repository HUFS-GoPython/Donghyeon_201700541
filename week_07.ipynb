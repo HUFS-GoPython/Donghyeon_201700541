{
  "nbformat": 4,
  "nbformat_minor": 0,
  "metadata": {
    "colab": {
      "name": "week_07.ipynb",
      "provenance": [],
      "collapsed_sections": []
    },
    "kernelspec": {
      "name": "python3",
      "display_name": "Python 3"
    },
    "language_info": {
      "name": "python"
    }
  },
  "cells": [
    {
      "cell_type": "markdown",
      "source": [
        "### week_07"
      ],
      "metadata": {
        "id": "uGaf2DhBk7Xx"
      }
    },
    {
      "cell_type": "markdown",
      "source": [
        "### 함수\n",
        "1. 정의\n",
        " - 코드의 덩어리, 묶음\n",
        " - 코드의 (편리한) 재사용이 주된 목적.\n",
        " - 정의하기(define) -> 호출하기(call)\n",
        " - 구조\n",
        "    def 함수 이름(매개변수1, 2, 3, ...):\n",
        "        수행문1\n",
        "        수행문2\n",
        "        ....\n",
        "        return 출력값\n",
        "\n",
        "    *호출하기*\n",
        "    함수이름(인수1, 2, 3, ...)\n",
        "  - \"인터페이스\" 잘 설정하면 내부를 몰라도 함수를 쉽게 쓸 수 있따.\n",
        "\n",
        "2. 이름 짓기\n",
        "  - 소문자 사용한다.\n",
        "  - 카멜표기법 가능 < 언더바\n",
        "  - 동사 + 명사 : print_output, save_model, split_text\n",
        "  - 줄임말 쓰지 말기 pr_output (x), 명료하게\n",
        "  \n",
        "3. 인수와 매개변수\n",
        "  - 매개변수 : 정의할 때 쓰임. 인터페이스 내에서만 유효함\n",
        "  - 인수 : 호출할 때 쓰임. \n",
        "  - 함수 호출 시 인수에 할당된 값이 매개변수에 복제됨\n",
        "      - line = 'hello'\n",
        "      - anything = line ##### copy\n",
        "      - anything 사라짐\n",
        "- 위치 인수:\n",
        "  - positional argument\n",
        "  - 값을 순서대로 상응하는 매개변수에 복사하는 것\n",
        "- 키워드 인수\n",
        "  - keyword argument\n",
        "  - 매개변수에 상응하는 이름을 인수에 저장한다.\n",
        "  - 위치가 달라도 됨\n",
        "- 디폴트 인수\n",
        "  - default argument\n",
        "  - 정의할 때 매개변수의 기본값 설정\n",
        "  - 호출 시 인수가 없으면 기본값으로 적용됨\n",
        "  - default"
      ],
      "metadata": {
        "id": "rJm0c6gH13E4"
      }
    },
    {
      "cell_type": "code",
      "source": [
        "y = x + 1 # x=매개변수, y=출력값"
      ],
      "metadata": {
        "id": "ww51_aGH17gL"
      },
      "execution_count": null,
      "outputs": []
    },
    {
      "cell_type": "code",
      "source": [
        "def make_a_sound():\n",
        "    # 입력 없고, 반환 없음\n",
        "    print('quack')\n",
        "    #return none\n",
        "\n",
        "make_a_sound()"
      ],
      "metadata": {
        "colab": {
          "base_uri": "https://localhost:8080/"
        },
        "id": "y_7HlIRA27Mg",
        "outputId": "3f96b64a-8161-4634-a442-c1edd3fc1c26"
      },
      "execution_count": null,
      "outputs": [
        {
          "output_type": "stream",
          "name": "stdout",
          "text": [
            "quack\n"
          ]
        }
      ]
    },
    {
      "cell_type": "code",
      "source": [
        "make_a_sound() # 다른 라인에서도 사용이 가능 하다"
      ],
      "metadata": {
        "colab": {
          "base_uri": "https://localhost:8080/"
        },
        "id": "HlmFDfIC3BXr",
        "outputId": "6d033bde-28ae-4cfe-af2d-8b3138777657"
      },
      "execution_count": null,
      "outputs": [
        {
          "output_type": "stream",
          "name": "stdout",
          "text": [
            "quack\n"
          ]
        }
      ]
    },
    {
      "cell_type": "code",
      "source": [
        "def agree():\n",
        "    # 입력 없고, 반환 있고\n",
        "    return True\n",
        "\n",
        "agree()"
      ],
      "metadata": {
        "colab": {
          "base_uri": "https://localhost:8080/"
        },
        "id": "otZb0kQq3Eab",
        "outputId": "e5fd2b27-480f-438e-ef1d-194bfc10f49f"
      },
      "execution_count": null,
      "outputs": [
        {
          "output_type": "execute_result",
          "data": {
            "text/plain": [
              "True"
            ]
          },
          "metadata": {},
          "execution_count": 4
        }
      ]
    },
    {
      "cell_type": "code",
      "source": [
        "def echo(anything):\n",
        "    #3. 입력 있고, 반환 없고\n",
        "    print ('{0} {0}'.format(anything))\n",
        "  \n",
        "echo('hello')"
      ],
      "metadata": {
        "colab": {
          "base_uri": "https://localhost:8080/"
        },
        "id": "PrAn6cUk3Q6f",
        "outputId": "a7ffaa9f-5141-43de-9508-80431368d8a0"
      },
      "execution_count": null,
      "outputs": [
        {
          "output_type": "stream",
          "name": "stdout",
          "text": [
            "hello hello\n"
          ]
        }
      ]
    },
    {
      "cell_type": "code",
      "source": [
        "def echo(anything):\n",
        "    #3. 입력 있고, 반환 있고\n",
        "    return ('{0} {0}'.format(anything))\n",
        "\n",
        "echo = echo('hello')\n",
        "echo"
      ],
      "metadata": {
        "colab": {
          "base_uri": "https://localhost:8080/",
          "height": 35
        },
        "id": "m-OEj-SO3ey6",
        "outputId": "0aa9bc5e-26bf-4047-c476-e890faac57cf"
      },
      "execution_count": null,
      "outputs": [
        {
          "output_type": "execute_result",
          "data": {
            "text/plain": [
              "'hello hello'"
            ],
            "application/vnd.google.colaboratory.intrinsic+json": {
              "type": "string"
            }
          },
          "metadata": {},
          "execution_count": 6
        }
      ]
    },
    {
      "cell_type": "code",
      "source": [
        "#인수와 매개변수\n",
        "anything # 인수가 아니라 매개변수기 때문에 오류"
      ],
      "metadata": {
        "colab": {
          "base_uri": "https://localhost:8080/",
          "height": 174
        },
        "id": "T162m7UT3ntO",
        "outputId": "24b3836f-2243-43a5-bba7-7ebdb5fbd7ed"
      },
      "execution_count": null,
      "outputs": [
        {
          "output_type": "error",
          "ename": "NameError",
          "evalue": "ignored",
          "traceback": [
            "\u001b[0;31m---------------------------------------------------------------------------\u001b[0m",
            "\u001b[0;31mNameError\u001b[0m                                 Traceback (most recent call last)",
            "\u001b[0;32m<ipython-input-8-68584221b771>\u001b[0m in \u001b[0;36m<module>\u001b[0;34m()\u001b[0m\n\u001b[0;32m----> 1\u001b[0;31m \u001b[0manything\u001b[0m \u001b[0;31m# 인수가 아니라 매개변수기 때문에 오류\u001b[0m\u001b[0;34m\u001b[0m\u001b[0;34m\u001b[0m\u001b[0m\n\u001b[0m",
            "\u001b[0;31mNameError\u001b[0m: name 'anything' is not defined"
          ]
        }
      ]
    },
    {
      "cell_type": "code",
      "source": [
        "def commentary(color):\n",
        "    #pass\n",
        "    if color == 'g':\n",
        "        return 'green'\n",
        "    else:\n",
        "        return 'black'\n",
        "\n",
        "colors = ['g', 'r', 'b']\n",
        "for c in colors:\n",
        "    print(commentary(c))"
      ],
      "metadata": {
        "colab": {
          "base_uri": "https://localhost:8080/"
        },
        "id": "wrmke5rL36mk",
        "outputId": "66f09dc5-c41b-46e1-ee14-2301291a87c6"
      },
      "execution_count": null,
      "outputs": [
        {
          "output_type": "stream",
          "name": "stdout",
          "text": [
            "green\n",
            "black\n",
            "black\n"
          ]
        }
      ]
    },
    {
      "cell_type": "code",
      "source": [
        "def menu(wine, entree, dessert):\n",
        "    return{'wine': wine, 'entree': entree, 'dessert': dessert}\n",
        "  \n",
        "menu('rioja', 'cake', 'egg')"
      ],
      "metadata": {
        "colab": {
          "base_uri": "https://localhost:8080/"
        },
        "id": "lVhnFmYq4Akc",
        "outputId": "5a4aa55d-be66-4c9c-8e71-93c95dab659c"
      },
      "execution_count": null,
      "outputs": [
        {
          "output_type": "execute_result",
          "data": {
            "text/plain": [
              "{'dessert': 'egg', 'entree': 'cake', 'wine': 'rioja'}"
            ]
          },
          "metadata": {},
          "execution_count": 15
        }
      ]
    },
    {
      "cell_type": "code",
      "source": [
        "#keyword\n",
        "menu(entree='egg', wine='rioja', dessert='pancake')"
      ],
      "metadata": {
        "colab": {
          "base_uri": "https://localhost:8080/"
        },
        "id": "fCBWTnAB4fuC",
        "outputId": "1014454e-7d45-4308-ba6e-69cded132041"
      },
      "execution_count": null,
      "outputs": [
        {
          "output_type": "execute_result",
          "data": {
            "text/plain": [
              "{'dessert': 'pancake', 'entree': 'egg', 'wine': 'rioja'}"
            ]
          },
          "metadata": {},
          "execution_count": 17
        }
      ]
    },
    {
      "cell_type": "code",
      "source": [
        "# default\n",
        "def menu2(wine, entree, dessert='scone'):\n",
        "    return {'wine':wine, 'entree':entree, 'dessert':dessert}\n",
        "    \n",
        "menu2('rjoa', 'cake', 'egg')"
      ],
      "metadata": {
        "colab": {
          "base_uri": "https://localhost:8080/"
        },
        "id": "arL_6_Ge4vgD",
        "outputId": "210b9e7f-f082-4aaf-9d59-a20778335710"
      },
      "execution_count": null,
      "outputs": [
        {
          "output_type": "execute_result",
          "data": {
            "text/plain": [
              "{'dessert': 'egg', 'entree': 'cake', 'wine': 'rjoa'}"
            ]
          },
          "metadata": {},
          "execution_count": 21
        }
      ]
    },
    {
      "cell_type": "code",
      "source": [
        "#menu(entree='egg', 'rioja', 'pancake')\n",
        "menu('egg', 'rioja', dessert = 'pancake') # 위치인수, 키워드인수 혼용할 때 주의. 위치 고려함."
      ],
      "metadata": {
        "colab": {
          "base_uri": "https://localhost:8080/"
        },
        "id": "FobBUL7S5Th3",
        "outputId": "a066cec4-0866-4165-e372-83c2fdb60dc9"
      },
      "execution_count": null,
      "outputs": [
        {
          "output_type": "execute_result",
          "data": {
            "text/plain": [
              "{'dessert': 'pancake', 'entree': 'rioja', 'wine': 'egg'}"
            ]
          },
          "metadata": {},
          "execution_count": 22
        }
      ]
    },
    {
      "cell_type": "code",
      "source": [
        "menu2('merlot', 'egg')"
      ],
      "metadata": {
        "colab": {
          "base_uri": "https://localhost:8080/"
        },
        "id": "PzconB6c5JF-",
        "outputId": "97389dd8-8250-41e1-f755-9cfb3aa5b24d"
      },
      "execution_count": null,
      "outputs": [
        {
          "output_type": "execute_result",
          "data": {
            "text/plain": [
              "{'dessert': 'scone', 'entree': 'egg', 'wine': 'merlot'}"
            ]
          },
          "metadata": {},
          "execution_count": 23
        }
      ]
    },
    {
      "cell_type": "markdown",
      "source": [
        "### 나이 -> 연도\n",
        "def fx():\n",
        "    # 입력값 = 나이\n",
        "    # 반환값 = 출생년도\n",
        "\n",
        "- input 입력 받아서 함수 사용해서 출력하기"
      ],
      "metadata": {
        "id": "lZgKJ2DD6xIA"
      }
    },
    {
      "cell_type": "code",
      "source": [
        "def calc_birth_year(years_old):\n",
        "    this_year = 2022\n",
        "    return (this_year - years_old + 1)\n",
        "\n",
        "age = int(input())\n",
        "calc_birth_year(age)"
      ],
      "metadata": {
        "colab": {
          "base_uri": "https://localhost:8080/"
        },
        "id": "KSpK59BF69eR",
        "outputId": "b641fe3a-22d4-4512-8ba3-28488dce866d"
      },
      "execution_count": null,
      "outputs": [
        {
          "name": "stdout",
          "output_type": "stream",
          "text": [
            "5\n"
          ]
        },
        {
          "output_type": "execute_result",
          "data": {
            "text/plain": [
              "2018"
            ]
          },
          "metadata": {},
          "execution_count": 24
        }
      ]
    },
    {
      "cell_type": "markdown",
      "source": [
        "### 예\n",
        "- 사각형 너비 구하기\n",
        "  - 입력: 두 변 길이\n",
        "  - 반환: string ''cm\n",
        "def #####:"
      ],
      "metadata": {
        "id": "WLDBrWhT7YMH"
      }
    },
    {
      "cell_type": "code",
      "source": [
        "def square_area(a,b):\n",
        "    return (a*b)\n",
        "\n",
        "a = int(input('한 변의 길이:'))\n",
        "b = int(input('다른 한 변의 길이:'))\n",
        "\n",
        "area = square_area(a,b)\n",
        "\n",
        "print(f' {area}cm')"
      ],
      "metadata": {
        "id": "ne3GMN2j7BL_"
      },
      "execution_count": null,
      "outputs": []
    },
    {
      "cell_type": "markdown",
      "source": [
        "### 호출 방식:\n",
        "  - 정의된 부분이 메모리에 업로드 되지만 실행은 안 된다.\n",
        "  - 실행은 호출 시\n",
        "  - 값을 넘기는 방식: 참조에 의한 호출(call by reference) 메모리 주소\n",
        "  - 메모리 주소가 복사되기 때문에 가변객체가 매개변수로 들어갈 때 주의할 것"
      ],
      "metadata": {
        "id": "tBtkvLk98Bmu"
      }
    },
    {
      "cell_type": "code",
      "source": [
        "def buggy(arg, result=[]):\n",
        "    result = [] # 비워야함\n",
        "    result.append(arg)\n",
        "    print(result)\n",
        "\n",
        "buggy('a') # a\n",
        "buggy('b') # b 2번째 줄 리스트 비우지 않으면 결과는 b 가 아닌 a, b"
      ],
      "metadata": {
        "colab": {
          "base_uri": "https://localhost:8080/"
        },
        "id": "aTfYZTYo8DdW",
        "outputId": "be5fff3f-329c-4ff9-bfcf-8d41f5b19cf1"
      },
      "execution_count": null,
      "outputs": [
        {
          "output_type": "stream",
          "name": "stdout",
          "text": [
            "['a']\n",
            "['b']\n"
          ]
        }
      ]
    },
    {
      "cell_type": "code",
      "source": [
        "#length = garo #\n",
        "def spam(eggs):\n",
        "    eggs.append(1)\n",
        "    eggs = [2, 3]\n",
        "    print(eggs, 'eggs')\n",
        "\n",
        "ham = [0]\n",
        "spam(ham)\n",
        "print(ham,'ham')"
      ],
      "metadata": {
        "colab": {
          "base_uri": "https://localhost:8080/"
        },
        "id": "I26nCkOq8E9R",
        "outputId": "1823f2d5-c26f-45ea-f27d-911ee02a0ea1"
      },
      "execution_count": null,
      "outputs": [
        {
          "output_type": "stream",
          "name": "stdout",
          "text": [
            "[2, 3] eggs\n",
            "[0, 1] ham\n"
          ]
        }
      ]
    },
    {
      "cell_type": "code",
      "source": [
        "# None\n",
        "thing = None\n",
        "if thing :\n",
        "    print('a') #True\n",
        "else:\n",
        "    print('b') #False"
      ],
      "metadata": {
        "colab": {
          "base_uri": "https://localhost:8080/"
        },
        "id": "KnboiVB58NTo",
        "outputId": "01ef29d2-036c-4ce4-f0d6-49e18e9bf2ac"
      },
      "execution_count": null,
      "outputs": [
        {
          "output_type": "stream",
          "name": "stdout",
          "text": [
            "a\n"
          ]
        }
      ]
    },
    {
      "cell_type": "code",
      "source": [
        "# None\n",
        "thing = None\n",
        "if thing is None:\n",
        "    print('a') #True\n",
        "elif thing:\n",
        "    print('b')\n",
        "else:\n",
        "    print('c') #False"
      ],
      "metadata": {
        "colab": {
          "base_uri": "https://localhost:8080/"
        },
        "id": "XEUyYEYg8Wuk",
        "outputId": "5612fdd4-8a6a-4b34-f95f-1ffbe8ab5529"
      },
      "execution_count": null,
      "outputs": [
        {
          "output_type": "stream",
          "name": "stdout",
          "text": [
            "a\n"
          ]
        }
      ]
    },
    {
      "cell_type": "code",
      "source": [
        "def nonbuggy(arg, result=None):\n",
        "    # result is None, 빈 리스트\n",
        "    # 아니면 코드 그대로\n",
        "    if result is None:\n",
        "       result = []\n",
        "       print(result)\n",
        "    else:\n",
        "       result.append(arg)\n",
        "       print(result)\n",
        "\n",
        "\n",
        "nonbuggy('a')"
      ],
      "metadata": {
        "colab": {
          "base_uri": "https://localhost:8080/"
        },
        "id": "uNwVh3nx8Xeo",
        "outputId": "a8f24c6c-e608-444b-d1c3-d0b572d41fd1"
      },
      "execution_count": 2,
      "outputs": [
        {
          "output_type": "stream",
          "name": "stdout",
          "text": [
            "[]\n"
          ]
        }
      ]
    },
    {
      "cell_type": "code",
      "source": [
        "def nonbuggy(arg,result=None):\n",
        "    if result is None:\n",
        "        result = []\n",
        "    result.append(arg)\n",
        "    print(result)\n",
        "\n",
        "list_a = []  \n",
        "nonbuggy('a', list_a)\n",
        "nonbuggy('b', list_a)"
      ],
      "metadata": {
        "colab": {
          "base_uri": "https://localhost:8080/"
        },
        "id": "jhcwvPVb2Gjg",
        "outputId": "db786441-4c36-4d24-e0bc-90f2edc45f2c"
      },
      "execution_count": 3,
      "outputs": [
        {
          "output_type": "stream",
          "name": "stdout",
          "text": [
            "['a']\n",
            "['a', 'b']\n"
          ]
        }
      ]
    },
    {
      "cell_type": "markdown",
      "source": [
        "#### 전역변수 vs 지역변수\n",
        "- 지역변수 : 함수 내에서만 사용 가능\n",
        "- 전역변수 : 프로그램 전체에서 사용 가능"
      ],
      "metadata": {
        "id": "kDv2dPtN2Jjo"
      }
    },
    {
      "cell_type": "code",
      "source": [
        "def fx():\n",
        "    food = 'sushi'\n",
        "    print(food)\n",
        "\n",
        "food = 'bread'\n",
        "fx() # food sushi\n",
        "print(food)"
      ],
      "metadata": {
        "colab": {
          "base_uri": "https://localhost:8080/"
        },
        "id": "SGb8VZ6a2LCS",
        "outputId": "4b2c822a-9c3c-43de-edae-7a8a6842d9ca"
      },
      "execution_count": 5,
      "outputs": [
        {
          "output_type": "stream",
          "name": "stdout",
          "text": [
            "sushi\n",
            "bread\n"
          ]
        }
      ]
    },
    {
      "cell_type": "code",
      "source": [
        "def fx():\n",
        "    \"\"\"\n",
        "    doc string: 함수에 대한 설명\n",
        "    매개변수에 대한 설명, 타입, 함수의 의도\n",
        "    \"\"\"\n",
        "    global food # global 사용하면 \n",
        "    food = 'sushi'\n",
        "    print(food)\n",
        "\n",
        "food = 'bread'\n",
        "fx() # food sushi\n",
        "print(food)"
      ],
      "metadata": {
        "id": "m8QpCKNW8Ywt",
        "colab": {
          "base_uri": "https://localhost:8080/"
        },
        "outputId": "06bbe75b-a4b0-49fd-f702-c70c9850f6e8"
      },
      "execution_count": 7,
      "outputs": [
        {
          "output_type": "stream",
          "name": "stdout",
          "text": [
            "sushi\n",
            "sushi\n"
          ]
        }
      ]
    },
    {
      "cell_type": "markdown",
      "source": [
        "#### 독스트링"
      ],
      "metadata": {
        "id": "FAB4c2-c3lZ1"
      }
    },
    {
      "cell_type": "code",
      "source": [
        "# 독스트링\n",
        "help(fx)"
      ],
      "metadata": {
        "colab": {
          "base_uri": "https://localhost:8080/"
        },
        "id": "1Y1wzELV3YkD",
        "outputId": "035efa12-df71-4c36-a8fe-651dfcb24741"
      },
      "execution_count": 8,
      "outputs": [
        {
          "output_type": "stream",
          "name": "stdout",
          "text": [
            "Help on function fx in module __main__:\n",
            "\n",
            "fx()\n",
            "    doc string: 함수에 대한 설명\n",
            "    매개변수에 대한 설명, 타입, 함수의 의도\n",
            "\n"
          ]
        }
      ]
    },
    {
      "cell_type": "code",
      "source": [
        "fx.__doc__"
      ],
      "metadata": {
        "colab": {
          "base_uri": "https://localhost:8080/",
          "height": 35
        },
        "id": "g6tj2SHa3w-I",
        "outputId": "2bd4dc8d-ce23-4dcd-bbad-ee86a1bbaf5a"
      },
      "execution_count": 9,
      "outputs": [
        {
          "output_type": "execute_result",
          "data": {
            "text/plain": [
              "'\\n    doc string: 함수에 대한 설명\\n    매개변수에 대한 설명, 타입, 함수의 의도\\n    '"
            ],
            "application/vnd.google.colaboratory.intrinsic+json": {
              "type": "string"
            }
          },
          "metadata": {},
          "execution_count": 9
        }
      ]
    }
  ]
}