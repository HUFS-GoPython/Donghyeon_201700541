{
  "nbformat": 4,
  "nbformat_minor": 0,
  "metadata": {
    "colab": {
      "name": "week_05.ipynb",
      "provenance": [],
      "collapsed_sections": []
    },
    "kernelspec": {
      "name": "python3",
      "display_name": "Python 3"
    },
    "language_info": {
      "name": "python"
    }
  },
  "cells": [
    {
      "cell_type": "markdown",
      "source": [
        "# Week_05"
      ],
      "metadata": {
        "id": "Au0khm8TuwGh"
      }
    },
    {
      "cell_type": "code",
      "execution_count": null,
      "metadata": {
        "colab": {
          "base_uri": "https://localhost:8080/"
        },
        "id": "VOtuHftluqOx",
        "outputId": "f46db1ae-aedf-49f7-e875-80244b3cadee"
      },
      "outputs": [
        {
          "output_type": "stream",
          "name": "stdout",
          "text": [
            "*** Introductory Examples for the NLTK Book ***\n",
            "Loading text1, ..., text9 and sent1, ..., sent9\n",
            "Type the name of the text or sentence to view it.\n",
            "Type: 'texts()' or 'sents()' to list the materials.\n",
            "text1: Moby Dick by Herman Melville 1851\n",
            "text2: Sense and Sensibility by Jane Austen 1811\n",
            "text3: The Book of Genesis\n",
            "text4: Inaugural Address Corpus\n",
            "text5: Chat Corpus\n",
            "text6: Monty Python and the Holy Grail\n",
            "text7: Wall Street Journal\n",
            "text8: Personals Corpus\n",
            "text9: The Man Who Was Thursday by G . K . Chesterton 1908\n"
          ]
        }
      ],
      "source": [
        "import nltk\n",
        "nltk.download('book', quiet=True)\n",
        "from nltk import book"
      ]
    },
    {
      "cell_type": "markdown",
      "source": [
        "## 반복문\n",
        "\n",
        "### while\n",
        "- 어떤 조건이 만족할 때 까지 블록 수행\n",
        "- 해당 조건이 거짓이면 수행을 멈춘다\n",
        "    - 언제 빠져나오는지 정확히 알아야 한다.\n",
        "- for + if\n",
        "\n",
        "#### for vs while\n",
        "- for loop: 반복 횟수 정확히 알고, 반복 횟수 변하지 않을 때\n",
        "    - 예: 전체 학생 성적 산출\n",
        "- while loop: 반복 횟수 정확히 알고, 어떤 조건을 만족시킬 때 프로그램을 종료하고 싶다면 사용\n",
        "    - 예: 가위바위보로 이기면 종료"
      ],
      "metadata": {
        "id": "EZQBaaf4wCZj"
      }
    },
    {
      "cell_type": "code",
      "source": [
        "for i in range(10):\n",
        "    print(i)"
      ],
      "metadata": {
        "colab": {
          "base_uri": "https://localhost:8080/"
        },
        "id": "zdiTvCZ4GCle",
        "outputId": "b4f738e4-cbc6-40c6-8b59-7f35fa2ce044"
      },
      "execution_count": null,
      "outputs": [
        {
          "output_type": "stream",
          "name": "stdout",
          "text": [
            "0\n",
            "1\n",
            "2\n",
            "3\n",
            "4\n",
            "5\n",
            "6\n",
            "7\n",
            "8\n",
            "9\n"
          ]
        }
      ]
    },
    {
      "cell_type": "code",
      "source": [
        "t = 0 #초기화 시켜줘야함\n",
        "while t < 3:     # 0, 1, 2, 3  3까지 가고 조건이 거짓이 되므로 수행을 멈춤\n",
        "    print(t)     # 0, 1, 2, \n",
        "    t += 1 #변화 # 1, 2, 3, "
      ],
      "metadata": {
        "colab": {
          "base_uri": "https://localhost:8080/"
        },
        "id": "Q5xiJr_lGDML",
        "outputId": "448a763f-6a85-4650-f688-891181f080a8"
      },
      "execution_count": null,
      "outputs": [
        {
          "output_type": "stream",
          "name": "stdout",
          "text": [
            "0\n",
            "1\n",
            "2\n"
          ]
        }
      ]
    },
    {
      "cell_type": "code",
      "source": [
        "t #t 의 값"
      ],
      "metadata": {
        "colab": {
          "base_uri": "https://localhost:8080/"
        },
        "id": "k21yW6hHGDE6",
        "outputId": "3ccdffd1-515f-4423-fe34-f979bbffc541"
      },
      "execution_count": null,
      "outputs": [
        {
          "output_type": "execute_result",
          "data": {
            "text/plain": [
              "3"
            ]
          },
          "metadata": {},
          "execution_count": 13
        }
      ]
    },
    {
      "cell_type": "code",
      "source": [
        "characters = ['a', 'b', 'c']\n",
        "for ch in characters:\n",
        "    print(ch)"
      ],
      "metadata": {
        "colab": {
          "base_uri": "https://localhost:8080/"
        },
        "id": "SCYjj7bXGDBu",
        "outputId": "a38a70d3-d677-4cc9-98a7-ab5b576e79fb"
      },
      "execution_count": null,
      "outputs": [
        {
          "output_type": "stream",
          "name": "stdout",
          "text": [
            "a\n",
            "b\n",
            "c\n"
          ]
        }
      ]
    },
    {
      "cell_type": "code",
      "source": [
        "ch = 0 # 값 정해줘야 함\n",
        "while ch < len(characters):\n",
        "    print(characters[ch])\n",
        "    ch+=1"
      ],
      "metadata": {
        "colab": {
          "base_uri": "https://localhost:8080/"
        },
        "id": "FtaJCWa7GC74",
        "outputId": "67c21505-6dcc-4fb4-e8b5-9f6a96e22d9b"
      },
      "execution_count": null,
      "outputs": [
        {
          "output_type": "stream",
          "name": "stdout",
          "text": [
            "a\n",
            "b\n",
            "c\n"
          ]
        }
      ]
    },
    {
      "cell_type": "markdown",
      "source": [
        "### 반복문의 제어\n",
        "- 의도치 않게 코드를 종료시킬 수 있기 때문에 되도록 사용하지 않는다.\n",
        "- break : 논리적으로 반복을 종료시키는 방법, break 시점을 잘 알아야 함.\n",
        "- else : 어떤 조건이 \"완전히\" 끝났을 때 한 번 더 실행하는 블록, break로 끝난 것과 구분할 수 있다.\n",
        "- continue : 특정 조건을 건너뛰고 다음 조건을 수행함"
      ],
      "metadata": {
        "id": "LSkQSqxeIJGr"
      }
    },
    {
      "cell_type": "code",
      "source": [
        "for i in range(7):\n",
        "  if i == 7: \n",
        "    break  # break가 사용되지 않아 \"ended\" 가 나온다\n",
        "  print(i)\n",
        "else:\n",
        "    print(\"ended\")"
      ],
      "metadata": {
        "colab": {
          "base_uri": "https://localhost:8080/"
        },
        "id": "9YwL1jHnIMnX",
        "outputId": "dcd8a202-9a75-43cc-fbd4-dea2a4f7e525"
      },
      "execution_count": null,
      "outputs": [
        {
          "output_type": "stream",
          "name": "stdout",
          "text": [
            "0\n",
            "1\n",
            "2\n",
            "3\n",
            "4\n",
            "5\n",
            "6\n",
            "ended\n"
          ]
        }
      ]
    },
    {
      "cell_type": "code",
      "source": [
        "for i in range(7):\n",
        "  if i == 3: \n",
        "    break  # break 사용으로 i가 3이 되는 시점에서 끝남\n",
        "  print(i)\n",
        "else:\n",
        "    print(\"ended\")"
      ],
      "metadata": {
        "colab": {
          "base_uri": "https://localhost:8080/"
        },
        "id": "_BCtwxXAIYKR",
        "outputId": "d0d9ac6d-2faf-4104-e31c-95bc29f40b39"
      },
      "execution_count": null,
      "outputs": [
        {
          "output_type": "stream",
          "name": "stdout",
          "text": [
            "0\n",
            "1\n",
            "2\n"
          ]
        }
      ]
    },
    {
      "cell_type": "markdown",
      "source": [
        "### 구구단\n",
        "- 1. for, while 선택한 뒤, n단을 입력받아서 n단을 출력한다.\n",
        "    - 출력: == 3단 ===\n",
        "            3 * 1 = 3\n",
        "            3 * 2 = 6\n",
        "            ...\n",
        "            3 * 9 = 27\n",
        "- 2. 1 ~ n단까지 출력한다.\n",
        "- 3. 시작단, 끝 단 둘 다 입력받을 것\n",
        "      - 예: 4 - 7 단\n",
        "      - 시작단이 끝단보다 적을 때 어떻게 처리할지\n",
        "- 4. 프로그램으로 만든다.\n",
        "      - 1) n단 2) 1-n단 3) n-m단\n",
        "      - 3번 -> n, m -> ...\n",
        "      - 메뉴에 없는 선택 처리\n",
        "      "
      ],
      "metadata": {
        "id": "-I_4IsGLKn9o"
      }
    },
    {
      "cell_type": "code",
      "source": [
        "# Quiz 1\n",
        "num = int(input(\"단을 입력하세요 : \"))\n",
        "print(f'=== {num}단 ===')\n",
        "i = 1\n",
        "while i < 10:\n",
        "    print(f'{num} * {i} = {num * i}')\n",
        "    i += 1\n"
      ],
      "metadata": {
        "colab": {
          "base_uri": "https://localhost:8080/"
        },
        "id": "iBoH7caIKpkY",
        "outputId": "f01674bd-9e99-4f4e-afe2-44a7260d22dc"
      },
      "execution_count": null,
      "outputs": [
        {
          "output_type": "stream",
          "name": "stdout",
          "text": [
            "단을 입력하세요 : 8\n",
            "=== 8단 ===\n",
            "8 * 1 = 8\n",
            "8 * 2 = 16\n",
            "8 * 3 = 24\n",
            "8 * 4 = 32\n",
            "8 * 5 = 40\n",
            "8 * 6 = 48\n",
            "8 * 7 = 56\n",
            "8 * 8 = 64\n",
            "8 * 9 = 72\n"
          ]
        }
      ]
    },
    {
      "cell_type": "code",
      "source": [
        "# Quiz 2\n",
        "num = int(input(\"단을 입력하세요 : \"))\n",
        "j=1\n",
        "while j <= num: \n",
        "  print(f'=== {j}단 ===')\n",
        "  i = 1\n",
        "  while i < 10:\n",
        "     print(f'{j} * {i} = {j * i}')\n",
        "     i += 1\n",
        "  j += 1"
      ],
      "metadata": {
        "colab": {
          "base_uri": "https://localhost:8080/"
        },
        "id": "SVgCyYdXK8lN",
        "outputId": "1d16ddb1-34db-41f6-d70c-ea19c8b9c8d0"
      },
      "execution_count": null,
      "outputs": [
        {
          "output_type": "stream",
          "name": "stdout",
          "text": [
            "단을 입력하세요 : 4\n",
            "=== 1단 ===\n",
            "1 * 1 = 1\n",
            "1 * 2 = 2\n",
            "1 * 3 = 3\n",
            "1 * 4 = 4\n",
            "1 * 5 = 5\n",
            "1 * 6 = 6\n",
            "1 * 7 = 7\n",
            "1 * 8 = 8\n",
            "1 * 9 = 9\n",
            "=== 2단 ===\n",
            "2 * 1 = 2\n",
            "2 * 2 = 4\n",
            "2 * 3 = 6\n",
            "2 * 4 = 8\n",
            "2 * 5 = 10\n",
            "2 * 6 = 12\n",
            "2 * 7 = 14\n",
            "2 * 8 = 16\n",
            "2 * 9 = 18\n",
            "=== 3단 ===\n",
            "3 * 1 = 3\n",
            "3 * 2 = 6\n",
            "3 * 3 = 9\n",
            "3 * 4 = 12\n",
            "3 * 5 = 15\n",
            "3 * 6 = 18\n",
            "3 * 7 = 21\n",
            "3 * 8 = 24\n",
            "3 * 9 = 27\n",
            "=== 4단 ===\n",
            "4 * 1 = 4\n",
            "4 * 2 = 8\n",
            "4 * 3 = 12\n",
            "4 * 4 = 16\n",
            "4 * 5 = 20\n",
            "4 * 6 = 24\n",
            "4 * 7 = 28\n",
            "4 * 8 = 32\n",
            "4 * 9 = 36\n"
          ]
        }
      ]
    },
    {
      "cell_type": "code",
      "source": [
        "# Quiz 3\n",
        "num1 = int(input(\"시작단을 입력하세요 : \"))\n",
        "num2 = int(input(\"끝단을 입력하세요 : \"))\n",
        "\n",
        "while num1 >= num2:\n",
        "  print(\"시작단이 끝단 보다 작아야 합니다. 다시 입력해주세요: \")\n",
        "  num1 = int(input(\"시작단을 입력하세요 : \"))\n",
        "  num2 = int(input(\"끝단을 입력하세요 : \"))\n",
        "\n",
        "j=num1\n",
        "\n",
        "while j <= num2: \n",
        "  print(f'=== {j}단 ===')\n",
        "  i = 1\n",
        "  while i < 10:\n",
        "     print(f'{j} * {i} = {j * i}')\n",
        "     i += 1\n",
        "  j += 1"
      ],
      "metadata": {
        "colab": {
          "base_uri": "https://localhost:8080/"
        },
        "id": "IXmVk-6WMBRY",
        "outputId": "2b265c2a-bdc8-4edd-89b7-962d5739950a"
      },
      "execution_count": null,
      "outputs": [
        {
          "output_type": "stream",
          "name": "stdout",
          "text": [
            "시작단을 입력하세요 : 8\n",
            "끝단을 입력하세요 : 5\n",
            "시작단이 끝단 보다 작아야 합니다. 다시 입력해주세요: \n",
            "시작단을 입력하세요 : 8\n",
            "끝단을 입력하세요 : 5\n",
            "시작단이 끝단 보다 작아야 합니다. 다시 입력해주세요: \n",
            "시작단을 입력하세요 : 8\n",
            "끝단을 입력하세요 : 5\n",
            "시작단이 끝단 보다 작아야 합니다. 다시 입력해주세요: \n",
            "시작단을 입력하세요 : 5\n",
            "끝단을 입력하세요 : 8\n",
            "=== 5단 ===\n",
            "5 * 1 = 5\n",
            "5 * 2 = 10\n",
            "5 * 3 = 15\n",
            "5 * 4 = 20\n",
            "5 * 5 = 25\n",
            "5 * 6 = 30\n",
            "5 * 7 = 35\n",
            "5 * 8 = 40\n",
            "5 * 9 = 45\n",
            "=== 6단 ===\n",
            "6 * 1 = 6\n",
            "6 * 2 = 12\n",
            "6 * 3 = 18\n",
            "6 * 4 = 24\n",
            "6 * 5 = 30\n",
            "6 * 6 = 36\n",
            "6 * 7 = 42\n",
            "6 * 8 = 48\n",
            "6 * 9 = 54\n",
            "=== 7단 ===\n",
            "7 * 1 = 7\n",
            "7 * 2 = 14\n",
            "7 * 3 = 21\n",
            "7 * 4 = 28\n",
            "7 * 5 = 35\n",
            "7 * 6 = 42\n",
            "7 * 7 = 49\n",
            "7 * 8 = 56\n",
            "7 * 9 = 63\n",
            "=== 8단 ===\n",
            "8 * 1 = 8\n",
            "8 * 2 = 16\n",
            "8 * 3 = 24\n",
            "8 * 4 = 32\n",
            "8 * 5 = 40\n",
            "8 * 6 = 48\n",
            "8 * 7 = 56\n",
            "8 * 8 = 64\n",
            "8 * 9 = 72\n"
          ]
        }
      ]
    },
    {
      "cell_type": "code",
      "source": [
        "# Quiz 4\n",
        "choice = int(input(\"원하는 프로그램을 선택하세요 (1:n단  2: 1~n단  3:n~m단): \"))\n",
        "\n",
        "if choice == 1:\n",
        "  num = int(input(\"단을 입력하세요 : \"))\n",
        "  print(f'=== {num}단 ===')\n",
        "  i = 1\n",
        "  while i < 10:\n",
        "    print(f'{num} * {i} = {num * i}')\n",
        "    i += 1\n",
        "elif choice ==2:\n",
        "  num2 = int(input(\"단을 입력하세요 : \"))\n",
        "  t=1\n",
        "  while t <= num2: \n",
        "    print(f'=== {t}단 ===')\n",
        "    i = 1\n",
        "    while i < 10:\n",
        "       print(f'{t} * {i} = {t * i}')\n",
        "       i += 1\n",
        "    t += 1\n",
        "elif choice == 3:\n",
        "  num3 = int(input(\"시작단을 입력하세요 : \"))\n",
        "  num4 = int(input(\"끝단을 입력하세요 : \"))\n",
        "  while num3 > num4:\n",
        "    print(\"시작단이 끝단 보다 크면 안 됩니다. 다시 입력해주세요: \")\n",
        "    num3 = int(input(\"시작단을 입력하세요 : \"))\n",
        "    num4 = int(input(\"끝단을 입력하세요 : \"))\n",
        "  while num3 <= num4: \n",
        "      print(f'=== {num3}단 ===')\n",
        "      r = 1\n",
        "      while r < 10:\n",
        "        print(f'{num3} * {r} = {num3 * r}')\n",
        "        r += 1\n",
        "      num3 += 1\n",
        "else:\n",
        "  print(\"없는 번호 입니다. 숫자를 다시 입력해주세요: \")\n"
      ],
      "metadata": {
        "colab": {
          "base_uri": "https://localhost:8080/"
        },
        "id": "Y3-WcCX6ko1C",
        "outputId": "096d7d6b-29ae-498e-8219-3f5edc45d887"
      },
      "execution_count": null,
      "outputs": [
        {
          "output_type": "stream",
          "name": "stdout",
          "text": [
            "원하는 프로그램을 선택하세요 (1:n단  2: 1~n단  3:n~m단): 3\n",
            "시작단을 입력하세요 : 5\n",
            "끝단을 입력하세요 : 8\n",
            "=== 5단 ===\n",
            "5 * 1 = 5\n",
            "5 * 2 = 10\n",
            "5 * 3 = 15\n",
            "5 * 4 = 20\n",
            "5 * 5 = 25\n",
            "5 * 6 = 30\n",
            "5 * 7 = 35\n",
            "5 * 8 = 40\n",
            "5 * 9 = 45\n",
            "=== 6단 ===\n",
            "6 * 1 = 6\n",
            "6 * 2 = 12\n",
            "6 * 3 = 18\n",
            "6 * 4 = 24\n",
            "6 * 5 = 30\n",
            "6 * 6 = 36\n",
            "6 * 7 = 42\n",
            "6 * 8 = 48\n",
            "6 * 9 = 54\n",
            "=== 7단 ===\n",
            "7 * 1 = 7\n",
            "7 * 2 = 14\n",
            "7 * 3 = 21\n",
            "7 * 4 = 28\n",
            "7 * 5 = 35\n",
            "7 * 6 = 42\n",
            "7 * 7 = 49\n",
            "7 * 8 = 56\n",
            "7 * 9 = 63\n",
            "=== 8단 ===\n",
            "8 * 1 = 8\n",
            "8 * 2 = 16\n",
            "8 * 3 = 24\n",
            "8 * 4 = 32\n",
            "8 * 5 = 40\n",
            "8 * 6 = 48\n",
            "8 * 7 = 56\n",
            "8 * 8 = 64\n",
            "8 * 9 = 72\n"
          ]
        }
      ]
    },
    {
      "cell_type": "markdown",
      "source": [
        "### print formating\n",
        "- 1. f string\n",
        "    - f, F 둘다 사용 가능\n",
        "    - f'{var}'\n",
        "- 2. '{}'.format(var)\n",
        "- 3. %\n",
        "    - ' %type ' % var\n",
        "\n"
      ],
      "metadata": {
        "id": "_vHZE5KhMp6L"
      }
    },
    {
      "cell_type": "code",
      "source": [
        "food = 'sushi'\n",
        "print (f'내가 좋아하는 음식은{food}입니다')"
      ],
      "metadata": {
        "colab": {
          "base_uri": "https://localhost:8080/"
        },
        "id": "0Mf9OKHwMJC7",
        "outputId": "8eb56894-047b-46f5-f780-91732c4231de"
      },
      "execution_count": null,
      "outputs": [
        {
          "output_type": "stream",
          "name": "stdout",
          "text": [
            "내가 좋아하는 음식은sushi입니다\n"
          ]
        }
      ]
    },
    {
      "cell_type": "code",
      "source": [
        "print('내가 좋아하는 음식은 {:.1s} 입니다'.format(food)) #소수점 출력 시 활용"
      ],
      "metadata": {
        "colab": {
          "base_uri": "https://localhost:8080/"
        },
        "id": "hm0J7OyHMJAl",
        "outputId": "19b86be3-b40c-41d8-afef-8b57943522f8"
      },
      "execution_count": null,
      "outputs": [
        {
          "output_type": "stream",
          "name": "stdout",
          "text": [
            "내가 좋아하는 음식은 s 입니다\n"
          ]
        }
      ]
    },
    {
      "cell_type": "code",
      "source": [
        "print('내가 좋아하는 음식 %s입니다' %food) # 잘 안 씀"
      ],
      "metadata": {
        "colab": {
          "base_uri": "https://localhost:8080/"
        },
        "id": "H2J_wIw5MI-Q",
        "outputId": "5902c269-8bba-4182-8843-fdb71deb5d15"
      },
      "execution_count": null,
      "outputs": [
        {
          "output_type": "stream",
          "name": "stdout",
          "text": [
            "내가 좋아하는 음식 sushi입니다\n"
          ]
        }
      ]
    },
    {
      "cell_type": "markdown",
      "source": [
        "### NLTK: Corpus\n",
        "- 다양한 종류의 코퍼스가 있다.\n",
        "- 더 다양한 언어 분석이 가능\n",
        "- 종류\n",
        "    - gutenberg\n",
        "    - brown\n",
        "    - inaugural\n",
        "- 함수\n",
        "    - words() : 단어 출력\n",
        "    - sents() : 문장 출력\n",
        "    - fileids() : 파일이름 출력\n",
        "    - raw() :글자 수 출력"
      ],
      "metadata": {
        "id": "FnYtO7SZPhAQ"
      }
    },
    {
      "cell_type": "code",
      "source": [
        "import nltk\n",
        "from nltk.corpus import gutenberg\n",
        "nltk.download('gutenberg', quiet=True)"
      ],
      "metadata": {
        "colab": {
          "base_uri": "https://localhost:8080/"
        },
        "id": "Q7O788ySPiNi",
        "outputId": "91aea722-2874-46b4-d40e-dde4182ec68e"
      },
      "execution_count": 2,
      "outputs": [
        {
          "output_type": "execute_result",
          "data": {
            "text/plain": [
              "True"
            ]
          },
          "metadata": {},
          "execution_count": 2
        }
      ]
    },
    {
      "cell_type": "code",
      "source": [
        "import nltk\n",
        "nltk.download('punkt')"
      ],
      "metadata": {
        "colab": {
          "base_uri": "https://localhost:8080/"
        },
        "id": "OsUOvjklspBV",
        "outputId": "97e772cf-ee4e-4a78-d89f-501e92c6f79e"
      },
      "execution_count": 5,
      "outputs": [
        {
          "output_type": "stream",
          "name": "stdout",
          "text": [
            "[nltk_data] Downloading package punkt to /root/nltk_data...\n",
            "[nltk_data]   Unzipping tokenizers/punkt.zip.\n"
          ]
        },
        {
          "output_type": "execute_result",
          "data": {
            "text/plain": [
              "True"
            ]
          },
          "metadata": {},
          "execution_count": 5
        }
      ]
    },
    {
      "cell_type": "code",
      "source": [
        "gutenberg.words()"
      ],
      "metadata": {
        "colab": {
          "base_uri": "https://localhost:8080/"
        },
        "id": "cso_oXYrPj54",
        "outputId": "0f6abff8-202a-4b75-cbc5-8e5cbbcf48a9"
      },
      "execution_count": null,
      "outputs": [
        {
          "output_type": "execute_result",
          "data": {
            "text/plain": [
              "['[', 'Emma', 'by', 'Jane', 'Austen', '1816', ']', ...]"
            ]
          },
          "metadata": {},
          "execution_count": 3
        }
      ]
    },
    {
      "cell_type": "code",
      "source": [
        "gutenberg.fileids()"
      ],
      "metadata": {
        "colab": {
          "base_uri": "https://localhost:8080/"
        },
        "id": "IazrpTrcPlRO",
        "outputId": "07b6b655-71e6-4d20-adbe-e1439d97a8b7"
      },
      "execution_count": null,
      "outputs": [
        {
          "output_type": "execute_result",
          "data": {
            "text/plain": [
              "['austen-emma.txt',\n",
              " 'austen-persuasion.txt',\n",
              " 'austen-sense.txt',\n",
              " 'bible-kjv.txt',\n",
              " 'blake-poems.txt',\n",
              " 'bryant-stories.txt',\n",
              " 'burgess-busterbrown.txt',\n",
              " 'carroll-alice.txt',\n",
              " 'chesterton-ball.txt',\n",
              " 'chesterton-brown.txt',\n",
              " 'chesterton-thursday.txt',\n",
              " 'edgeworth-parents.txt',\n",
              " 'melville-moby_dick.txt',\n",
              " 'milton-paradise.txt',\n",
              " 'shakespeare-caesar.txt',\n",
              " 'shakespeare-hamlet.txt',\n",
              " 'shakespeare-macbeth.txt',\n",
              " 'whitman-leaves.txt']"
            ]
          },
          "metadata": {},
          "execution_count": 4
        }
      ]
    },
    {
      "cell_type": "code",
      "source": [
        "gutenberg.words('austen-emma.txt') # austen-emma 텍스트 단어 출력"
      ],
      "metadata": {
        "colab": {
          "base_uri": "https://localhost:8080/"
        },
        "id": "E0abivcBqxhC",
        "outputId": "92dfef76-dc8e-4367-975f-770a7f42e92c"
      },
      "execution_count": null,
      "outputs": [
        {
          "output_type": "execute_result",
          "data": {
            "text/plain": [
              "['[', 'Emma', 'by', 'Jane', 'Austen', '1816', ']', ...]"
            ]
          },
          "metadata": {},
          "execution_count": 5
        }
      ]
    },
    {
      "cell_type": "code",
      "source": [
        "len(gutenberg.sents('austen-emma.txt')) "
      ],
      "metadata": {
        "colab": {
          "base_uri": "https://localhost:8080/"
        },
        "id": "YFH1QdP5qyZK",
        "outputId": "baa9ec6e-4fc5-4069-b59c-fbef6ffff247"
      },
      "execution_count": null,
      "outputs": [
        {
          "output_type": "execute_result",
          "data": {
            "text/plain": [
              "7752"
            ]
          },
          "metadata": {},
          "execution_count": 6
        }
      ]
    },
    {
      "cell_type": "code",
      "source": [
        "# 구텐버그의 각 파일을 돌아가면서 글자 수, 단어 수, 문장 수를 출력합니다.\n",
        "\n",
        "for fileid in gutenberg.fileids():\n",
        "    raw = len(gutenberg.raw(fileid))\n",
        "    word = len(gutenberg.words(fileid))\n",
        "    sent = len(gutenberg.sents(fileid))\n",
        "    \n",
        "    print(f'{fileid[:-4]}의 글자수 = {raw}개, 단어 수 = {word}개, 문장 수 = {sent}개')"
      ],
      "metadata": {
        "colab": {
          "base_uri": "https://localhost:8080/"
        },
        "id": "byG-XCy7s4nk",
        "outputId": "4124672a-fd8f-4f69-a0dd-5504e16512c2"
      },
      "execution_count": null,
      "outputs": [
        {
          "output_type": "stream",
          "name": "stdout",
          "text": [
            "austen-emma의 글자수 = 887071개, 단어 수 = 192427개, 문장 수 = 7752개\n",
            "austen-persuasion의 글자수 = 466292개, 단어 수 = 98171개, 문장 수 = 3747개\n",
            "austen-sense의 글자수 = 673022개, 단어 수 = 141576개, 문장 수 = 4999개\n",
            "bible-kjv의 글자수 = 4332554개, 단어 수 = 1010654개, 문장 수 = 30103개\n",
            "blake-poems의 글자수 = 38153개, 단어 수 = 8354개, 문장 수 = 438개\n",
            "bryant-stories의 글자수 = 249439개, 단어 수 = 55563개, 문장 수 = 2863개\n",
            "burgess-busterbrown의 글자수 = 84663개, 단어 수 = 18963개, 문장 수 = 1054개\n",
            "carroll-alice의 글자수 = 144395개, 단어 수 = 34110개, 문장 수 = 1703개\n",
            "chesterton-ball의 글자수 = 457450개, 단어 수 = 96996개, 문장 수 = 4779개\n",
            "chesterton-brown의 글자수 = 406629개, 단어 수 = 86063개, 문장 수 = 3806개\n",
            "chesterton-thursday의 글자수 = 320525개, 단어 수 = 69213개, 문장 수 = 3742개\n",
            "edgeworth-parents의 글자수 = 935158개, 단어 수 = 210663개, 문장 수 = 10230개\n",
            "melville-moby_dick의 글자수 = 1242990개, 단어 수 = 260819개, 문장 수 = 10059개\n",
            "milton-paradise의 글자수 = 468220개, 단어 수 = 96825개, 문장 수 = 1851개\n",
            "shakespeare-caesar의 글자수 = 112310개, 단어 수 = 25833개, 문장 수 = 2163개\n",
            "shakespeare-hamlet의 글자수 = 162881개, 단어 수 = 37360개, 문장 수 = 3106개\n",
            "shakespeare-macbeth의 글자수 = 100351개, 단어 수 = 23140개, 문장 수 = 1907개\n",
            "whitman-leaves의 글자수 = 711215개, 단어 수 = 154883개, 문장 수 = 4250개\n"
          ]
        }
      ]
    },
    {
      "cell_type": "code",
      "source": [
        ""
      ],
      "metadata": {
        "id": "NpjoRQ-wti_p"
      },
      "execution_count": null,
      "outputs": []
    },
    {
      "cell_type": "code",
      "source": [
        "corpus1 = gutenberg.words(fileids='whitman-leaves.txt')\n",
        "fdist = nltk.FreqDist([w for w in corpus1]) #whitma_leaves에 나탄"
      ],
      "metadata": {
        "id": "-MJ6geoZq5MF"
      },
      "execution_count": null,
      "outputs": []
    },
    {
      "cell_type": "code",
      "source": [
        "fdist['tree']"
      ],
      "metadata": {
        "colab": {
          "base_uri": "https://localhost:8080/"
        },
        "id": "B9cr3tQ8q6h3",
        "outputId": "0f5d5e45-a67c-48bc-a6eb-d1f033f89a6d"
      },
      "execution_count": null,
      "outputs": [
        {
          "output_type": "execute_result",
          "data": {
            "text/plain": [
              "27"
            ]
          },
          "metadata": {},
          "execution_count": 33
        }
      ]
    },
    {
      "cell_type": "markdown",
      "source": [
        "### Brown\n",
        "- categories()"
      ],
      "metadata": {
        "id": "UBWK2gHHq7rT"
      }
    },
    {
      "cell_type": "code",
      "source": [
        "#from nltk.courpus import brown\n",
        "nltk.download('brown')\n",
        "brown_corpus = nltk.corpus.brown"
      ],
      "metadata": {
        "colab": {
          "base_uri": "https://localhost:8080/"
        },
        "id": "OW266jrCq9YK",
        "outputId": "88c6b58a-048a-4eb9-a9fe-504b1a8d4960"
      },
      "execution_count": null,
      "outputs": [
        {
          "output_type": "stream",
          "name": "stdout",
          "text": [
            "[nltk_data] Downloading package brown to /root/nltk_data...\n",
            "[nltk_data]   Unzipping corpora/brown.zip.\n"
          ]
        }
      ]
    },
    {
      "cell_type": "code",
      "source": [
        "brown_corpus.categories()"
      ],
      "metadata": {
        "colab": {
          "base_uri": "https://localhost:8080/"
        },
        "id": "cYyxdkxtq_PH",
        "outputId": "54539647-34e9-4098-8801-de1f3b504dc6"
      },
      "execution_count": null,
      "outputs": [
        {
          "output_type": "execute_result",
          "data": {
            "text/plain": [
              "['adventure',\n",
              " 'belles_lettres',\n",
              " 'editorial',\n",
              " 'fiction',\n",
              " 'government',\n",
              " 'hobbies',\n",
              " 'humor',\n",
              " 'learned',\n",
              " 'lore',\n",
              " 'mystery',\n",
              " 'news',\n",
              " 'religion',\n",
              " 'reviews',\n",
              " 'romance',\n",
              " 'science_fiction']"
            ]
          },
          "metadata": {},
          "execution_count": 12
        }
      ]
    },
    {
      "cell_type": "code",
      "source": [
        "humor = brown_corpus.words(categories='humor') # humor 카테고리에 담겨있는 내용을 humor에 담음"
      ],
      "metadata": {
        "id": "bEGWZGnPrAZH"
      },
      "execution_count": null,
      "outputs": []
    },
    {
      "cell_type": "code",
      "source": [
        "# modal verbs의 쓰임 \n",
        "modals = ['can', 'could', 'may', 'might', 'will', 'would']\n",
        "\n",
        "fdist_brown = nltk.FreqDist([w.lower() for w in humor]) #humor 카테고리 속 조동사 빈도 수 확인\n",
        "\n",
        "for verb in modals:\n",
        "    print(verb, fdist_brown[verb]) "
      ],
      "metadata": {
        "colab": {
          "base_uri": "https://localhost:8080/"
        },
        "id": "Rm718EBerBVk",
        "outputId": "44978172-65cc-48d9-f011-322896d0635a"
      },
      "execution_count": null,
      "outputs": [
        {
          "output_type": "stream",
          "name": "stdout",
          "text": [
            "can 17\n",
            "could 33\n",
            "may 8\n",
            "might 8\n",
            "will 13\n",
            "would 56\n"
          ]
        }
      ]
    },
    {
      "cell_type": "markdown",
      "source": [
        "#### conditional frequency distribution (CFD)\n",
        "- 조건이 붙은 fdist"
      ],
      "metadata": {
        "id": "_WGQb5Y2rGjm"
      }
    },
    {
      "cell_type": "code",
      "source": [
        "from nltk.corpus.reader import categorized_sents\n",
        "cfd = nltk.ConditionalFreqDist(\n",
        "    # genre에 따른 fdist\n",
        "    (genre, word.lower())\n",
        "    for genre in brown_corpus.categories()\n",
        "    for word in brown_corpus.words(categories=genre)\n",
        ")"
      ],
      "metadata": {
        "id": "ddp9Nb-RrHqR"
      },
      "execution_count": null,
      "outputs": []
    },
    {
      "cell_type": "code",
      "source": [
        "cfd['adventure'].most_common(10)"
      ],
      "metadata": {
        "colab": {
          "base_uri": "https://localhost:8080/"
        },
        "id": "3WV-iE0frKA_",
        "outputId": "4f54bad1-c657-4aea-e8ca-99cd64d899ed"
      },
      "execution_count": null,
      "outputs": [
        {
          "output_type": "execute_result",
          "data": {
            "text/plain": [
              "[('.', 4057),\n",
              " ('the', 3780),\n",
              " (',', 3488),\n",
              " ('and', 1706),\n",
              " ('a', 1432),\n",
              " ('of', 1327),\n",
              " ('to', 1322),\n",
              " ('he', 1283),\n",
              " ('``', 998),\n",
              " (\"''\", 995)]"
            ]
          },
          "metadata": {},
          "execution_count": 39
        }
      ]
    },
    {
      "cell_type": "code",
      "source": [
        "cfd.tabulate(conditions=brown_corpus.categories()[:3], samples=modals)"
      ],
      "metadata": {
        "colab": {
          "base_uri": "https://localhost:8080/"
        },
        "id": "_mPUahJGrLqA",
        "outputId": "09752e88-7366-41fc-b3ec-1120d70e0bbe"
      },
      "execution_count": null,
      "outputs": [
        {
          "output_type": "stream",
          "name": "stdout",
          "text": [
            "                 can could   may might  will would \n",
            "     adventure    48   154     7    59    51   194 \n",
            "belles_lettres   249   216   221   113   246   397 \n",
            "     editorial   124    57    79    39   235   185 \n"
          ]
        }
      ]
    }
  ]
}