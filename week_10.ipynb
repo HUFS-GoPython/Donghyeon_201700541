{
  "nbformat": 4,
  "nbformat_minor": 0,
  "metadata": {
    "colab": {
      "name": "week_10.ipynb",
      "provenance": [],
      "collapsed_sections": []
    },
    "kernelspec": {
      "name": "python3",
      "display_name": "Python 3"
    },
    "language_info": {
      "name": "python"
    }
  },
  "cells": [
    {
      "cell_type": "code",
      "execution_count": 4,
      "metadata": {
        "id": "Gc_zikN7Rzti"
      },
      "outputs": [],
      "source": [
        "from collections import defaultdict"
      ]
    },
    {
      "cell_type": "markdown",
      "source": [
        "#### defaultdict\n",
        "- 값이 없으면 0으로 설정될 수 있게 해주는 딕셔너리\n",
        "- defaultdict[list] #list"
      ],
      "metadata": {
        "id": "bqBveNU5kAOn"
      }
    },
    {
      "cell_type": "code",
      "source": [
        "letter = 'defaultdict'\n",
        "empty = {}\n",
        "for ch in letter:\n",
        "    #if empty[ch] = 0\n",
        "    # else 값을 넣어라\n",
        "    empty.setdefault(ch,0)\n",
        "    empty[ch] += 1"
      ],
      "metadata": {
        "id": "tQ83yAidaljK"
      },
      "execution_count": 6,
      "outputs": []
    },
    {
      "cell_type": "code",
      "source": [
        "empty"
      ],
      "metadata": {
        "colab": {
          "base_uri": "https://localhost:8080/"
        },
        "id": "1ndkxQuNatdr",
        "outputId": "dc7b408b-1dfd-49fd-9ad3-7df9e0552c72"
      },
      "execution_count": 7,
      "outputs": [
        {
          "output_type": "execute_result",
          "data": {
            "text/plain": [
              "{'a': 1, 'c': 1, 'd': 2, 'e': 1, 'f': 1, 'i': 1, 'l': 1, 't': 2, 'u': 1}"
            ]
          },
          "metadata": {},
          "execution_count": 7
        }
      ]
    },
    {
      "cell_type": "code",
      "source": [
        "empty2= defaultdict(int)\n",
        "for ch in letter:\n",
        "    empty2[ch] += 1\n",
        "\n",
        "empty2"
      ],
      "metadata": {
        "colab": {
          "base_uri": "https://localhost:8080/"
        },
        "id": "B0zzJy_-kSuc",
        "outputId": "c406bd5a-fea3-443a-dfd8-979a20bc3577"
      },
      "execution_count": 8,
      "outputs": [
        {
          "output_type": "execute_result",
          "data": {
            "text/plain": [
              "defaultdict(int,\n",
              "            {'a': 1,\n",
              "             'c': 1,\n",
              "             'd': 2,\n",
              "             'e': 1,\n",
              "             'f': 1,\n",
              "             'i': 1,\n",
              "             'l': 1,\n",
              "             't': 2,\n",
              "             'u': 1})"
            ]
          },
          "metadata": {},
          "execution_count": 8
        }
      ]
    },
    {
      "cell_type": "markdown",
      "source": [
        "#### object & class\n",
        "- 객체 실제적인 물건, 개념\n",
        "- 속성, 행동 가지는 개념\n",
        "- 자동차\n",
        "  - 속성: 엔진, 브랜드, 가격, 색상, 이름, ... => 변수\n",
        "  - 행동: 나가다, 정지하다, 좌회전, 우회전, ... => 메서드(함수)\n",
        "- 고양이\n",
        "  - 속성: 종, 이름, 컬러, 성별...\n",
        "  - 행동: 찾다, 뛰다, 걷다, 재려보다...\n",
        "- 사전\n",
        "  - 속성: 글자수, 시작 글자, 출현 빈도수\n",
        "  - 행동: 추가하다, 제외하다\n",
        "- 관련 찾는 방법\n",
        "  - 사람 상점 물건\n",
        "  - 이름, 돈 재고, 이익, 명단 브랜드, 이름, 가격\n",
        "  - 사다, 등록하다 회원등록, 팔다,\n",
        "- 객체 사용하는 이유: 코드 재사용 수월\n",
        "\n",
        "\n"
      ],
      "metadata": {
        "id": "N59LT9Ptls6Q"
      }
    },
    {
      "cell_type": "markdown",
      "source": [
        "#### 클래스\n",
        "- 객체가 가져야할 기본정도 담은 코드\n",
        "- 설계도, 돈, 프레임워크\n",
        "- 붕어빵의 틀\n",
        "- 붕어빵 == 인스턴스\n",
        "- class Car:\n",
        "  - 클래스명은 카멜표기법 쓴다"
      ],
      "metadata": {
        "id": "RPaJfscdmVAi"
      }
    },
    {
      "cell_type": "code",
      "source": [
        "class Car:\n",
        "    pass\n",
        "\n",
        "# 선언\n",
        "car1 = Car()\n",
        "car1\n",
        "     "
      ],
      "metadata": {
        "colab": {
          "base_uri": "https://localhost:8080/"
        },
        "id": "UBku5bU0lsot",
        "outputId": "8d561ea7-6004-4ae3-a300-11434b13709e"
      },
      "execution_count": 9,
      "outputs": [
        {
          "output_type": "execute_result",
          "data": {
            "text/plain": [
              "<__main__.Car at 0x7ffb15338b90>"
            ]
          },
          "metadata": {},
          "execution_count": 9
        }
      ]
    },
    {
      "cell_type": "code",
      "source": [
        "car2 = Car()\n",
        "car2"
      ],
      "metadata": {
        "colab": {
          "base_uri": "https://localhost:8080/"
        },
        "id": "pRZblao9mkWd",
        "outputId": "26498405-32b7-4100-fa9c-89d2f6e4ef2a"
      },
      "execution_count": 10,
      "outputs": [
        {
          "output_type": "execute_result",
          "data": {
            "text/plain": [
              "<__main__.Car at 0x7ffb152c2110>"
            ]
          },
          "metadata": {},
          "execution_count": 10
        }
      ]
    },
    {
      "cell_type": "code",
      "source": [
        "type(car2)"
      ],
      "metadata": {
        "colab": {
          "base_uri": "https://localhost:8080/"
        },
        "id": "UjkEU2RCmmQs",
        "outputId": "06e2b801-23cf-4968-810b-4905e94fe2a8"
      },
      "execution_count": 11,
      "outputs": [
        {
          "output_type": "execute_result",
          "data": {
            "text/plain": [
              "__main__.Car"
            ]
          },
          "metadata": {},
          "execution_count": 11
        }
      ]
    },
    {
      "cell_type": "code",
      "source": [
        "car1.brand = 'mercedes'\n",
        "car2.brand = 'kia'"
      ],
      "metadata": {
        "id": "8Aglduaymn7_"
      },
      "execution_count": 12,
      "outputs": []
    },
    {
      "cell_type": "code",
      "source": [
        "for car in [car1, car2]:\n",
        "    print(car.brand)"
      ],
      "metadata": {
        "colab": {
          "base_uri": "https://localhost:8080/"
        },
        "id": "UO8uCawZnfoL",
        "outputId": "e4d7bcf5-2ffb-4472-9fde-b79c147920d4"
      },
      "execution_count": 13,
      "outputs": [
        {
          "output_type": "stream",
          "name": "stdout",
          "text": [
            "mercedes\n",
            "kia\n"
          ]
        }
      ]
    },
    {
      "cell_type": "code",
      "source": [
        "class Car:\n",
        "    # 속성 정해줌\n",
        "    brand = 'mercedes'\n",
        "    \n",
        "car3= Car()"
      ],
      "metadata": {
        "id": "YHdNklP1neR2"
      },
      "execution_count": 14,
      "outputs": []
    },
    {
      "cell_type": "code",
      "source": [
        "car3.brand "
      ],
      "metadata": {
        "colab": {
          "base_uri": "https://localhost:8080/",
          "height": 35
        },
        "id": "6HWJ5U4enpBe",
        "outputId": "c63fc782-27cf-47f2-8b05-9dc00c39b714"
      },
      "execution_count": 15,
      "outputs": [
        {
          "output_type": "execute_result",
          "data": {
            "text/plain": [
              "'mercedes'"
            ],
            "application/vnd.google.colaboratory.intrinsic+json": {
              "type": "string"
            }
          },
          "metadata": {},
          "execution_count": 15
        }
      ]
    },
    {
      "cell_type": "code",
      "source": [
        "# 다양한 속성을 원한다.\n",
        "class Car:\n",
        "    def __init__(self, brand): # 속성을 초기화하는 함수, 안의 변수는 항상 'self' (self == my_car)\n",
        "        self.brand = brand # self == instance"
      ],
      "metadata": {
        "id": "DlFXbpvcoCmd"
      },
      "execution_count": 16,
      "outputs": []
    },
    {
      "cell_type": "code",
      "source": [
        "car4 = Car(brand = 'toyota')\n",
        "car4.brand"
      ],
      "metadata": {
        "colab": {
          "base_uri": "https://localhost:8080/",
          "height": 35
        },
        "id": "r3tucZRLoD9P",
        "outputId": "fc034493-ba78-43f9-cfaa-d0758d68d73a"
      },
      "execution_count": 17,
      "outputs": [
        {
          "output_type": "execute_result",
          "data": {
            "text/plain": [
              "'toyota'"
            ],
            "application/vnd.google.colaboratory.intrinsic+json": {
              "type": "string"
            }
          },
          "metadata": {},
          "execution_count": 17
        }
      ]
    },
    {
      "cell_type": "code",
      "source": [
        "# color, model 속성 초기화\n",
        "# 인스턴스만들기\n",
        "\n",
        "class Car:\n",
        "    def __init__(self, brand, model=None, color='skyblue'): #속성초기화 함수 (self == my_car)\n",
        "        self.brand = brand\n",
        "        #self.brand= 어떤 객체가 만들어지더라도 가져감\n",
        "        #brand = 객체 생성시 설정되는 브랜드명(처음 들어오는값)\n",
        "        self.model = model\n",
        "        self.color = color\n",
        "        #model 기본적으로는 값 안 받아도되게 설정\n",
        "\n",
        "    #액션 정의\n",
        "    def drive(self):\n",
        "        # 내 차(브랜드=())이 움직인다 \n",
        "        print(f' 내 차 {self.brand}가 움직인다')\n",
        "    def stop(self):\n",
        "        print('차가 멈춘다.')\n",
        "    def change_color(self, color):\n",
        "        # 'pink'로 바꾼다\n",
        "        self.color='pink'\n",
        "        self.color = color\n",
        "my_morning = Car('kia')\n",
        "#my_morning.change_color('blue')"
      ],
      "metadata": {
        "id": "E-ACTm0AoOy3"
      },
      "execution_count": 23,
      "outputs": []
    },
    {
      "cell_type": "code",
      "source": [
        "my_morning.color"
      ],
      "metadata": {
        "colab": {
          "base_uri": "https://localhost:8080/",
          "height": 35
        },
        "id": "oKRelFsWoP-u",
        "outputId": "2a5518d4-5316-4f0e-88ba-0644b162f361"
      },
      "execution_count": 24,
      "outputs": [
        {
          "output_type": "execute_result",
          "data": {
            "text/plain": [
              "'skyblue'"
            ],
            "application/vnd.google.colaboratory.intrinsic+json": {
              "type": "string"
            }
          },
          "metadata": {},
          "execution_count": 24
        }
      ]
    },
    {
      "cell_type": "code",
      "source": [
        "my_morning.drive()"
      ],
      "metadata": {
        "colab": {
          "base_uri": "https://localhost:8080/"
        },
        "id": "O_pKgossoRjq",
        "outputId": "7af4165a-0c8d-40b3-8090-7791dc21a97f"
      },
      "execution_count": 25,
      "outputs": [
        {
          "output_type": "stream",
          "name": "stdout",
          "text": [
            " 내 차 kia가 움직인다\n"
          ]
        }
      ]
    },
    {
      "cell_type": "markdown",
      "source": [
        "#### getter, setter\n",
        "- 캡슐화, 정보 은닉\n",
        "- 클래스 외부에서 변수 접근을 용이하지 못하게 하는 것\n",
        "- public -> private(java)"
      ],
      "metadata": {
        "id": "KaZFDvkZpcSP"
      }
    },
    {
      "cell_type": "code",
      "source": [
        "#1. 틀에서 변수를 바꾸는 것\n",
        "#2. 인스턴스에서 변수를 바꾸는 것"
      ],
      "metadata": {
        "id": "fUN6BBL-pmmZ"
      },
      "execution_count": null,
      "outputs": []
    },
    {
      "cell_type": "code",
      "source": [
        "class Fruit:\n",
        "    color = 'red'"
      ],
      "metadata": {
        "id": "1iA-0Vy9psXd"
      },
      "execution_count": 26,
      "outputs": []
    },
    {
      "cell_type": "code",
      "source": [
        "apple = Fruit()\n",
        "apple.color"
      ],
      "metadata": {
        "colab": {
          "base_uri": "https://localhost:8080/",
          "height": 35
        },
        "id": "iaoATawepsVE",
        "outputId": "09c514d2-7ca1-4001-fc5d-6985b6577b55"
      },
      "execution_count": 27,
      "outputs": [
        {
          "output_type": "execute_result",
          "data": {
            "text/plain": [
              "'red'"
            ],
            "application/vnd.google.colaboratory.intrinsic+json": {
              "type": "string"
            }
          },
          "metadata": {},
          "execution_count": 27
        }
      ]
    },
    {
      "cell_type": "code",
      "source": [
        "Fruit.color = 'purple'"
      ],
      "metadata": {
        "id": "DhXYZsAWpsSX"
      },
      "execution_count": 28,
      "outputs": []
    },
    {
      "cell_type": "code",
      "source": [
        "orange = Fruit()\n",
        "orange.color"
      ],
      "metadata": {
        "colab": {
          "base_uri": "https://localhost:8080/",
          "height": 35
        },
        "id": "ezacvCLzpsPJ",
        "outputId": "6a3212d1-296a-436b-f049-7737019dd114"
      },
      "execution_count": 29,
      "outputs": [
        {
          "output_type": "execute_result",
          "data": {
            "text/plain": [
              "'purple'"
            ],
            "application/vnd.google.colaboratory.intrinsic+json": {
              "type": "string"
            }
          },
          "metadata": {},
          "execution_count": 29
        }
      ]
    },
    {
      "cell_type": "code",
      "source": [
        "# 1.\n",
        "class Car:\n",
        "    def __init__ (self, input_brand):\n",
        "        self.brand = input_brand\n",
        "    \n",
        "    def get_brand(self):\n",
        "        # 원래 변수명에 접근하도록, getter.\n",
        "        print('from the getter')\n",
        "        return self.brand\n",
        "    def set_brand(self, input_brand):\n",
        "        # 변수명을 바꾸는 작업, setter.\n",
        "        print('from the setter')\n",
        "        self.brand = input_brand"
      ],
      "metadata": {
        "id": "4dYEb1dMpsIV"
      },
      "execution_count": 30,
      "outputs": []
    },
    {
      "cell_type": "code",
      "source": [
        "ex = Car('toyota')\n",
        "ex.brand\n"
      ],
      "metadata": {
        "colab": {
          "base_uri": "https://localhost:8080/",
          "height": 35
        },
        "id": "m8lmOVvvp5HF",
        "outputId": "16108f9a-e446-4419-bfa2-4e1b78ecf30f"
      },
      "execution_count": 31,
      "outputs": [
        {
          "output_type": "execute_result",
          "data": {
            "text/plain": [
              "'toyota'"
            ],
            "application/vnd.google.colaboratory.intrinsic+json": {
              "type": "string"
            }
          },
          "metadata": {},
          "execution_count": 31
        }
      ]
    },
    {
      "cell_type": "code",
      "source": [
        "ex.get_brand()"
      ],
      "metadata": {
        "colab": {
          "base_uri": "https://localhost:8080/",
          "height": 53
        },
        "id": "mqygaWXip6Gj",
        "outputId": "5b447d83-d3cd-4815-ceb9-6454dffc6a91"
      },
      "execution_count": 32,
      "outputs": [
        {
          "output_type": "stream",
          "name": "stdout",
          "text": [
            "from the getter\n"
          ]
        },
        {
          "output_type": "execute_result",
          "data": {
            "text/plain": [
              "'toyota'"
            ],
            "application/vnd.google.colaboratory.intrinsic+json": {
              "type": "string"
            }
          },
          "metadata": {},
          "execution_count": 32
        }
      ]
    },
    {
      "cell_type": "code",
      "source": [
        "ex.set_brand('mazuda')\n",
        "ex.brand"
      ],
      "metadata": {
        "colab": {
          "base_uri": "https://localhost:8080/",
          "height": 53
        },
        "id": "_P6qTPRnp7m8",
        "outputId": "91cd36a7-20ea-4b67-ea95-a73f97a91980"
      },
      "execution_count": 34,
      "outputs": [
        {
          "output_type": "stream",
          "name": "stdout",
          "text": [
            "from the setter\n"
          ]
        },
        {
          "output_type": "execute_result",
          "data": {
            "text/plain": [
              "'mazuda'"
            ],
            "application/vnd.google.colaboratory.intrinsic+json": {
              "type": "string"
            }
          },
          "metadata": {},
          "execution_count": 34
        }
      ]
    },
    {
      "cell_type": "code",
      "source": [
        "# 2.\n",
        "class Car:\n",
        "    def __init__(self, input_brand):\n",
        "        self.hidden_brand = input_brand\n",
        "    def get_brand(self):\n",
        "        return self.hidden_brand\n",
        "    \n",
        "    def set_brand(self, input_brand):\n",
        "        self.hidden_brand = input_brand\n",
        "    \n",
        "    brand = property(get_brand, set_brand)\n",
        "\n",
        "c = Car('kia')\n",
        "c.brand\n"
      ],
      "metadata": {
        "colab": {
          "base_uri": "https://localhost:8080/",
          "height": 35
        },
        "id": "47PrAOZ4qOtX",
        "outputId": "2231660d-8dd8-4386-cedb-c383f4200eb3"
      },
      "execution_count": 36,
      "outputs": [
        {
          "output_type": "execute_result",
          "data": {
            "text/plain": [
              "'kia'"
            ],
            "application/vnd.google.colaboratory.intrinsic+json": {
              "type": "string"
            }
          },
          "metadata": {},
          "execution_count": 36
        }
      ]
    },
    {
      "cell_type": "code",
      "source": [
        "# 3. decorator : @...\n",
        "class Car:\n",
        "    def __init__(self, input_brand):\n",
        "        self.hidden_brand = input_brand\n",
        "    @property\n",
        "    def brand(self):\n",
        "        return self.hidden_brand\n",
        "    @brand.setter\n",
        "    def brand(self, input_brand):\n",
        "        self.hidden_brand = input_brand\n",
        "\n",
        "c = Car('aa')\n",
        "c.brand\n",
        "'aa'"
      ],
      "metadata": {
        "colab": {
          "base_uri": "https://localhost:8080/",
          "height": 35
        },
        "id": "-3IyGxVJrrhJ",
        "outputId": "34df1aa8-6129-4e5c-ec1b-716fbe8bbc6e"
      },
      "execution_count": 40,
      "outputs": [
        {
          "output_type": "execute_result",
          "data": {
            "text/plain": [
              "'aa'"
            ],
            "application/vnd.google.colaboratory.intrinsic+json": {
              "type": "string"
            }
          },
          "metadata": {},
          "execution_count": 40
        }
      ]
    },
    {
      "cell_type": "code",
      "source": [
        "# 4. .__변수명 으로 보호 => 변수명으로 접근할 수 없음. \n",
        "class Car:\n",
        "    def __init__(self, input_brand):\n",
        "        self.__brand = input_brand\n",
        "    @property\n",
        "    def brand(self):\n",
        "        return self.__brand\n",
        "    @brand.setter\n",
        "    def brand(self, input_brand):\n",
        "        self.__brand = input_brand\n",
        "        \n",
        "c = Car('bb')\n",
        "c.__brand"
      ],
      "metadata": {
        "colab": {
          "base_uri": "https://localhost:8080/",
          "height": 209
        },
        "id": "KOEqHojdr9hN",
        "outputId": "3b612e5c-ea50-42cb-b3ec-94eded0b8c52"
      },
      "execution_count": 44,
      "outputs": [
        {
          "output_type": "error",
          "ename": "AttributeError",
          "evalue": "ignored",
          "traceback": [
            "\u001b[0;31m---------------------------------------------------------------------------\u001b[0m",
            "\u001b[0;31mAttributeError\u001b[0m                            Traceback (most recent call last)",
            "\u001b[0;32m<ipython-input-44-32158d0bcc78>\u001b[0m in \u001b[0;36m<module>\u001b[0;34m()\u001b[0m\n\u001b[1;32m     11\u001b[0m \u001b[0;34m\u001b[0m\u001b[0m\n\u001b[1;32m     12\u001b[0m \u001b[0mc\u001b[0m \u001b[0;34m=\u001b[0m \u001b[0mCar\u001b[0m\u001b[0;34m(\u001b[0m\u001b[0;34m'bb'\u001b[0m\u001b[0;34m)\u001b[0m\u001b[0;34m\u001b[0m\u001b[0;34m\u001b[0m\u001b[0m\n\u001b[0;32m---> 13\u001b[0;31m \u001b[0mc\u001b[0m\u001b[0;34m.\u001b[0m\u001b[0m__brand\u001b[0m\u001b[0;34m\u001b[0m\u001b[0;34m\u001b[0m\u001b[0m\n\u001b[0m",
            "\u001b[0;31mAttributeError\u001b[0m: 'Car' object has no attribute '__brand'"
          ]
        }
      ]
    },
    {
      "cell_type": "code",
      "source": [
        "class Circle:\n",
        "    def __init__(self, radius):\n",
        "        self.radius = radius\n",
        "        \n",
        "    @property\n",
        "    def diameter(self):\n",
        "        return self.radius * 2\n",
        "    \n",
        "c = Circle(7)\n",
        "c.diameter"
      ],
      "metadata": {
        "colab": {
          "base_uri": "https://localhost:8080/"
        },
        "id": "tgVYEnT1sIoW",
        "outputId": "3ef4847e-ce37-472e-ca37-53c46668c477"
      },
      "execution_count": 43,
      "outputs": [
        {
          "output_type": "execute_result",
          "data": {
            "text/plain": [
              "14"
            ]
          },
          "metadata": {},
          "execution_count": 43
        }
      ]
    },
    {
      "cell_type": "markdown",
      "source": [
        "#### 실습\n",
        "- 객체: 메모장(노트), 메모\n",
        "- 변수: 제목, 페이지번호, 메모 글귀\n",
        "- 메서드: 추가, 삭제, 페이지번호 쓰기, 지우기\n",
        "\n",
        "- getter, setter 메모장 제목에 설정하기\n",
        "\n",
        "- '메모' 객체에 글귀를 추갛나다\n",
        "- '메모장' 객체에 메모 추가\n",
        "- 페이지번호가 늘어난다.\n",
        "- 메모를 삭제하면 페이지번호가 줄어들고\n",
        "- 페이지가 300을 넘으면 메모 추가 못하게\n",
        "- 페이지번호로 메모 찾기"
      ],
      "metadata": {
        "id": "dzYvHBcqqeCi"
      }
    },
    {
      "cell_type": "code",
      "source": [
        "class Notebook:\n",
        "    def add_note():\n",
        "        pass # 제목, 페이지번호, 메모 *** == Note (예)\n",
        "    \n",
        "    def add_note():\n",
        "        pass\n",
        "    \n",
        "    def get_page_num():\n",
        "        pass\n",
        "\n",
        "class Note:\n",
        "    def __init__(self):\n",
        "        pass # 글귀\n",
        "    \n",
        "    def write():\n",
        "        pass\n",
        "    \n",
        "    def erase():\n",
        "        pass"
      ],
      "metadata": {
        "id": "5H82WOVgqsjs"
      },
      "execution_count": 45,
      "outputs": []
    },
    {
      "cell_type": "code",
      "source": [
        "memo1 = '꿈을 이루고자 하는 용기만 있다면 모든 꿈을 이룰 수 있다.'\n",
        "memo2 = '웃음이 없는 하루는 버린 하루다.'\n",
        "memo3 = '승리는 가장 끈기 있는 사람에게 돌아간다.'\n",
        "\n",
        "note1 = Note(memo1)\n",
        "note2 = Note(memo2)\n",
        "note3 = Note(memo3)\n",
        "\n",
        "# 죄송합니다.. 잘 모르겠습니다.."
      ],
      "metadata": {
        "id": "Wcch8paeqt8f"
      },
      "execution_count": null,
      "outputs": []
    }
  ]
}