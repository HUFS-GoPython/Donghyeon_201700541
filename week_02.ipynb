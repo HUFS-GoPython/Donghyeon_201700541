{
  "nbformat": 4,
  "nbformat_minor": 0,
  "metadata": {
    "colab": {
      "name": "weeo_02.ipynb",
      "provenance": [],
      "collapsed_sections": []
    },
    "kernelspec": {
      "name": "python3",
      "display_name": "Python 3"
    },
    "language_info": {
      "name": "python"
    }
  },
  "cells": [
    {
      "cell_type": "markdown",
      "source": [
        "## Week_02\n",
        "### chapter2 Variables\n",
        "\n",
        " - int, str, float, bool\n"
      ],
      "metadata": {
        "id": "6kdkV5Rh8-Bs"
      }
    },
    {
      "cell_type": "code",
      "execution_count": 56,
      "metadata": {
        "colab": {
          "base_uri": "https://localhost:8080/"
        },
        "id": "QYypcq8D86ch",
        "outputId": "3aa174f1-a881-4054-9e3c-b9c10aa744f3"
      },
      "outputs": [
        {
          "output_type": "execute_result",
          "data": {
            "text/plain": [
              "int"
            ]
          },
          "metadata": {},
          "execution_count": 56
        }
      ],
      "source": [
        "a=10\n",
        "type(a)"
      ]
    },
    {
      "cell_type": "code",
      "source": [
        "# int -> str\n",
        "str(a)"
      ],
      "metadata": {
        "colab": {
          "base_uri": "https://localhost:8080/",
          "height": 35
        },
        "id": "HDwmMBUv-JX8",
        "outputId": "7c26de87-4bb9-4092-c9bc-dafd3dd15ecf"
      },
      "execution_count": 57,
      "outputs": [
        {
          "output_type": "execute_result",
          "data": {
            "text/plain": [
              "'10'"
            ],
            "application/vnd.google.colaboratory.intrinsic+json": {
              "type": "string"
            }
          },
          "metadata": {},
          "execution_count": 57
        }
      ]
    },
    {
      "cell_type": "code",
      "source": [
        "# int -> float\n",
        "float(a)"
      ],
      "metadata": {
        "colab": {
          "base_uri": "https://localhost:8080/"
        },
        "id": "R3NE7aO8-SIX",
        "outputId": "89c9ffc6-4254-4268-9789-681a571254df"
      },
      "execution_count": 58,
      "outputs": [
        {
          "output_type": "execute_result",
          "data": {
            "text/plain": [
              "10.0"
            ]
          },
          "metadata": {},
          "execution_count": 58
        }
      ]
    },
    {
      "cell_type": "code",
      "source": [
        "# int -> bool\n",
        "bool(10)"
      ],
      "metadata": {
        "colab": {
          "base_uri": "https://localhost:8080/"
        },
        "id": "RqKZp74k-S9u",
        "outputId": "d880d80d-b751-47e7-f363-a980b6395ca8"
      },
      "execution_count": 59,
      "outputs": [
        {
          "output_type": "execute_result",
          "data": {
            "text/plain": [
              "True"
            ]
          },
          "metadata": {},
          "execution_count": 59
        }
      ]
    },
    {
      "cell_type": "code",
      "source": [
        "# float -> int : 10.6 => 정수형 변환 시 소수점 이하 값 버린다.\n",
        "int (10.9)"
      ],
      "metadata": {
        "colab": {
          "base_uri": "https://localhost:8080/"
        },
        "id": "oIp7yo1c-W-r",
        "outputId": "2a76657c-f26a-46b0-9b84-4f398b485177"
      },
      "execution_count": 60,
      "outputs": [
        {
          "output_type": "execute_result",
          "data": {
            "text/plain": [
              "10"
            ]
          },
          "metadata": {},
          "execution_count": 60
        }
      ]
    },
    {
      "cell_type": "code",
      "source": [
        "x = 4.6\n",
        "y = 7.9\n",
        "\n",
        "print(int(x+y)) #11.xx\n",
        "print(int(x)+int(y)) # 4+7"
      ],
      "metadata": {
        "colab": {
          "base_uri": "https://localhost:8080/"
        },
        "id": "QU4_sbye-lXy",
        "outputId": "2633d742-1147-43c2-fed1-1e2bcf248214"
      },
      "execution_count": 61,
      "outputs": [
        {
          "output_type": "stream",
          "name": "stdout",
          "text": [
            "12\n",
            "11\n"
          ]
        }
      ]
    },
    {
      "cell_type": "code",
      "source": [
        "# str -> int\n",
        "p = '88.3'\n",
        "int(p)"
      ],
      "metadata": {
        "colab": {
          "base_uri": "https://localhost:8080/",
          "height": 209
        },
        "id": "NCsQHKH2-mHb",
        "outputId": "3209f08a-7246-42b6-c807-2f52eaa4c302"
      },
      "execution_count": 66,
      "outputs": [
        {
          "output_type": "error",
          "ename": "ValueError",
          "evalue": "ignored",
          "traceback": [
            "\u001b[0;31m---------------------------------------------------------------------------\u001b[0m",
            "\u001b[0;31mValueError\u001b[0m                                Traceback (most recent call last)",
            "\u001b[0;32m<ipython-input-66-dee33d94dcf3>\u001b[0m in \u001b[0;36m<module>\u001b[0;34m()\u001b[0m\n\u001b[1;32m      1\u001b[0m \u001b[0;31m# str -> int\u001b[0m\u001b[0;34m\u001b[0m\u001b[0;34m\u001b[0m\u001b[0;34m\u001b[0m\u001b[0m\n\u001b[1;32m      2\u001b[0m \u001b[0mp\u001b[0m \u001b[0;34m=\u001b[0m \u001b[0;34m'88.3'\u001b[0m\u001b[0;34m\u001b[0m\u001b[0;34m\u001b[0m\u001b[0m\n\u001b[0;32m----> 3\u001b[0;31m \u001b[0mint\u001b[0m\u001b[0;34m(\u001b[0m\u001b[0mp\u001b[0m\u001b[0;34m)\u001b[0m\u001b[0;34m\u001b[0m\u001b[0;34m\u001b[0m\u001b[0m\n\u001b[0m",
            "\u001b[0;31mValueError\u001b[0m: invalid literal for int() with base 10: '88.3'"
          ]
        }
      ]
    },
    {
      "cell_type": "code",
      "source": [
        "# str -> int\n",
        "p = '88.3'\n",
        "#int(p)로 할 경우 타입이 맞지 않아 오류가 나므로 타입에 맞춰 변형해야 함\n",
        "float(p)"
      ],
      "metadata": {
        "colab": {
          "base_uri": "https://localhost:8080/"
        },
        "id": "uLcUHo_--vmT",
        "outputId": "0fc076cf-527c-4793-b10b-a5696a83e039"
      },
      "execution_count": 67,
      "outputs": [
        {
          "output_type": "execute_result",
          "data": {
            "text/plain": [
              "88.3"
            ]
          },
          "metadata": {},
          "execution_count": 67
        }
      ]
    },
    {
      "cell_type": "markdown",
      "source": [
        "프린트의 기능"
      ],
      "metadata": {
        "id": "VvfTPUOQ_QIr"
      }
    },
    {
      "cell_type": "code",
      "source": [
        "print('orange', 'apple', 'tomato') # default : 띄어쓰기, 줄바꾸기\n",
        "print(\"the next line\")"
      ],
      "metadata": {
        "colab": {
          "base_uri": "https://localhost:8080/"
        },
        "id": "WRWkdkuP-vc7",
        "outputId": "7860ddfd-0247-42f9-c3c7-a6f1925b6a04"
      },
      "execution_count": 68,
      "outputs": [
        {
          "output_type": "stream",
          "name": "stdout",
          "text": [
            "orange apple tomato\n",
            "the next line\n"
          ]
        }
      ]
    },
    {
      "cell_type": "code",
      "source": [
        "orange = 'orange'\n",
        "apple = 'apple'\n",
        "tomato = 'tomato'\n",
        "\n",
        "#1.\n",
        "print(orange + apple + tomato) # + 연결 가능하지만 원소들간의 공백 사라짐\n",
        "print(orange, apple, tomato, sep=' ', end='\\n') # default\n",
        "print(orange, apple, tomato, sep='/', end='\\n\\n')# 빈공간에 / 삽입, # 줄 두 번 바꿈\n",
        "print('EOL')"
      ],
      "metadata": {
        "colab": {
          "base_uri": "https://localhost:8080/"
        },
        "id": "0DKP2NO7_WTT",
        "outputId": "3c9d8c48-4d0a-4240-b996-f1536a78cc23"
      },
      "execution_count": 69,
      "outputs": [
        {
          "output_type": "stream",
          "name": "stdout",
          "text": [
            "orangeappletomato\n",
            "orange apple tomato\n",
            "orange/apple/tomato\n",
            "\n",
            "EOL\n"
          ]
        }
      ]
    },
    {
      "cell_type": "code",
      "source": [
        "# 라인이 짧을 때 ; 사용하여 한 줄로 만들 수 있음\n",
        "\n",
        "orange = 'orange' ; apple = 'apple'; tomato = 'tomato'"
      ],
      "metadata": {
        "id": "D1LUT9SIArmg"
      },
      "execution_count": 70,
      "outputs": []
    },
    {
      "cell_type": "markdown",
      "source": [
        "### intput()\n",
        "- console에서 사용자에게 값을 입력 받는 함수\n",
        "- 입출력 관련된\n",
        "- 입력 받는 값의 타일은 문자열(str)\n",
        "- 입력 받은 값을 변수에 담아서 사용한다"
      ],
      "metadata": {
        "id": "TtclX_peBkQQ"
      }
    },
    {
      "cell_type": "code",
      "source": [
        "input(\"What's your name?\")"
      ],
      "metadata": {
        "colab": {
          "base_uri": "https://localhost:8080/",
          "height": 54
        },
        "id": "XA8J5ablArho",
        "outputId": "a6e9b35a-295f-47e5-d39a-d78250b3d6a6"
      },
      "execution_count": 71,
      "outputs": [
        {
          "name": "stdout",
          "output_type": "stream",
          "text": [
            "What's your name?kim\n"
          ]
        },
        {
          "output_type": "execute_result",
          "data": {
            "text/plain": [
              "'kim'"
            ],
            "application/vnd.google.colaboratory.intrinsic+json": {
              "type": "string"
            }
          },
          "metadata": {},
          "execution_count": 71
        }
      ]
    },
    {
      "cell_type": "code",
      "source": [
        "#1.바로 input\n",
        "name = input(\"What's your name?\")"
      ],
      "metadata": {
        "colab": {
          "base_uri": "https://localhost:8080/"
        },
        "id": "WMLn934NBq-7",
        "outputId": "d3b2dd38-b316-48d3-c865-8e7d2470b0c2"
      },
      "execution_count": 72,
      "outputs": [
        {
          "name": "stdout",
          "output_type": "stream",
          "text": [
            "What's your name?dong\n"
          ]
        }
      ]
    },
    {
      "cell_type": "code",
      "source": [
        "name"
      ],
      "metadata": {
        "colab": {
          "base_uri": "https://localhost:8080/",
          "height": 35
        },
        "id": "oxane8JyCbnU",
        "outputId": "0d8d8b77-7f3c-4c8b-cb4f-5279eaf5e097"
      },
      "execution_count": 73,
      "outputs": [
        {
          "output_type": "execute_result",
          "data": {
            "text/plain": [
              "'dong'"
            ],
            "application/vnd.google.colaboratory.intrinsic+json": {
              "type": "string"
            }
          },
          "metadata": {},
          "execution_count": 73
        }
      ]
    },
    {
      "cell_type": "code",
      "source": [
        "#2.print 후 input\n",
        "print (\"What's your name?\")\n",
        "name = input()"
      ],
      "metadata": {
        "colab": {
          "base_uri": "https://localhost:8080/"
        },
        "id": "zE5vjPTrBmx2",
        "outputId": "4be6551f-3e5f-4a86-f090-c1e7e17fad03"
      },
      "execution_count": 74,
      "outputs": [
        {
          "name": "stdout",
          "output_type": "stream",
          "text": [
            "What's your name?\n",
            "hyeon\n"
          ]
        }
      ]
    },
    {
      "cell_type": "code",
      "source": [
        "name"
      ],
      "metadata": {
        "colab": {
          "base_uri": "https://localhost:8080/",
          "height": 35
        },
        "id": "_hVl7KrPArfw",
        "outputId": "2508cd15-9061-4649-9e98-0424799d2731"
      },
      "execution_count": 75,
      "outputs": [
        {
          "output_type": "execute_result",
          "data": {
            "text/plain": [
              "'hyeon'"
            ],
            "application/vnd.google.colaboratory.intrinsic+json": {
              "type": "string"
            }
          },
          "metadata": {},
          "execution_count": 75
        }
      ]
    },
    {
      "cell_type": "markdown",
      "source": [
        "input을 str이 아닌 다른 타입으로 사용하고 싶을 때에는 형 변환을 미리 해준다."
      ],
      "metadata": {
        "id": "Ic6x7rbUDGSW"
      }
    },
    {
      "cell_type": "code",
      "source": [
        "age = input(\"How old are you?\")"
      ],
      "metadata": {
        "colab": {
          "base_uri": "https://localhost:8080/"
        },
        "id": "pexqj6vxArdR",
        "outputId": "c38b42b7-dfde-428d-b129-7467fd633008"
      },
      "execution_count": 76,
      "outputs": [
        {
          "name": "stdout",
          "output_type": "stream",
          "text": [
            "How old are you?20\n"
          ]
        }
      ]
    },
    {
      "cell_type": "code",
      "source": [
        "type(age)"
      ],
      "metadata": {
        "colab": {
          "base_uri": "https://localhost:8080/"
        },
        "id": "a5qK9wEAArbC",
        "outputId": "c236cc50-b58b-4eba-ba18-a49e894e4f72"
      },
      "execution_count": 77,
      "outputs": [
        {
          "output_type": "execute_result",
          "data": {
            "text/plain": [
              "str"
            ]
          },
          "metadata": {},
          "execution_count": 77
        }
      ]
    },
    {
      "cell_type": "code",
      "source": [
        "age -1 # str 타입이라 연산이 안 됨"
      ],
      "metadata": {
        "colab": {
          "base_uri": "https://localhost:8080/",
          "height": 172
        },
        "id": "i5DX_4-yArYM",
        "outputId": "6f36fe7d-52dd-4fd7-aa9c-faef20811e1b"
      },
      "execution_count": 78,
      "outputs": [
        {
          "output_type": "error",
          "ename": "TypeError",
          "evalue": "ignored",
          "traceback": [
            "\u001b[0;31m---------------------------------------------------------------------------\u001b[0m",
            "\u001b[0;31mTypeError\u001b[0m                                 Traceback (most recent call last)",
            "\u001b[0;32m<ipython-input-78-8fb695f775f7>\u001b[0m in \u001b[0;36m<module>\u001b[0;34m()\u001b[0m\n\u001b[0;32m----> 1\u001b[0;31m \u001b[0mage\u001b[0m \u001b[0;34m-\u001b[0m\u001b[0;36m1\u001b[0m \u001b[0;31m# str 타입이라 연산이 안 됨\u001b[0m\u001b[0;34m\u001b[0m\u001b[0;34m\u001b[0m\u001b[0m\n\u001b[0m",
            "\u001b[0;31mTypeError\u001b[0m: unsupported operand type(s) for -: 'str' and 'int'"
          ]
        }
      ]
    },
    {
      "cell_type": "code",
      "source": [
        "age = int(input(\"How old are you?\"))"
      ],
      "metadata": {
        "colab": {
          "base_uri": "https://localhost:8080/"
        },
        "id": "uj18OIiWArVD",
        "outputId": "ea07c0e4-807d-42d0-ad4b-a1eaf38b4448"
      },
      "execution_count": 79,
      "outputs": [
        {
          "name": "stdout",
          "output_type": "stream",
          "text": [
            "How old are you?20\n"
          ]
        }
      ]
    },
    {
      "cell_type": "code",
      "source": [
        "age -1 # int 형 변환 후 연산이 가능해짐"
      ],
      "metadata": {
        "colab": {
          "base_uri": "https://localhost:8080/"
        },
        "id": "iy5QRcCPD8De",
        "outputId": "94525e29-6627-4238-c464-eba5181cfba7"
      },
      "execution_count": 80,
      "outputs": [
        {
          "output_type": "execute_result",
          "data": {
            "text/plain": [
              "19"
            ]
          },
          "metadata": {},
          "execution_count": 80
        }
      ]
    },
    {
      "cell_type": "markdown",
      "source": [
        "print "
      ],
      "metadata": {
        "id": "1YLNDBLVEOcQ"
      }
    },
    {
      "cell_type": "code",
      "source": [
        "#1.\n",
        "print('당신이 태어난 해는', 2022 - age +1) "
      ],
      "metadata": {
        "colab": {
          "base_uri": "https://localhost:8080/"
        },
        "id": "5Fz3ZprVD74O",
        "outputId": "4a3be286-6dc7-4c45-a986-b3a40301e6cc"
      },
      "execution_count": 81,
      "outputs": [
        {
          "output_type": "stream",
          "name": "stdout",
          "text": [
            "당신이 태어난 해는 2003\n"
          ]
        }
      ]
    },
    {
      "cell_type": "code",
      "source": [
        "#2.\n",
        "print(f'당신이 태어난 해는 {2022 - age +1}년입니다!') # print (f'{<variables>}')\n",
        "#1의 방식으로는  년입니다 를 넣으려면 '년입니다' 를 한 번 더 넣어야 함\n",
        "print('당신이 태어난 해는', 2022 - age +1,'년입니다') # 공백 생김"
      ],
      "metadata": {
        "colab": {
          "base_uri": "https://localhost:8080/"
        },
        "id": "7MlYQUP8EUwg",
        "outputId": "26f8fe2d-b8cb-4939-a559-17f24e245707"
      },
      "execution_count": 82,
      "outputs": [
        {
          "output_type": "stream",
          "name": "stdout",
          "text": [
            "당신이 태어난 해는 2003년입니다!\n",
            "당신이 태어난 해는 2003 년입니다\n"
          ]
        }
      ]
    },
    {
      "cell_type": "markdown",
      "source": [
        "### Quiz 1\n",
        "  - 택배 정보를 입력 받고 무게에 따른 값 산정하기\n",
        "  - 수취인 성명:\n",
        "  - 수취인 주소:\n",
        "  - 배송비 : 3000원\n",
        "  - 물건 비용 : <계산된 값>원\n",
        "  - 총 합계 : <게산된 값>원\n",
        "-물건 비용은 무게 (g)*5\n",
        "-입력 값 = 이름, 주소, 무게"
      ],
      "metadata": {
        "id": "nA8n5K2nGBJT"
      }
    },
    {
      "cell_type": "code",
      "source": [
        "name = input(\"수취인 성명: \")\n",
        "adress = input(\"수취인 주소: \")\n",
        "fee = 3000\n",
        "weight = float(input(\"물건 무게(g): \"))\n",
        "product_fee = weight*5\n",
        "total_fee = product_fee + fee"
      ],
      "metadata": {
        "colab": {
          "base_uri": "https://localhost:8080/"
        },
        "id": "FJoRw39FEUuf",
        "outputId": "6a193e50-0d67-41a4-e4e0-de165d2d992b"
      },
      "execution_count": 64,
      "outputs": [
        {
          "name": "stdout",
          "output_type": "stream",
          "text": [
            "수취인 성명: 김\n",
            "수취인 주소: 이문\n",
            "물건 무게(g): 50.5\n"
          ]
        }
      ]
    },
    {
      "cell_type": "code",
      "source": [
        "print(f'수취인 성명: {name}')\n",
        "print(f'수취인 주소: {adress}')\n",
        "print(f'배송비 : {fee}')\n",
        "print(f'물건 비용 : {product_fee}원')\n",
        "print(f'총 합계 : {total_fee}원')\n"
      ],
      "metadata": {
        "colab": {
          "base_uri": "https://localhost:8080/"
        },
        "id": "SlnGP8deHCeG",
        "outputId": "b2bd6b68-69b0-488a-ab0f-e5d7467ac600"
      },
      "execution_count": 65,
      "outputs": [
        {
          "output_type": "stream",
          "name": "stdout",
          "text": [
            "수취인 성명: 김\n",
            "수취인 주소: 이문\n",
            "배송비 : 3000\n",
            "물건 비용 : 252.5원\n",
            "총 합계 : 3252.5원\n"
          ]
        }
      ]
    },
    {
      "cell_type": "markdown",
      "source": [
        "## Chapter2 Number\n",
        "### boolean\n",
        "- True / False\n",
        "- False인 값\n",
        "- IF문(조건식):만약 어떤 값이 True라면..."
      ],
      "metadata": {
        "id": "aLnzvg-GMtLU"
      }
    },
    {
      "cell_type": "code",
      "source": [
        "bool(0)"
      ],
      "metadata": {
        "colab": {
          "base_uri": "https://localhost:8080/"
        },
        "id": "raSFR7C0JzPu",
        "outputId": "885e7fb0-b1f8-4fbb-8329-b65c71cd0c9c"
      },
      "execution_count": 83,
      "outputs": [
        {
          "output_type": "execute_result",
          "data": {
            "text/plain": [
              "False"
            ]
          },
          "metadata": {},
          "execution_count": 83
        }
      ]
    },
    {
      "cell_type": "code",
      "source": [
        "bool(1)"
      ],
      "metadata": {
        "colab": {
          "base_uri": "https://localhost:8080/"
        },
        "id": "atk6lJQ6JzNb",
        "outputId": "a8d4dfdd-7f66-4871-997f-9d0e51bd6735"
      },
      "execution_count": 84,
      "outputs": [
        {
          "output_type": "execute_result",
          "data": {
            "text/plain": [
              "True"
            ]
          },
          "metadata": {},
          "execution_count": 84
        }
      ]
    },
    {
      "cell_type": "code",
      "source": [
        "bool('')"
      ],
      "metadata": {
        "colab": {
          "base_uri": "https://localhost:8080/"
        },
        "id": "KkRSGfC8JzLF",
        "outputId": "8c9783e9-86fc-4690-ec9c-c7ee772d36e3"
      },
      "execution_count": 86,
      "outputs": [
        {
          "output_type": "execute_result",
          "data": {
            "text/plain": [
              "False"
            ]
          },
          "metadata": {},
          "execution_count": 86
        }
      ]
    },
    {
      "cell_type": "markdown",
      "source": [
        "### Integer\n",
        "- 분수나 소수가 아닌 정수\n",
        "- 음수는 '-' 기호를 붙인다 : i, e., -50\n",
        "- default = 양수\n",
        "- 숫자 앞에는 0을 쓰지 못한다. i,e., 09\n",
        "  - 0bxx (10진수가 아닌 수)\n",
        "- 숫자 사이에 쉼표를 쓰면 오류 : 100,000 (x) -> 100_000\n",
        "  ==> 숫자 사이의 언더바는 인식하지 않는다는 의미"
      ],
      "metadata": {
        "id": "dyWggCt3N0kt"
      }
    },
    {
      "cell_type": "code",
      "source": [
        "a = -50\n",
        "b = 49\n",
        "a / b"
      ],
      "metadata": {
        "colab": {
          "base_uri": "https://localhost:8080/"
        },
        "id": "w4w8IYtHOl_K",
        "outputId": "8ad498e7-c1b5-4fc8-fc58-d9b32a2f798c"
      },
      "execution_count": 87,
      "outputs": [
        {
          "output_type": "execute_result",
          "data": {
            "text/plain": [
              "-1.0204081632653061"
            ]
          },
          "metadata": {},
          "execution_count": 87
        }
      ]
    },
    {
      "cell_type": "markdown",
      "source": [
        "### 연산자|operator\n",
        "- +, -, *, /\n",
        "- 피연산자|operand : 1,2,...\n",
        "- 수식|expression"
      ],
      "metadata": {
        "id": "-_z-JBurOqJm"
      }
    },
    {
      "cell_type": "markdown",
      "source": [
        "####연산\n",
        "- x + y\n",
        "- x - y\n",
        "- x * y\n",
        "- x / y\n",
        "- x ** y  거듭제곱|exponetial\n",
        "\n",
        "####나눗셈  주의 사항\n",
        "- division by zero 항시 유의\n",
        "\n",
        "- x / y   결과물\n",
        "- x // y   몫\n",
        "- x % y   나머지"
      ],
      "metadata": {
        "id": "DFaI6Wk7O84q"
      }
    },
    {
      "cell_type": "code",
      "source": [
        "# division by zero 항시 유의"
      ],
      "metadata": {
        "id": "EJyIxYzlO8l8"
      },
      "execution_count": null,
      "outputs": []
    },
    {
      "cell_type": "code",
      "source": [
        "x=9\n",
        "y=2\n",
        "divmod(x, y) # (몫, 나머지)"
      ],
      "metadata": {
        "colab": {
          "base_uri": "https://localhost:8080/"
        },
        "id": "zSoU9n2WO1pw",
        "outputId": "80faf0bd-c199-417f-8067-77d97ec03e7a"
      },
      "execution_count": 89,
      "outputs": [
        {
          "output_type": "execute_result",
          "data": {
            "text/plain": [
              "(4, 1)"
            ]
          },
          "metadata": {},
          "execution_count": 89
        }
      ]
    },
    {
      "cell_type": "markdown",
      "source": [
        "#### 복합 대입 연산자 |compound assignment operator"
      ],
      "metadata": {
        "id": "7aTCAc6tQS9y"
      }
    },
    {
      "cell_type": "code",
      "source": [
        "x = 5\n",
        "x - 3\n",
        "print (x) # x - 3을 해도 x 는 변하지 않음\n"
      ],
      "metadata": {
        "colab": {
          "base_uri": "https://localhost:8080/"
        },
        "id": "kpdu2JhOQZpu",
        "outputId": "b302f04f-d82a-4fcc-88fd-b5311e621dcf"
      },
      "execution_count": 90,
      "outputs": [
        {
          "output_type": "stream",
          "name": "stdout",
          "text": [
            "5\n"
          ]
        }
      ]
    },
    {
      "cell_type": "code",
      "source": [
        "x= x - 3\n",
        "print(x)\n",
        "\n",
        "#1. x -3 계산\n",
        "#2. temp = x - 3(임시변수에 담는다)\n",
        "#3. x= temp\n",
        "\n",
        "## 세 과정을 거침"
      ],
      "metadata": {
        "colab": {
          "base_uri": "https://localhost:8080/"
        },
        "id": "dMZPFTAjOmbr",
        "outputId": "6518fd74-564e-411b-aeda-dd0d85adda49"
      },
      "execution_count": 91,
      "outputs": [
        {
          "output_type": "stream",
          "name": "stdout",
          "text": [
            "2\n"
          ]
        }
      ]
    },
    {
      "cell_type": "code",
      "source": [
        "x -=3\n",
        "print(x) # 기존의 x 값 2 ->  2 - 3"
      ],
      "metadata": {
        "colab": {
          "base_uri": "https://localhost:8080/"
        },
        "id": "yp-vRmbQQo6b",
        "outputId": "1142ebcc-1bf5-489e-f73c-2d871574c736"
      },
      "execution_count": 92,
      "outputs": [
        {
          "output_type": "stream",
          "name": "stdout",
          "text": [
            "-1\n"
          ]
        }
      ]
    },
    {
      "cell_type": "code",
      "source": [
        "x += 3\n",
        "x -= 3\n",
        "x *= 3\n",
        "x /= 3 "
      ],
      "metadata": {
        "id": "h94Gjm0KOmY8"
      },
      "execution_count": 94,
      "outputs": []
    },
    {
      "cell_type": "markdown",
      "source": [
        "### Quiz 1.\n",
        "- 반지름을 입력 받아서 언의 면적을 구하기\n",
        "- 면적 = pi * r제곱"
      ],
      "metadata": {
        "id": "ZQLKh8wvQ3BE"
      }
    },
    {
      "cell_type": "code",
      "source": [
        "r = float(input ('원의 반지름 : '))\n",
        "pi = 3.14\n",
        "print(f'면적 : {pi * r**2}')\n"
      ],
      "metadata": {
        "colab": {
          "base_uri": "https://localhost:8080/"
        },
        "id": "N0VcW7P9OmWA",
        "outputId": "9e908e2b-28fe-44ef-ab80-f023dec1341f"
      },
      "execution_count": 96,
      "outputs": [
        {
          "output_type": "stream",
          "name": "stdout",
          "text": [
            "원의 반지름 : 5\n",
            "면적 : 78.5\n"
          ]
        }
      ]
    },
    {
      "cell_type": "markdown",
      "source": [
        "### Quiz 2.\n",
        " - 숫자를 입력 받고 3의 배수인지 확인하기"
      ],
      "metadata": {
        "id": "7fIu_IESRGgY"
      }
    },
    {
      "cell_type": "code",
      "source": [
        "number = int(input('숫자 입력 :'))\n",
        "bool(number%3==0)"
      ],
      "metadata": {
        "colab": {
          "base_uri": "https://localhost:8080/"
        },
        "id": "rRh3zcsaRLki",
        "outputId": "6269c796-c230-4892-c896-d942f09c7434"
      },
      "execution_count": 98,
      "outputs": [
        {
          "name": "stdout",
          "output_type": "stream",
          "text": [
            "숫자 입력 :3\n"
          ]
        },
        {
          "output_type": "execute_result",
          "data": {
            "text/plain": [
              "True"
            ]
          },
          "metadata": {},
          "execution_count": 98
        }
      ]
    },
    {
      "cell_type": "markdown",
      "source": [
        "### 지수 표현\n",
        "- 예: '1.0e-4'\n",
        "- e의 앞 부분은 소수, 정수 둘다 됨\n",
        "- 뒷 부분은 정수여야 함\n",
        "- 뒷 부분이 음수면 소수점 자릿수를 의미함\n",
        "- e.E 둘 다 사용 가능"
      ],
      "metadata": {
        "id": "GqUKqbKNRVl1"
      }
    },
    {
      "cell_type": "code",
      "source": [
        "1.0e-4"
      ],
      "metadata": {
        "colab": {
          "base_uri": "https://localhost:8080/"
        },
        "id": "lx8ioxwwRZ6E",
        "outputId": "d41ca3ba-4cba-4fdc-db72-430fc084eb42"
      },
      "execution_count": 99,
      "outputs": [
        {
          "output_type": "execute_result",
          "data": {
            "text/plain": [
              "0.0001"
            ]
          },
          "metadata": {},
          "execution_count": 99
        }
      ]
    },
    {
      "cell_type": "code",
      "source": [
        "# 0.0004005 => 지수로 표현하기\n",
        "4005.0e-7"
      ],
      "metadata": {
        "colab": {
          "base_uri": "https://localhost:8080/"
        },
        "id": "tMNzwkAuRc-y",
        "outputId": "10dfb905-12e5-489d-9059-62057654c7be"
      },
      "execution_count": 100,
      "outputs": [
        {
          "output_type": "execute_result",
          "data": {
            "text/plain": [
              "0.0004005"
            ]
          },
          "metadata": {},
          "execution_count": 100
        }
      ]
    },
    {
      "cell_type": "markdown",
      "source": [
        "### IF 조건문\n",
        "#### 코드 짜는 팁\n",
        "- 주석 달기\n",
        "  - #, hash, sharp ..\n",
        "  - #, 시작 지점부터 라인 끝까지가 주석 처리됨. 라인이 바뀌면 코드로 인식\n",
        "  -\"\"\" \"\"\" : 긴 주석\n",
        "  - 문자열 안에 있는 sharp는 부호로 인식한다.\n",
        "  - 이유?? 코드에 대한 설명은 최대한 하지 않는다. 의도를 나타나기 위해, 오류가 있다거나, ...\n",
        "\n",
        "- 라인 유지하기\n",
        "  - 들여쓰기 (default space 4개, 탭을 이용해서)\n",
        "  - 논리 구조를 나타내기 때문에 굉장히 중요함.\n",
        "  - 한 라인에 88자 정도 (빽슬래시로 라인을 끊어준다 (\\))"
      ],
      "metadata": {
        "id": "TM5465zORkHX"
      }
    },
    {
      "cell_type": "code",
      "source": [
        "a = 3 # 주석입니다.\n",
        "\"\"\"\n",
        "주석1\n",
        "주석2\n",
        "주석3\n",
        "\n",
        "\"\"\"\n",
        "print(a) "
      ],
      "metadata": {
        "colab": {
          "base_uri": "https://localhost:8080/"
        },
        "id": "Dp4tUaq1SSt0",
        "outputId": "6d71ffe5-3d44-4477-f458-673ce54e3453"
      },
      "execution_count": 102,
      "outputs": [
        {
          "output_type": "stream",
          "name": "stdout",
          "text": [
            "3\n"
          ]
        }
      ]
    },
    {
      "cell_type": "code",
      "source": [
        "print('hey,ther #') # #이 문자열 안에 있어 부호로 인식"
      ],
      "metadata": {
        "colab": {
          "base_uri": "https://localhost:8080/"
        },
        "id": "SIZagjWOSeyf",
        "outputId": "2a62c63d-a944-4a6f-dac9-c17ad2587f1f"
      },
      "execution_count": 104,
      "outputs": [
        {
          "output_type": "stream",
          "name": "stdout",
          "text": [
            "hey,ther #\n"
          ]
        }
      ]
    },
    {
      "cell_type": "markdown",
      "source": [
        "### if\n",
        "if <조건식>:\n",
        "\n",
        "   <실행할 코드>"
      ],
      "metadata": {
        "id": "_VJIGdH4SrYA"
      }
    },
    {
      "cell_type": "code",
      "source": [
        "if 3 == 1:\n",
        "    print(\"두 수는 같다\") # 같지 않아서 안 나옴"
      ],
      "metadata": {
        "id": "O__DlvsyS2-J"
      },
      "execution_count": 105,
      "outputs": []
    },
    {
      "cell_type": "code",
      "source": [
        "if 3 != 1:\n",
        "    print(\"두 수는 같지 않다\") # 같지 않아서 나옴"
      ],
      "metadata": {
        "colab": {
          "base_uri": "https://localhost:8080/"
        },
        "id": "KQr5oBKjS2qk",
        "outputId": "217bd1f2-e973-431e-b1ca-bd7b5570d3b9"
      },
      "execution_count": 106,
      "outputs": [
        {
          "output_type": "stream",
          "name": "stdout",
          "text": [
            "두 수는 같지 않다\n"
          ]
        }
      ]
    },
    {
      "cell_type": "markdown",
      "source": [
        "####if-else\n",
        "\n",
        "if<조건식>:\n",
        "  \n",
        "   <실행할 코드>\n",
        "\n",
        "else:\n",
        "   \n",
        " <실행할 코드2>"
      ],
      "metadata": {
        "id": "xzLD1QdxTGp1"
      }
    },
    {
      "cell_type": "code",
      "source": [
        "if 3 != 1:\n",
        "    print(\"두 수는 같지 않다\")\n",
        "else:\n",
        "    print(\"두 수가 같다\")"
      ],
      "metadata": {
        "colab": {
          "base_uri": "https://localhost:8080/"
        },
        "id": "GIutQu-NTUOm",
        "outputId": "cf4bcfdd-ec5f-44de-b500-b5eeb6b0346b"
      },
      "execution_count": 108,
      "outputs": [
        {
          "output_type": "stream",
          "name": "stdout",
          "text": [
            "두 수는 같지 않다\n"
          ]
        }
      ]
    },
    {
      "cell_type": "markdown",
      "source": [
        "####if-elif-else\n",
        "if <조건식1>:\n",
        "\n",
        "  <실행할 코드1>\n",
        "  \n",
        "elif <조건식2>:\n",
        "\n",
        "  <실행할 코드2>\n",
        "\n",
        "else: \n",
        "\n",
        "   <실행할 코드3>"
      ],
      "metadata": {
        "id": "y5LYVYtGTWHe"
      }
    },
    {
      "cell_type": "code",
      "source": [
        "a = 4\n",
        "\n",
        "if a < 3:\n",
        "    print(\"3보다 작다\")\n",
        "elif a == 3:\n",
        "    print(\"3이다\")\n",
        "else:\n",
        "    print(\"3보다 크다\")"
      ],
      "metadata": {
        "colab": {
          "base_uri": "https://localhost:8080/"
        },
        "id": "pVs6EbTATdMN",
        "outputId": "cb44fb7c-08b2-42e4-bb03-f8b05a702adf"
      },
      "execution_count": 109,
      "outputs": [
        {
          "output_type": "stream",
          "name": "stdout",
          "text": [
            "3보다 크다\n"
          ]
        }
      ]
    },
    {
      "cell_type": "code",
      "source": [
        "# elif를 쓰지 않고 if 만 쓸 경우\n",
        "\n",
        "if a < 3:\n",
        "    print(\"3보다 작다\")\n",
        "if a == 3:\n",
        "    print(\"3이다\")\n",
        "if a > 4:\n",
        "    print(\"3보다 크다\") # 셋다 별개의 문제 위에 거가 맞든 틀리든 세개 다 함"
      ],
      "metadata": {
        "id": "Fl_tDg7TTg2H"
      },
      "execution_count": 111,
      "outputs": []
    },
    {
      "cell_type": "markdown",
      "source": [
        "### 비교연산자\n",
        " - x < y\n",
        " - x > y\n",
        " - x >= y\n",
        " - x <= y\n",
        " - x == y (값이)\n",
        " - x != y\n",
        " - x is y (값, 메모리주소)\n",
        " - x is not y"
      ],
      "metadata": {
        "id": "FUFJ25ZNTokq"
      }
    },
    {
      "cell_type": "markdown",
      "source": [
        "### 퀴즈\n",
        "- 1.시험 점수를 입력 받고, 80점 이상이면 True, 아니면 False 변형하기\n",
        "- 2.시험 점수를 입력 받고, 95이상 A+, 90이상 A, 85이상 B+, 나머지 F 로 출력하세요"
      ],
      "metadata": {
        "id": "G2RbwNsLTxru"
      }
    },
    {
      "cell_type": "code",
      "source": [
        "score = int(input(\"시험 점수 :\"))\n",
        "\n",
        "if score >= 80:\n",
        "    print(\"True\")\n",
        "else:\n",
        "    print(\"False\")\n",
        "\n",
        "if score >= 95 :\n",
        "    print(\"A+\")\n",
        "elif score >=90 :\n",
        "    print(\"A\")\n",
        "elif score >=85 :\n",
        "    print(\"B+\")\n",
        "else:\n",
        "    print(\"F\")"
      ],
      "metadata": {
        "colab": {
          "base_uri": "https://localhost:8080/"
        },
        "id": "JJbStrrGT0ne",
        "outputId": "f50d3b64-3984-4955-98f1-5ccf103689b5"
      },
      "execution_count": 112,
      "outputs": [
        {
          "output_type": "stream",
          "name": "stdout",
          "text": [
            "시험 점수 :75\n",
            "False\n",
            "F\n"
          ]
        }
      ]
    }
  ]
}